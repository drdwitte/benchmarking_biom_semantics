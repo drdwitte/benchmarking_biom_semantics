{
 "cells": [
  {
   "cell_type": "code",
   "execution_count": 19,
   "metadata": {
    "collapsed": true
   },
   "outputs": [],
   "source": [
    "import os\n",
    "import subprocess"
   ]
  },
  {
   "cell_type": "markdown",
   "metadata": {},
   "source": [
    "#### Create dir ./templated for generated queries per template"
   ]
  },
  {
   "cell_type": "code",
   "execution_count": 20,
   "metadata": {
    "collapsed": true
   },
   "outputs": [],
   "source": [
    "#TODO remove\n",
    "#os.chdir('/home/ddewitte/Desktop/tempScriptSchrijven')\n",
    "\n",
    "directory = 'templated'\n",
    "if not os.path.exists(directory):\n",
    "    os.makedirs(directory)\n",
    "    "
   ]
  },
  {
   "cell_type": "markdown",
   "metadata": {},
   "source": [
    "#### Create bash file to generate queries in ./templated"
   ]
  },
  {
   "cell_type": "code",
   "execution_count": 22,
   "metadata": {
    "collapsed": false
   },
   "outputs": [],
   "source": [
    "bash_script = open('queryscript.sh', \"w\")\n",
    "bash_script.write('#!bin/bash')\n",
    "bash_script.write('\\n')\n",
    "\n",
    "numQueriesPerTemplate = 100\n",
    "numQueryRetries = 1\n",
    "\n",
    "os.chdir('./testsuite')\n",
    "\n",
    "for i in os.listdir(os.getcwd()):\n",
    "    if i[-4:]=='.txt':\n",
    "        bash_script.write('bin/Release/watdiv -q ./model/wsdbm-data-model.txt ./testsuite/'+i + ' '+str(numQueriesPerTemplate)+' '\n",
    "                                                                                        +str(numQueryRetries)\n",
    "                                                                                        +' > templated/'\n",
    "                                                                                        +i[:-4]+'.sparql\\n')\n",
    "bash_script.close()\n",
    "os.chdir('../')"
   ]
  },
  {
   "cell_type": "code",
   "execution_count": 23,
   "metadata": {
    "collapsed": false
   },
   "outputs": [
    {
     "name": "stdout",
     "output_type": "stream",
     "text": [
      "stdout: b''\n",
      "stderr: None\n"
     ]
    }
   ],
   "source": [
    "shellcmd = [\"bash\", \"./queryscript.sh\"]\n",
    "p = subprocess.Popen(shellcmd, stdout=subprocess.PIPE)\n",
    "output, err = p.communicate()\n",
    "#print (\"stdout: \" + str(output))\n",
    "#print (\"stderr: \" + str(err))\n"
   ]
  },
  {
   "cell_type": "markdown",
   "metadata": {},
   "source": [
    "#### First we now have to run the bash script generated in previous shell\n",
    "#### Get all .sparql files in the templated directory"
   ]
  },
  {
   "cell_type": "code",
   "execution_count": 24,
   "metadata": {
    "collapsed": false
   },
   "outputs": [
    {
     "name": "stdout",
     "output_type": "stream",
     "text": [
      "['C1.sparql', 'L1.sparql']\n"
     ]
    }
   ],
   "source": [
    "#os.getcwd()\n",
    "os.chdir('./templated')\n",
    "\n",
    "files = []\n",
    "\n",
    "for i in os.listdir(os.getcwd()):\n",
    "    if  i[-7:]=='.sparql':\n",
    "        files.append(i)\n",
    "\n",
    "print(files)\n"
   ]
  },
  {
   "cell_type": "markdown",
   "metadata": {},
   "source": [
    "#### Now we iterate over all templated/*.sparql files, \n",
    "\n",
    "1. give them their own directory \n",
    "2. split to have one query per file\n",
    "3. generate a .list file with all paths"
   ]
  },
  {
   "cell_type": "code",
   "execution_count": 25,
   "metadata": {
    "collapsed": true
   },
   "outputs": [],
   "source": [
    "#function to extract a list of queries from a file of sparql queries\n",
    "def extractQueries(filename):\n",
    "    handle = open(filename, \"r\")\n",
    "    queries = []\n",
    "    lst = []\n",
    "    for l in handle:\n",
    "        l_tr = l.strip()\n",
    "        if l_tr[:6] == 'SELECT':\n",
    "            if len(lst)>0:\n",
    "                q = \" \".join(lst)\n",
    "                queries.append(q)\n",
    "                lst = None\n",
    "                lst = []\n",
    "                lst.append(l_tr)\n",
    "            else:\n",
    "                lst.append(l_tr)\n",
    "            \n",
    "        elif len(l_tr)==0: #newline\n",
    "            pass\n",
    "\n",
    "        else:\n",
    "            lst.append(l_tr)\n",
    "\n",
    "            \n",
    "    if len(lst)>0:\n",
    "        q = \" \".join(lst)\n",
    "        queries.append(q)\n",
    "              \n",
    "            \n",
    "    return queries"
   ]
  },
  {
   "cell_type": "code",
   "execution_count": 26,
   "metadata": {
    "collapsed": false
   },
   "outputs": [],
   "source": [
    "for f in files:\n",
    "    query_list = extractQueries(f)\n",
    "    \n",
    "    f_prefix = f.split('.')[0]\n",
    "    dirname = f_prefix\n",
    "    \n",
    "#1  #give them their own directory \n",
    "    if not os.path.exists(dirname):\n",
    "        os.makedirs(dirname)\n",
    "        \n",
    "    os.chdir(dirname)\n",
    "    \n",
    "    paths = []\n",
    "\n",
    "#2 one query per file\n",
    "    for i, query in enumerate(query_list):\n",
    "        \n",
    "        path = f_prefix+\"_split\"+str(i)+'.sparql'\n",
    "        text_file = open(path, \"w\")\n",
    "        text_file.write(query)\n",
    "        text_file.close()\n",
    "        paths.append(path)\n",
    "   \n",
    "\n",
    "    os.chdir('../')\n",
    "    \n",
    "#3 listfile    \n",
    "    listfile = open (f_prefix+'.lst',\"w\")\n",
    "    \n",
    "    for p in paths:\n",
    "        listfile.write('templated/'+f_prefix+'/'+p+\"\\n\")\n",
    "    \n",
    "    listfile.close()"
   ]
  },
  {
   "cell_type": "code",
   "execution_count": null,
   "metadata": {
    "collapsed": true
   },
   "outputs": [],
   "source": []
  }
 ],
 "metadata": {
  "kernelspec": {
   "display_name": "Python 3",
   "language": "python",
   "name": "python3"
  },
  "language_info": {
   "codemirror_mode": {
    "name": "ipython",
    "version": 3
   },
   "file_extension": ".py",
   "mimetype": "text/x-python",
   "name": "python",
   "nbconvert_exporter": "python",
   "pygments_lexer": "ipython3",
   "version": "3.4.3"
  }
 },
 "nbformat": 4,
 "nbformat_minor": 0
}
