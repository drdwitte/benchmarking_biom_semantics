{
 "cells": [
  {
   "cell_type": "code",
   "execution_count": 32,
   "metadata": {
    "collapsed": true
   },
   "outputs": [],
   "source": [
    "from datetime import datetime\n",
    "import re"
   ]
  },
  {
   "cell_type": "markdown",
   "metadata": {},
   "source": [
    "# Partitioning of RDF ntriples dataset\n",
    "\n",
    "* Average number of triples per subject?"
   ]
  },
  {
   "cell_type": "code",
   "execution_count": 18,
   "metadata": {
    "collapsed": false
   },
   "outputs": [
    {
     "name": "stdout",
     "output_type": "stream",
     "text": [
      "10916457\n",
      "521585\n"
     ]
    }
   ],
   "source": [
    "subjects = []\n",
    "with open('watdiv.10M.nt') as f:\n",
    "    for line in f:\n",
    "        \n",
    "        start = line.find('<')\n",
    "        stop = line.find('>')\n",
    "        subject = line[start:stop+1]\n",
    "        \n",
    "        subjects.append(subject)\n",
    "        c+=1\n",
    "\n",
    "            \n",
    "print(len(subjects))    \n",
    "print(len(set(subjects)))"
   ]
  },
  {
   "cell_type": "markdown",
   "metadata": {},
   "source": [
    "### Check whether the distribution is sufficiently balanced for random hash partitioning?"
   ]
  },
  {
   "cell_type": "code",
   "execution_count": 19,
   "metadata": {
    "collapsed": false
   },
   "outputs": [],
   "source": [
    "c=0\n",
    "sub_distribution = {}\n",
    "hash_distribution = {}\n",
    "for sub in subjects:\n",
    "    c+=1    \n",
    "    \n",
    "    sub_distribution[sub] = (sub_distribution[sub] + 1) if sub in sub_distribution else 1\n",
    "    \n",
    "    \n",
    "    h = abs(hash(sub)) % 3\n",
    "    \n",
    "    hash_distribution[h] = (hash_distribution[h] + 1) if h in hash_distribution else 1\n",
    "    \n",
    "    #print(h)\n",
    "    \n",
    "        "
   ]
  },
  {
   "cell_type": "markdown",
   "metadata": {},
   "source": [
    "### No huge outliers => random partitioning might work"
   ]
  },
  {
   "cell_type": "code",
   "execution_count": 24,
   "metadata": {
    "collapsed": false
   },
   "outputs": [
    {
     "data": {
      "text/plain": [
       "[319,\n",
       " 317,\n",
       " 316,\n",
       " 313,\n",
       " 312,\n",
       " 312,\n",
       " 304,\n",
       " 303,\n",
       " 303,\n",
       " 303,\n",
       " 303,\n",
       " 302,\n",
       " 302,\n",
       " 302,\n",
       " 301,\n",
       " 301,\n",
       " 301,\n",
       " 300,\n",
       " 299,\n",
       " 298,\n",
       " 298,\n",
       " 297,\n",
       " 297,\n",
       " 297]"
      ]
     },
     "execution_count": 24,
     "metadata": {},
     "output_type": "execute_result"
    }
   ],
   "source": [
    "freqs = sub_distribution.values()\n",
    "freqs = sorted(freqs)\n",
    "freqs[-1:-25:-1]"
   ]
  },
  {
   "cell_type": "markdown",
   "metadata": {},
   "source": [
    "### With 3 partitions, how many triples per partition with random subject hashing?"
   ]
  },
  {
   "cell_type": "code",
   "execution_count": 25,
   "metadata": {
    "collapsed": false
   },
   "outputs": [
    {
     "name": "stdout",
     "output_type": "stream",
     "text": [
      "{0: 3643851, 1: 3622615, 2: 3649991}\n"
     ]
    }
   ],
   "source": [
    "print(hash_distribution)"
   ]
  },
  {
   "cell_type": "markdown",
   "metadata": {},
   "source": [
    "# Code for Watdiv1000"
   ]
  },
  {
   "cell_type": "code",
   "execution_count": 39,
   "metadata": {
    "collapsed": false
   },
   "outputs": [
    {
     "name": "stdout",
     "output_type": "stream",
     "text": [
      "2016-12-27 11:45:46.607977\n",
      "1.0\n",
      "2.0\n",
      "3.0\n",
      "4.0\n",
      "5.0\n",
      "6.0\n",
      "7.0\n",
      "8.0\n",
      "9.0\n",
      "10.0\n",
      "2016-12-27 11:46:20.220535\n"
     ]
    }
   ],
   "source": [
    "c=0\n",
    "print(str(datetime.now()))\n",
    "with open('watdiv.10M.nt', 'r') as watdiv_in, open('watdiv.333M_1.nt', 'w') as watdiv_out_1, open('watdiv.333M_2.nt', 'w') as watdiv_out_2, \\\n",
    "    open('watdiv.333M_3.nt', 'w') as watdiv_out_3:\n",
    "        \n",
    "        outputstreams = [watdiv_out_1, watdiv_out_2, watdiv_out_3]\n",
    "        \n",
    "        for ntriple in watdiv_in:\n",
    "            \n",
    "            start = ntriple.find('<')\n",
    "            stop = ntriple.find('>')\n",
    "            subject = ntriple[start:stop+1]\n",
    "            \n",
    "            h = hash(subject) % 3\n",
    "\n",
    "            outputstreams[h].write(ntriple )\n",
    "            \n",
    "            c+=1\n",
    "            \n",
    "            if c%1e6 == 0:\n",
    "                print(c/1e6)\n",
    "\n",
    "print(str(datetime.now()))\n"
   ]
  },
  {
   "cell_type": "code",
   "execution_count": null,
   "metadata": {
    "collapsed": true
   },
   "outputs": [],
   "source": []
  }
 ],
 "metadata": {
  "kernelspec": {
   "display_name": "Python 3",
   "language": "python",
   "name": "python3"
  },
  "language_info": {
   "codemirror_mode": {
    "name": "ipython",
    "version": 3
   },
   "file_extension": ".py",
   "mimetype": "text/x-python",
   "name": "python",
   "nbconvert_exporter": "python",
   "pygments_lexer": "ipython3",
   "version": "3.4.3"
  }
 },
 "nbformat": 4,
 "nbformat_minor": 0
}
