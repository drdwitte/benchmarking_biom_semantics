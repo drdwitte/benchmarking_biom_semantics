{
 "cells": [
  {
   "cell_type": "code",
   "execution_count": 1,
   "metadata": {
    "collapsed": true
   },
   "outputs": [],
   "source": [
    "import pandas as pd\n",
    "from pandas import DataFrame, Series\n",
    "#false positive warnings all the time:\n",
    "pd.options.mode.chained_assignment = None\n",
    "\n",
    "%matplotlib inline\n",
    "import matplotlib as mpl\n",
    "import matplotlib.pyplot as plt\n",
    "\n",
    "import numpy as np\n",
    "import statistics\n",
    "\n",
    "import os.path"
   ]
  },
  {
   "cell_type": "code",
   "execution_count": 2,
   "metadata": {
    "collapsed": true
   },
   "outputs": [],
   "source": [
    "#http://matplotlib.org/1.4.0/users/customizing.html\n",
    "\n",
    "plt.style.use('ggplot')\n",
    "\n",
    "mpl.rcParams['font.size'] = 18\n",
    "\n",
    "### LINES\n",
    "mpl.rcParams['lines.linewidth'] = '2.0'        # line width in points\n",
    "mpl.rcParams['lines.marker']    = 'None'\n",
    "mpl.rcParams['lines.markersize']=  '6'          # markersize, in points\n",
    "\n",
    "###LEGEND\n",
    "mpl.rcParams['legend.fontsize']='medium'\n",
    "\n",
    "### GRIDS\n",
    "mpl.rcParams['grid.color']='black'     # grid color\n",
    "mpl.rcParams['grid.linestyle'] =':'    # dotted\n",
    "mpl.rcParams['grid.linewidth']='0.5'   # in points\n",
    "mpl.rcParams['grid.alpha']='1.0'       # transparency, between 0.0 and 1.0\n",
    "\n",
    "### TICKS\n",
    "mpl.rcParams['xtick.labelsize']=\"small\"  # fontsize of the tick labels\n",
    "mpl.rcParams['xtick.direction']=\"out\"      # direction: in, out, or inout\n",
    "mpl.rcParams['ytick.labelsize']=\"small\"   # fontsize of the tick labels\n",
    "mpl.rcParams['ytick.direction']=\"out\"      # direction: in, out, or inout\n",
    "\n",
    "### AXES\n",
    "mpl.rcParams['axes.linewidth']  =  '1.0'    # edge linewidth\n",
    "mpl.rcParams['axes.grid']       =  'True'   # display grid or not\n",
    "mpl.rcParams['axes.titlesize']  =  'large'  # fontsize of the axes title\n",
    "mpl.rcParams['axes.labelsize']  = 'large'  # fontsize of the x any y labels\n",
    "mpl.rcParams['axes.facecolor']= 'white'     # axes background color\n",
    "\n",
    "mpl.rcParams['figure.facecolor']= '1.0'     # figure facecolor; 0.75 is scalar gray"
   ]
  },
  {
   "cell_type": "markdown",
   "metadata": {},
   "source": [
    "# 1. Is het number of results per query consistent between query mixes in the same simulation?\n",
    "\n",
    "### TRYOUT"
   ]
  },
  {
   "cell_type": "code",
   "execution_count": 3,
   "metadata": {
    "collapsed": true
   },
   "outputs": [],
   "source": [
    "filename = './csv/Blazegraph_N1_64_Watdiv1000M_Optimized_queryevents.csv'\n",
    "\n",
    "df = pd.read_csv(filename, sep='\\t')"
   ]
  },
  {
   "cell_type": "code",
   "execution_count": 4,
   "metadata": {},
   "outputs": [
    {
     "name": "stdout",
     "output_type": "stream",
     "text": [
      "(2400, 8)\n",
      "(2392, 8)\n",
      "Total number of inconsistencies: 0\n"
     ]
    }
   ],
   "source": [
    "print(df.shape)\n",
    "df = df[df['flag'] == 'SUCCESS']\n",
    "print(df.shape)\n",
    "\n",
    "grouped =  df.groupby(['sim_id','query_name'], as_index=False)\n",
    "df_consistent =grouped.agg({'flag': np.size, 'number_of_results': pd.Series.nunique})\n",
    "df_consistent.rename(columns={\"flag\": 'number_of_successes', \"number_of_results\": \"number_of_different_results\"})\n",
    "\n",
    "inconsistencies = df_consistent[df_consistent['number_of_results'] > 1].shape[0]\n",
    "\n",
    "print('Total number of inconsistencies: ' + str(inconsistencies))"
   ]
  },
  {
   "cell_type": "code",
   "execution_count": 5,
   "metadata": {
    "collapsed": true
   },
   "outputs": [],
   "source": [
    "def generateFilename(bmtuple):\n",
    "    fname = './csv/' +  bmtuple[0] + \"_N\" + str(bmtuple[1]) + \"_\" + str(bmtuple[2]) + \"_\" + bmtuple[3] + \"_\" + bmtuple[4]\n",
    "    if len(str(bmtuple[5])) != 0:\n",
    "        fname = fname + \"_\" + str(bmtuple[5])\n",
    "    return fname + \"_queryevents.csv\""
   ]
  },
  {
   "cell_type": "code",
   "execution_count": 6,
   "metadata": {
    "collapsed": true
   },
   "outputs": [],
   "source": [
    "def createInconsistencyDF(bm_tuple):\n",
    "    filename = generateFilename(bm_tuple)\n",
    "    df = pd.read_csv(filename, sep='\\t')\n",
    "    grouped =  df.groupby(['sim_id','query_name'], as_index=False)\n",
    "    df_consistent =grouped.agg({'flag': np.size, 'number_of_results': pd.Series.nunique})\n",
    "    df_consistent.rename(columns={\"flag\": 'number_of_successes', \"number_of_results\": \"number_of_different_results\"})\n",
    "    \n",
    "    return df_consistent"
   ]
  },
  {
   "cell_type": "markdown",
   "metadata": {},
   "source": [
    "### TEST"
   ]
  },
  {
   "cell_type": "code",
   "execution_count": 7,
   "metadata": {},
   "outputs": [
    {
     "name": "stdout",
     "output_type": "stream",
     "text": [
      "Total number of inconsistencies: 0\n"
     ]
    }
   ],
   "source": [
    "bm_tup = ('Blazegraph', 1, 64, 'Watdiv1000M', 'Optimized', '')\n",
    "\n",
    "df = createInconsistencyDF(bm_tup)\n",
    "inconsistencies = df_consistent[df_consistent['number_of_results'] > 1].shape[0]\n",
    "print('Total number of inconsistencies: ' + str(inconsistencies))"
   ]
  },
  {
   "cell_type": "markdown",
   "metadata": {},
   "source": [
    "# 2. Test for all simulations \n",
    "\n",
    "## A. Enterprise stores Watdiv10M"
   ]
  },
  {
   "cell_type": "code",
   "execution_count": 8,
   "metadata": {},
   "outputs": [
    {
     "name": "stdout",
     "output_type": "stream",
     "text": [
      "Total number of inconsistencies for Blazegraph: 0\n",
      "Total number of inconsistencies for GraphDB: 0\n",
      "Total number of inconsistencies for ES: 0\n",
      "Total number of inconsistencies for Virtuoso: 0\n"
     ]
    }
   ],
   "source": [
    "tuple_list = [('Blazegraph', 1, 32,'Watdiv10M', 'Default', ''), \\\n",
    "    ('GraphDB', 1, 32,'Watdiv10M', 'Default', ''), \\\n",
    "    ('ES', 1, 32,'Watdiv10M', 'Default', ''), \\\n",
    "    ('Virtuoso', 1, 32,'Watdiv10M', 'Default', '')]   \n",
    "\n",
    "for bm_tup in tuple_list:\n",
    "    df = createInconsistencyDF(bm_tup)\n",
    "    inconsistencies = df_consistent[df_consistent['number_of_results'] > 1].shape[0]\n",
    "    print('Total number of inconsistencies for ' + bm_tup[0] + ': ' + str(inconsistencies))"
   ]
  },
  {
   "cell_type": "markdown",
   "metadata": {},
   "source": [
    "## B. Enterprise stores Watdiv 100M"
   ]
  },
  {
   "cell_type": "code",
   "execution_count": 9,
   "metadata": {},
   "outputs": [
    {
     "name": "stdout",
     "output_type": "stream",
     "text": [
      "Total number of inconsistencies for Blazegraph: 0\n",
      "Total number of inconsistencies for GraphDB: 0\n",
      "Total number of inconsistencies for Virtuoso: 0\n"
     ]
    }
   ],
   "source": [
    "tuple_list = [('Blazegraph', 1, 32,'Watdiv100M', 'Default', ''), \\\n",
    "    ('GraphDB', 1, 32,'Watdiv100M', 'Default', ''), \\\n",
    "#    ('ES', 1, 32,'Watdiv100M', 'Default', ''), \\ MISSING\n",
    "    ('Virtuoso', 1, 32,'Watdiv100M', 'Default', '')]   \n",
    "\n",
    "for bm_tup in tuple_list:\n",
    "    df = createInconsistencyDF(bm_tup)\n",
    "    inconsistencies = df_consistent[df_consistent['number_of_results'] > 1].shape[0]\n",
    "    print('Total number of inconsistencies for ' + bm_tup[0] + ': ' + str(inconsistencies))"
   ]
  },
  {
   "cell_type": "markdown",
   "metadata": {},
   "source": [
    "## C. Enterprise stores Watdiv 1000M: single node\n"
   ]
  },
  {
   "cell_type": "code",
   "execution_count": 10,
   "metadata": {},
   "outputs": [
    {
     "name": "stdout",
     "output_type": "stream",
     "text": [
      "Total number of inconsistencies for Blazegraph: 0\n",
      "Total number of inconsistencies for ES: 0\n",
      "Total number of inconsistencies for Virtuoso: 0\n",
      "Total number of inconsistencies for Blazegraph: 0\n",
      "Total number of inconsistencies for GraphDB: 0\n",
      "Total number of inconsistencies for ES: 0\n",
      "Total number of inconsistencies for Virtuoso: 0\n",
      "Total number of inconsistencies for Blazegraph: 0\n",
      "Total number of inconsistencies for GraphDB: 0\n",
      "Total number of inconsistencies for Virtuoso: 0\n"
     ]
    }
   ],
   "source": [
    "tuple_list = [('Blazegraph', 1, 32,'Watdiv1000M', 'Default', ''), \\\n",
    "   # ('GraphDB', 1, 32,'Watdiv1000M', 'Default', ''), \\ MISSING FILE\n",
    "    ('ES', 1, 32,'Watdiv1000M', 'Default', ''), \\\n",
    "    ('Virtuoso', 1, 32,'Watdiv1000M', 'Default', ''), \\\n",
    "    ('Blazegraph', 1, 64,'Watdiv1000M', 'Default', ''), \\\n",
    "    ('GraphDB', 1, 64,'Watdiv1000M', 'Default', ''), \\\n",
    "    ('ES', 1, 64,'Watdiv1000M', 'Default', ''), \\\n",
    "    ('Virtuoso', 1, 64,'Watdiv1000M', 'Default', ''), \\\n",
    "    ('Blazegraph', 1, 64,'Watdiv1000M', 'Optimized', ''), \\\n",
    "    ('GraphDB', 1, 64,'Watdiv1000M', 'Optimized', ''), \\\n",
    "    #('ES', 1, 64,'Watdiv1000M', 'Optimized', ''), \\\n",
    "    ('Virtuoso', 1, 64,'Watdiv1000M', 'Optimized', '')] \n",
    "          \n",
    "              \n",
    "\n",
    "for bm_tup in tuple_list:\n",
    "    df = createInconsistencyDF(bm_tup)\n",
    "    inconsistencies = df_consistent[df_consistent['number_of_results'] > 1].shape[0]\n",
    "    print('Total number of inconsistencies for ' + bm_tup[0] + ': ' + str(inconsistencies))"
   ]
  },
  {
   "cell_type": "markdown",
   "metadata": {},
   "source": [
    "## D. Enterprise stores Watdiv 1000M: multi-node\n"
   ]
  },
  {
   "cell_type": "code",
   "execution_count": 11,
   "metadata": {},
   "outputs": [
    {
     "name": "stdout",
     "output_type": "stream",
     "text": [
      "Total number of inconsistencies for ES: 0\n",
      "Total number of inconsistencies for Virtuoso: 0\n"
     ]
    }
   ],
   "source": [
    "tuple_list = [#('Blazegraph', 3, 32,'Watdiv1000M', 'Default', ''), \\\n",
    "    #('GraphDB', 3, 32,'Watdiv1000M', 'Default', ''), \\\n",
    "    ('ES', 3, 32,'Watdiv1000M', 'Default', ''), \\\n",
    "    ('Virtuoso', 3, 32,'Watdiv1000M', 'Default', '')] \n",
    "\n",
    "for bm_tup in tuple_list:\n",
    "    df = createInconsistencyDF(bm_tup)\n",
    "    inconsistencies = df_consistent[df_consistent['number_of_results'] > 1].shape[0]\n",
    "    print('Total number of inconsistencies for ' + bm_tup[0] + ': ' + str(inconsistencies))"
   ]
  },
  {
   "cell_type": "markdown",
   "metadata": {},
   "source": [
    "## E. Other stores Watdiv \n"
   ]
  },
  {
   "cell_type": "code",
   "execution_count": 12,
   "metadata": {},
   "outputs": [
    {
     "name": "stdout",
     "output_type": "stream",
     "text": [
      "Total number of inconsistencies for Fuseki: 0\n",
      "Total number of inconsistencies for LDF: 0\n",
      "Total number of inconsistencies for LDF: 0\n",
      "Total number of inconsistencies for FluidOps: 0\n",
      "Total number of inconsistencies for Fuseki: 0\n",
      "Total number of inconsistencies for LDF: 0\n",
      "Total number of inconsistencies for LDF: 0\n",
      "Total number of inconsistencies for FluidOps: 0\n",
      "Total number of inconsistencies for FluidOps: 0\n"
     ]
    }
   ],
   "source": [
    "tuple_list = [('Fuseki', 1, 64,'Watdiv100M', 'Default', ''), \\\n",
    "    ('LDF', 1, 64,'Watdiv100M', 'Default', ''), \\\n",
    "    ('LDF', 3, 64,'Watdiv100M', 'Default', ''), \\\n",
    "    ('FluidOps', 3, 64,'Watdiv100M', 'Default', ''), \\\n",
    "    ('Fuseki', 1, 64,'Watdiv1000M', 'Default', ''), \\\n",
    "    ('LDF', 1, 64,'Watdiv1000M', 'Default', ''), \\\n",
    "    ('LDF', 3, 64,'Watdiv1000M', 'Default', ''), \\\n",
    "    ('FluidOps', 1, 64,'Watdiv1000M', 'Default', ''), \\\n",
    "    ('FluidOps', 3, 64,'Watdiv1000M', 'Default', '')]\n",
    "\n",
    "for bm_tup in tuple_list:\n",
    "    df = createInconsistencyDF(bm_tup)\n",
    "    inconsistencies = df_consistent[df_consistent['number_of_results'] > 1].shape[0]\n",
    "    print('Total number of inconsistencies for ' + bm_tup[0] + ': ' + str(inconsistencies))"
   ]
  },
  {
   "cell_type": "markdown",
   "metadata": {},
   "source": [
    "## F. Ontoforce\n"
   ]
  },
  {
   "cell_type": "code",
   "execution_count": 13,
   "metadata": {},
   "outputs": [
    {
     "name": "stdout",
     "output_type": "stream",
     "text": [
      "Total number of inconsistencies for Blazegraph: 0\n",
      "Total number of inconsistencies for GraphDB: 0\n",
      "Total number of inconsistencies for ES: 0\n",
      "Total number of inconsistencies for Virtuoso: 0\n",
      "Total number of inconsistencies for Virtuoso: 0\n",
      "Total number of inconsistencies for Virtuoso: 0\n",
      "Total number of inconsistencies for Virtuoso: 0\n",
      "Total number of inconsistencies for Virtuoso: 0\n",
      "Total number of inconsistencies for Virtuoso: 0\n",
      "Total number of inconsistencies for Virtuoso: 0\n",
      "Total number of inconsistencies for Virtuoso: 0\n",
      "Total number of inconsistencies for Virtuoso: 0\n",
      "Total number of inconsistencies for Virtuoso: 0\n",
      "Total number of inconsistencies for Virtuoso: 0\n",
      "Total number of inconsistencies for Fuseki: 0\n",
      "Total number of inconsistencies for FluidOps: 0\n",
      "Total number of inconsistencies for FluidOps: 0\n",
      "Total number of inconsistencies for FluidOps: 0\n",
      "Total number of inconsistencies for FluidOps: 0\n",
      "Total number of inconsistencies for FluidOps: 0\n",
      "Total number of inconsistencies for FluidOps: 0\n"
     ]
    }
   ],
   "source": [
    "tuple_list = [('Blazegraph', 1, 64,'Ontoforce', 'Optimized', ''), \\\n",
    "    ('GraphDB', 1, 64,'Ontoforce', 'Optimized', ''), \\\n",
    "    ('ES', 1, 64,'Ontoforce', 'Default', ''), \\\n",
    "    ('Virtuoso', 1, 64,'Ontoforce', 'Optimized', ''), \\\n",
    "    ('Virtuoso', 1, 32,'Ontoforce', 'Optimized', ''), \\\n",
    "    ('Virtuoso', 1, 32,'Ontoforce', 'Optimized', 'VWall'), \\\n",
    "    ('Virtuoso', 1, 64,'Ontoforce', 'Optimized', ''), \\\n",
    "    ('Virtuoso', 1, 64,'Ontoforce', 'Optimized', 'VWall'), \\\n",
    "    ('Virtuoso', 3, 64,'Ontoforce', 'Optimized', '0'), \\\n",
    "    ('Virtuoso', 3, 64,'Ontoforce', 'Optimized', '1'), \\\n",
    "    ('Virtuoso', 3, 64,'Ontoforce', 'Optimized', '2'), \\\n",
    "    ('Virtuoso', 3, 64,'Ontoforce', 'Optimized', 'AWS1'), \\\n",
    "    ('Virtuoso', 3, 64,'Ontoforce', 'Optimized', 'AWS2'), \\\n",
    "    ('Virtuoso', 3, 64,'Ontoforce', 'Optimized', 'AWS3'), \\\n",
    "    ('Fuseki', 1, 64,'Ontoforce', 'Default', ''), \\\n",
    "    ('FluidOps', 1, 64,'Ontoforce', 'Default', '1'), \\\n",
    "    ('FluidOps', 1, 64,'Ontoforce', 'Default', '2'), \\\n",
    "    ('FluidOps', 1, 64,'Ontoforce', 'Default', '3'), \\\n",
    "    ('FluidOps', 3, 64,'Ontoforce', 'Default', '1'), \\\n",
    "    ('FluidOps', 3, 64,'Ontoforce', 'Default', '2'), \\\n",
    "    ('FluidOps', 3, 64,'Ontoforce', 'Default', '3')]\n",
    "\n",
    "for bm_tup in tuple_list:\n",
    "    df = createInconsistencyDF(bm_tup)\n",
    "    inconsistencies = df_consistent[df_consistent['number_of_results'] > 1].shape[0]\n",
    "    print('Total number of inconsistencies for ' + bm_tup[0] + ': ' + str(inconsistencies))"
   ]
  },
  {
   "cell_type": "markdown",
   "metadata": {},
   "source": [
    "# Conclusion: No interthread inconsistencies!"
   ]
  },
  {
   "cell_type": "code",
   "execution_count": null,
   "metadata": {
    "collapsed": true
   },
   "outputs": [],
   "source": []
  }
 ],
 "metadata": {
  "kernelspec": {
   "display_name": "Python 3",
   "language": "python",
   "name": "python3"
  },
  "language_info": {
   "codemirror_mode": {
    "name": "ipython",
    "version": 3
   },
   "file_extension": ".py",
   "mimetype": "text/x-python",
   "name": "python",
   "nbconvert_exporter": "python",
   "pygments_lexer": "ipython3",
   "version": "3.6.3"
  }
 },
 "nbformat": 4,
 "nbformat_minor": 1
}
