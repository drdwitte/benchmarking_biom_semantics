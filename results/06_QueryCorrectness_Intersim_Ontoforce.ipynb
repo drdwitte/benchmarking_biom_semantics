{
 "cells": [
  {
   "cell_type": "code",
   "execution_count": 1,
   "metadata": {
    "collapsed": true
   },
   "outputs": [],
   "source": [
    "import pandas as pd\n",
    "from pandas import DataFrame, Series\n",
    "#false positive warnings all the time:\n",
    "pd.options.mode.chained_assignment = None\n",
    "\n",
    "%matplotlib inline\n",
    "import matplotlib as mpl\n",
    "import matplotlib.pyplot as plt\n",
    "\n",
    "import numpy as np\n",
    "import statistics\n",
    "\n",
    "import os.path"
   ]
  },
  {
   "cell_type": "code",
   "execution_count": 2,
   "metadata": {
    "collapsed": true
   },
   "outputs": [],
   "source": [
    "#http://matplotlib.org/1.4.0/users/customizing.html\n",
    "\n",
    "plt.style.use('ggplot')\n",
    "\n",
    "mpl.rcParams['font.size'] = 18\n",
    "\n",
    "### LINES\n",
    "mpl.rcParams['lines.linewidth'] = '2.0'        # line width in points\n",
    "mpl.rcParams['lines.marker']    = 'None'\n",
    "mpl.rcParams['lines.markersize']=  '6'          # markersize, in points\n",
    "\n",
    "###LEGEND\n",
    "mpl.rcParams['legend.fontsize']='medium'\n",
    "\n",
    "### GRIDS\n",
    "mpl.rcParams['grid.color']='black'     # grid color\n",
    "mpl.rcParams['grid.linestyle'] =':'    # dotted\n",
    "mpl.rcParams['grid.linewidth']='0.5'   # in points\n",
    "mpl.rcParams['grid.alpha']='1.0'       # transparency, between 0.0 and 1.0\n",
    "\n",
    "### TICKS\n",
    "mpl.rcParams['xtick.labelsize']=\"small\"  # fontsize of the tick labels\n",
    "mpl.rcParams['xtick.direction']=\"out\"      # direction: in, out, or inout\n",
    "mpl.rcParams['ytick.labelsize']=\"small\"   # fontsize of the tick labels\n",
    "mpl.rcParams['ytick.direction']=\"out\"      # direction: in, out, or inout\n",
    "\n",
    "### AXES\n",
    "mpl.rcParams['axes.linewidth']  =  '1.0'    # edge linewidth\n",
    "mpl.rcParams['axes.grid']       =  'True'   # display grid or not\n",
    "mpl.rcParams['axes.titlesize']  =  'large'  # fontsize of the axes title\n",
    "mpl.rcParams['axes.labelsize']  = 'large'  # fontsize of the x any y labels\n",
    "mpl.rcParams['axes.facecolor']= 'white'     # axes background color\n",
    "\n",
    "mpl.rcParams['figure.facecolor']= '1.0'     # figure facecolor; 0.75 is scalar gray"
   ]
  },
  {
   "cell_type": "code",
   "execution_count": 3,
   "metadata": {
    "collapsed": true
   },
   "outputs": [],
   "source": [
    "def generateFilenameResultsPerQuery(bmtuple):\n",
    "    fname = './resultsperquery_csv/' +  bmtuple[0] + \"_N\" + str(bmtuple[1]) + \"_\" + str(bmtuple[2]) + \"_\" + bmtuple[3] + \"_\" + bmtuple[4]\n",
    "    if len(str(bmtuple[5])) != 0:\n",
    "        fname = fname + \"_\" + str(bmtuple[5])\n",
    "    return fname + \"_queryresults.csv\" \n",
    "\n",
    "\n",
    "def generateSimulationID(tup):\n",
    "    identifier = tup[0] \\\n",
    "            + \"_N\" + str(tup[1]) \\\n",
    "            + \"_\" + str(tup[2]) \\\n",
    "            + \"_\" + tup[3] \\\n",
    "            + \"_\" + tup[4] \\\n",
    "    \n",
    "    extra = \"\"\n",
    "    if len(tup[5]) !=0:\n",
    "        extra = \"_\" + str(tup[5])\n",
    "    \n",
    "    return identifier+extra\n",
    "\n",
    "\n",
    "simulation_map = {\n",
    "    \"Watdiv10M\": \"W10\", \"Watdiv100M\": \"W100\", \"Watdiv1000M\": \"W1000\", \"Ontoforce\": \"Ont\"\n",
    "}\n",
    "\n",
    "def generateSimulationIDCompact(tup, pref_length=3):\n",
    "    #pref_length = 3\n",
    "    identifier = tup[0][:pref_length] \\\n",
    "            + \"_N\" + str(tup[1]) \\\n",
    "            + \"_\" + str(tup[2]) \\\n",
    "            + \"_\" + simulation_map[tup[3]] \\\n",
    "            + \"_\" + str(tup[4])[:pref_length] \\\n",
    "    \n",
    "    extra = \"\"\n",
    "    if len(tup[5]) !=0:\n",
    "        extra = \"_\" + str(tup[5])\n",
    "    \n",
    "    return identifier+extra"
   ]
  },
  {
   "cell_type": "code",
   "execution_count": 4,
   "metadata": {
    "collapsed": true
   },
   "outputs": [],
   "source": [
    "def getInconsistentResultQueries(tuple_list):\n",
    "    dfs = [pd.read_csv(generateFilenameResultsPerQuery(bm_tuple),sep='\\t') for bm_tuple in tuple_list]\n",
    "    df_all = pd.concat(dfs)\n",
    "    grouped =  df_all.groupby(['query_name'], as_index=False)\n",
    "    df_consistent = grouped.agg({'number_of_results': pd.Series.nunique})\n",
    "    df_consistent = df_consistent.rename(columns={\"number_of_results\": \"number_of_different_results\"})\n",
    "    df_inconsistent = df_consistent[df_consistent['number_of_different_results'] !=1]\n",
    "    \n",
    "    return df_inconsistent\n",
    "\n",
    "def reworkResultsDF(tuple_list):\n",
    "    dfs = []\n",
    "    \n",
    "    for bm_tuple in tuple_list:\n",
    "        df = pd.read_csv(generateFilenameResultsPerQuery(bm_tuple),sep='\\t')\n",
    "        df = df.rename(columns={'number_of_results': generateSimulationIDCompact(bm_tuple)})\n",
    "        df.drop('sim_id', axis=1, inplace=True)    \n",
    "        dfs.append(df)\n",
    "    \n",
    "    df_combined = None\n",
    "    \n",
    "    for df in dfs:\n",
    "        if df_combined is None:\n",
    "            df_combined = df\n",
    "        else:\n",
    "            df_combined = pd.merge(df_combined, df, how='outer', on='query_name')\n",
    "    return df_combined"
   ]
  },
  {
   "cell_type": "markdown",
   "metadata": {},
   "source": [
    "# 1. Create a consensus DataFrame: number of results per query\n",
    "\n",
    "* we start from *query_results.csv since we already observed that between threads the results are always consistent\n",
    "\n",
    "***REMARK (warmup threads x mixsize + stress threads x mixsize:*** \n",
    "    \n",
    "\n",
    "\n",
    "\n",
    "\n",
    "\n",
    "## A. (NoSQL,*,*,Ontoforce,Optimized)     => #query events = 1 x 1,223 + 5 x 1,223\n",
    "\n",
    "### Tryout: Reuse functionality from 09_IntersimQueryCorrectness\n",
    "\n",
    "\n",
    "* We already now that  ('Virtuoso', 1, 32,'Ontoforce', 'Optimized', '' ) is incorrect, also the multinode simulations cannot be fully trusted => generate consensus here "
   ]
  },
  {
   "cell_type": "code",
   "execution_count": 5,
   "metadata": {
    "collapsed": true
   },
   "outputs": [],
   "source": [
    "tuple_list = [('Blazegraph', 1, 64,'Ontoforce', 'Optimized', ''), \\\n",
    "    ('GraphDB', 1, 64,'Ontoforce', 'Optimized', ''), \\\n",
    "    ('ES', 1, 64,'Ontoforce', 'Default', ''), \\\n",
    "    ('Virtuoso', 1, 64,'Ontoforce', 'Optimized', ''), \\\n",
    "    ('Virtuoso', 1, 64,'Ontoforce', 'Optimized', 'VWall'), \\\n",
    "    ('Virtuoso', 1, 32,'Ontoforce', 'Optimized', 'VWall'),\n",
    "             ] "
   ]
  },
  {
   "cell_type": "code",
   "execution_count": 6,
   "metadata": {},
   "outputs": [
    {
     "data": {
      "text/html": [
       "<div>\n",
       "<style>\n",
       "    .dataframe thead tr:only-child th {\n",
       "        text-align: right;\n",
       "    }\n",
       "\n",
       "    .dataframe thead th {\n",
       "        text-align: left;\n",
       "    }\n",
       "\n",
       "    .dataframe tbody tr th {\n",
       "        vertical-align: top;\n",
       "    }\n",
       "</style>\n",
       "<table border=\"1\" class=\"dataframe\">\n",
       "  <thead>\n",
       "    <tr style=\"text-align: right;\">\n",
       "      <th></th>\n",
       "      <th>query_name</th>\n",
       "      <th>number_of_different_results</th>\n",
       "      <th>Bla_N1_64_Ont_Opt</th>\n",
       "      <th>Gra_N1_64_Ont_Opt</th>\n",
       "      <th>ES_N1_64_Ont_Def</th>\n",
       "      <th>Vir_N1_64_Ont_Opt</th>\n",
       "      <th>Vir_N1_64_Ont_Opt_VWall</th>\n",
       "      <th>Vir_N1_32_Ont_Opt_VWall</th>\n",
       "    </tr>\n",
       "  </thead>\n",
       "  <tbody>\n",
       "    <tr>\n",
       "      <th>0</th>\n",
       "      <td>queries/xdb</td>\n",
       "      <td>2</td>\n",
       "      <td>NaN</td>\n",
       "      <td>15.0</td>\n",
       "      <td>NaN</td>\n",
       "      <td>0.0</td>\n",
       "      <td>0.0</td>\n",
       "      <td>0.0</td>\n",
       "    </tr>\n",
       "    <tr>\n",
       "      <th>1</th>\n",
       "      <td>queries/xlf</td>\n",
       "      <td>2</td>\n",
       "      <td>NaN</td>\n",
       "      <td>1.0</td>\n",
       "      <td>1.0</td>\n",
       "      <td>0.0</td>\n",
       "      <td>0.0</td>\n",
       "      <td>0.0</td>\n",
       "    </tr>\n",
       "    <tr>\n",
       "      <th>2</th>\n",
       "      <td>queries/xmf</td>\n",
       "      <td>2</td>\n",
       "      <td>NaN</td>\n",
       "      <td>1.0</td>\n",
       "      <td>NaN</td>\n",
       "      <td>0.0</td>\n",
       "      <td>0.0</td>\n",
       "      <td>0.0</td>\n",
       "    </tr>\n",
       "    <tr>\n",
       "      <th>3</th>\n",
       "      <td>queries/xoi</td>\n",
       "      <td>2</td>\n",
       "      <td>NaN</td>\n",
       "      <td>NaN</td>\n",
       "      <td>7.0</td>\n",
       "      <td>39531.0</td>\n",
       "      <td>39531.0</td>\n",
       "      <td>39531.0</td>\n",
       "    </tr>\n",
       "    <tr>\n",
       "      <th>4</th>\n",
       "      <td>queries/xqf</td>\n",
       "      <td>2</td>\n",
       "      <td>NaN</td>\n",
       "      <td>NaN</td>\n",
       "      <td>1512758.0</td>\n",
       "      <td>1048576.0</td>\n",
       "      <td>1048576.0</td>\n",
       "      <td>1048576.0</td>\n",
       "    </tr>\n",
       "    <tr>\n",
       "      <th>5</th>\n",
       "      <td>queries/xrn</td>\n",
       "      <td>2</td>\n",
       "      <td>NaN</td>\n",
       "      <td>1.0</td>\n",
       "      <td>NaN</td>\n",
       "      <td>0.0</td>\n",
       "      <td>0.0</td>\n",
       "      <td>0.0</td>\n",
       "    </tr>\n",
       "    <tr>\n",
       "      <th>6</th>\n",
       "      <td>queries/xvf</td>\n",
       "      <td>2</td>\n",
       "      <td>NaN</td>\n",
       "      <td>NaN</td>\n",
       "      <td>0.0</td>\n",
       "      <td>1048576.0</td>\n",
       "      <td>1048576.0</td>\n",
       "      <td>1048576.0</td>\n",
       "    </tr>\n",
       "    <tr>\n",
       "      <th>7</th>\n",
       "      <td>queries/xxc</td>\n",
       "      <td>2</td>\n",
       "      <td>NaN</td>\n",
       "      <td>1.0</td>\n",
       "      <td>NaN</td>\n",
       "      <td>0.0</td>\n",
       "      <td>0.0</td>\n",
       "      <td>0.0</td>\n",
       "    </tr>\n",
       "    <tr>\n",
       "      <th>8</th>\n",
       "      <td>queries/xzacf</td>\n",
       "      <td>2</td>\n",
       "      <td>NaN</td>\n",
       "      <td>1.0</td>\n",
       "      <td>NaN</td>\n",
       "      <td>0.0</td>\n",
       "      <td>0.0</td>\n",
       "      <td>0.0</td>\n",
       "    </tr>\n",
       "    <tr>\n",
       "      <th>9</th>\n",
       "      <td>queries/xzanl</td>\n",
       "      <td>2</td>\n",
       "      <td>NaN</td>\n",
       "      <td>1.0</td>\n",
       "      <td>1.0</td>\n",
       "      <td>0.0</td>\n",
       "      <td>0.0</td>\n",
       "      <td>0.0</td>\n",
       "    </tr>\n",
       "    <tr>\n",
       "      <th>10</th>\n",
       "      <td>queries/xzasc</td>\n",
       "      <td>2</td>\n",
       "      <td>NaN</td>\n",
       "      <td>1.0</td>\n",
       "      <td>1.0</td>\n",
       "      <td>0.0</td>\n",
       "      <td>0.0</td>\n",
       "      <td>0.0</td>\n",
       "    </tr>\n",
       "    <tr>\n",
       "      <th>11</th>\n",
       "      <td>queries/xzaub</td>\n",
       "      <td>2</td>\n",
       "      <td>0.0</td>\n",
       "      <td>1.0</td>\n",
       "      <td>1.0</td>\n",
       "      <td>0.0</td>\n",
       "      <td>0.0</td>\n",
       "      <td>0.0</td>\n",
       "    </tr>\n",
       "  </tbody>\n",
       "</table>\n",
       "</div>"
      ],
      "text/plain": [
       "       query_name  number_of_different_results  Bla_N1_64_Ont_Opt  \\\n",
       "0     queries/xdb                            2                NaN   \n",
       "1     queries/xlf                            2                NaN   \n",
       "2     queries/xmf                            2                NaN   \n",
       "3     queries/xoi                            2                NaN   \n",
       "4     queries/xqf                            2                NaN   \n",
       "5     queries/xrn                            2                NaN   \n",
       "6     queries/xvf                            2                NaN   \n",
       "7     queries/xxc                            2                NaN   \n",
       "8   queries/xzacf                            2                NaN   \n",
       "9   queries/xzanl                            2                NaN   \n",
       "10  queries/xzasc                            2                NaN   \n",
       "11  queries/xzaub                            2                0.0   \n",
       "\n",
       "    Gra_N1_64_Ont_Opt  ES_N1_64_Ont_Def  Vir_N1_64_Ont_Opt  \\\n",
       "0                15.0               NaN                0.0   \n",
       "1                 1.0               1.0                0.0   \n",
       "2                 1.0               NaN                0.0   \n",
       "3                 NaN               7.0            39531.0   \n",
       "4                 NaN         1512758.0          1048576.0   \n",
       "5                 1.0               NaN                0.0   \n",
       "6                 NaN               0.0          1048576.0   \n",
       "7                 1.0               NaN                0.0   \n",
       "8                 1.0               NaN                0.0   \n",
       "9                 1.0               1.0                0.0   \n",
       "10                1.0               1.0                0.0   \n",
       "11                1.0               1.0                0.0   \n",
       "\n",
       "    Vir_N1_64_Ont_Opt_VWall  Vir_N1_32_Ont_Opt_VWall  \n",
       "0                       0.0                      0.0  \n",
       "1                       0.0                      0.0  \n",
       "2                       0.0                      0.0  \n",
       "3                   39531.0                  39531.0  \n",
       "4                 1048576.0                1048576.0  \n",
       "5                       0.0                      0.0  \n",
       "6                 1048576.0                1048576.0  \n",
       "7                       0.0                      0.0  \n",
       "8                       0.0                      0.0  \n",
       "9                       0.0                      0.0  \n",
       "10                      0.0                      0.0  \n",
       "11                      0.0                      0.0  "
      ]
     },
     "execution_count": 6,
     "metadata": {},
     "output_type": "execute_result"
    }
   ],
   "source": [
    "df_inc = getInconsistentResultQueries(tuple_list)\n",
    "df_combined = reworkResultsDF(tuple_list)\n",
    "df_inconsistent = pd.merge(df_inc, df_combined, how='inner', on='query_name')\n",
    "df_inconsistent.head(n=20)"
   ]
  },
  {
   "cell_type": "code",
   "execution_count": 7,
   "metadata": {},
   "outputs": [
    {
     "data": {
      "text/plain": [
       "(12, 8)"
      ]
     },
     "execution_count": 7,
     "metadata": {},
     "output_type": "execute_result"
    }
   ],
   "source": [
    "df_inconsistent.shape"
   ]
  },
  {
   "cell_type": "code",
   "execution_count": 8,
   "metadata": {
    "collapsed": true
   },
   "outputs": [],
   "source": [
    "query_features = './OntoforceQueryAnalysis/ontoforce_query_features.tsv'\n",
    "df_queryfeatures = pd.read_csv(query_features, sep='\\t', index_col=0)"
   ]
  },
  {
   "cell_type": "code",
   "execution_count": 9,
   "metadata": {},
   "outputs": [
    {
     "data": {
      "text/html": [
       "<div>\n",
       "<style>\n",
       "    .dataframe thead tr:only-child th {\n",
       "        text-align: right;\n",
       "    }\n",
       "\n",
       "    .dataframe thead th {\n",
       "        text-align: left;\n",
       "    }\n",
       "\n",
       "    .dataframe tbody tr th {\n",
       "        vertical-align: top;\n",
       "    }\n",
       "</style>\n",
       "<table border=\"1\" class=\"dataframe\">\n",
       "  <thead>\n",
       "    <tr style=\"text-align: right;\">\n",
       "      <th></th>\n",
       "      <th>aggregation_count</th>\n",
       "    </tr>\n",
       "  </thead>\n",
       "  <tbody>\n",
       "    <tr>\n",
       "      <th>xaa</th>\n",
       "      <td>1.0</td>\n",
       "    </tr>\n",
       "    <tr>\n",
       "      <th>xab</th>\n",
       "      <td>1.0</td>\n",
       "    </tr>\n",
       "    <tr>\n",
       "      <th>xac</th>\n",
       "      <td>0.0</td>\n",
       "    </tr>\n",
       "  </tbody>\n",
       "</table>\n",
       "</div>"
      ],
      "text/plain": [
       "     aggregation_count\n",
       "xaa                1.0\n",
       "xab                1.0\n",
       "xac                0.0"
      ]
     },
     "execution_count": 9,
     "metadata": {},
     "output_type": "execute_result"
    }
   ],
   "source": [
    "df_queryfeatures_counts = df_queryfeatures[['aggregation_count']]\n",
    "df_queryfeatures_counts.head(n=3)"
   ]
  },
  {
   "cell_type": "code",
   "execution_count": 10,
   "metadata": {
    "collapsed": true
   },
   "outputs": [],
   "source": [
    "df_combined.index = df_combined['query_name'].apply(lambda n: n[8:]).values"
   ]
  },
  {
   "cell_type": "code",
   "execution_count": 11,
   "metadata": {
    "collapsed": true
   },
   "outputs": [],
   "source": [
    "df_combined.drop('query_name', axis=1, inplace=True)"
   ]
  },
  {
   "cell_type": "code",
   "execution_count": 12,
   "metadata": {},
   "outputs": [
    {
     "data": {
      "text/html": [
       "<div>\n",
       "<style>\n",
       "    .dataframe thead tr:only-child th {\n",
       "        text-align: right;\n",
       "    }\n",
       "\n",
       "    .dataframe thead th {\n",
       "        text-align: left;\n",
       "    }\n",
       "\n",
       "    .dataframe tbody tr th {\n",
       "        vertical-align: top;\n",
       "    }\n",
       "</style>\n",
       "<table border=\"1\" class=\"dataframe\">\n",
       "  <thead>\n",
       "    <tr style=\"text-align: right;\">\n",
       "      <th></th>\n",
       "      <th>Bla_N1_64_Ont_Opt</th>\n",
       "      <th>Gra_N1_64_Ont_Opt</th>\n",
       "      <th>ES_N1_64_Ont_Def</th>\n",
       "      <th>Vir_N1_64_Ont_Opt</th>\n",
       "      <th>Vir_N1_64_Ont_Opt_VWall</th>\n",
       "      <th>Vir_N1_32_Ont_Opt_VWall</th>\n",
       "    </tr>\n",
       "  </thead>\n",
       "  <tbody>\n",
       "    <tr>\n",
       "      <th>xar</th>\n",
       "      <td>1.0</td>\n",
       "      <td>1.0</td>\n",
       "      <td>1.0</td>\n",
       "      <td>1.0</td>\n",
       "      <td>1.0</td>\n",
       "      <td>1.0</td>\n",
       "    </tr>\n",
       "    <tr>\n",
       "      <th>xdm</th>\n",
       "      <td>0.0</td>\n",
       "      <td>0.0</td>\n",
       "      <td>0.0</td>\n",
       "      <td>0.0</td>\n",
       "      <td>0.0</td>\n",
       "      <td>0.0</td>\n",
       "    </tr>\n",
       "    <tr>\n",
       "      <th>xdq</th>\n",
       "      <td>1.0</td>\n",
       "      <td>1.0</td>\n",
       "      <td>1.0</td>\n",
       "      <td>1.0</td>\n",
       "      <td>1.0</td>\n",
       "      <td>1.0</td>\n",
       "    </tr>\n",
       "    <tr>\n",
       "      <th>xfu</th>\n",
       "      <td>1.0</td>\n",
       "      <td>1.0</td>\n",
       "      <td>1.0</td>\n",
       "      <td>1.0</td>\n",
       "      <td>1.0</td>\n",
       "      <td>1.0</td>\n",
       "    </tr>\n",
       "    <tr>\n",
       "      <th>xfx</th>\n",
       "      <td>1.0</td>\n",
       "      <td>1.0</td>\n",
       "      <td>1.0</td>\n",
       "      <td>1.0</td>\n",
       "      <td>1.0</td>\n",
       "      <td>1.0</td>\n",
       "    </tr>\n",
       "    <tr>\n",
       "      <th>xht</th>\n",
       "      <td>0.0</td>\n",
       "      <td>NaN</td>\n",
       "      <td>NaN</td>\n",
       "      <td>0.0</td>\n",
       "      <td>0.0</td>\n",
       "      <td>0.0</td>\n",
       "    </tr>\n",
       "  </tbody>\n",
       "</table>\n",
       "</div>"
      ],
      "text/plain": [
       "     Bla_N1_64_Ont_Opt  Gra_N1_64_Ont_Opt  ES_N1_64_Ont_Def  \\\n",
       "xar                1.0                1.0               1.0   \n",
       "xdm                0.0                0.0               0.0   \n",
       "xdq                1.0                1.0               1.0   \n",
       "xfu                1.0                1.0               1.0   \n",
       "xfx                1.0                1.0               1.0   \n",
       "xht                0.0                NaN               NaN   \n",
       "\n",
       "     Vir_N1_64_Ont_Opt  Vir_N1_64_Ont_Opt_VWall  Vir_N1_32_Ont_Opt_VWall  \n",
       "xar                1.0                      1.0                      1.0  \n",
       "xdm                0.0                      0.0                      0.0  \n",
       "xdq                1.0                      1.0                      1.0  \n",
       "xfu                1.0                      1.0                      1.0  \n",
       "xfx                1.0                      1.0                      1.0  \n",
       "xht                0.0                      0.0                      0.0  "
      ]
     },
     "execution_count": 12,
     "metadata": {},
     "output_type": "execute_result"
    }
   ],
   "source": [
    "df_combined.head(n=6)"
   ]
  },
  {
   "cell_type": "markdown",
   "metadata": {},
   "source": [
    "* We need a more advanced view on consistency:\n",
    "    - if no engine finds results => result is a random number, UNKNOWN\n",
    "    - if two different stores have the same solution: return this result\n",
    "    - if the number of results is inconsistent => maximum will be correct (OLD)\n",
    "    - if only one store has a result:\n",
    "        - if it's a count query: the number of results is 1? (this doesn't seem to hold, depends on where the count is in the query, if in subquery result might still be 0!)\n",
    "        - if it's not a count query: UNVERIFIED_VIRT for virtuoso store, UNVERIFIED_OTHER if not virtuoso\n"
   ]
  },
  {
   "cell_type": "code",
   "execution_count": 13,
   "metadata": {},
   "outputs": [
    {
     "data": {
      "text/plain": [
       "{'Bla', 'Vir'}"
      ]
     },
     "execution_count": 13,
     "metadata": {},
     "output_type": "execute_result"
    }
   ],
   "source": [
    "def stores_with_solution(row):\n",
    "    stores = set()\n",
    "    for k,v in zip(row.keys(),row.values):\n",
    "        if not pd.isnull(v):\n",
    "               stores.add(k[:3])\n",
    "    return stores        \n",
    "\n",
    "#TEST\n",
    "stores_with_solution(df_combined.loc['xht'])"
   ]
  },
  {
   "cell_type": "code",
   "execution_count": 14,
   "metadata": {},
   "outputs": [
    {
     "name": "stdout",
     "output_type": "stream",
     "text": [
      "True\n",
      "True\n",
      "False\n"
     ]
    }
   ],
   "source": [
    "def is_count_query(query_name):\n",
    "    return df_queryfeatures_counts.loc[query_name].values[0] == 1.0\n",
    "\n",
    "#TEST\n",
    "print(is_count_query('xaa'))  \n",
    "print(is_count_query('xab'))  \n",
    "print(is_count_query('xac'))  "
   ]
  },
  {
   "cell_type": "code",
   "execution_count": 15,
   "metadata": {
    "collapsed": true
   },
   "outputs": [],
   "source": [
    "UNKNOWN = -123\n",
    "UNVERIFIED_VIRT = -234\n",
    "UNVERIFIED_OTHER = -345\n",
    "VIRT_WRONG = -456\n",
    "    \n",
    "def analyse_query_results(row):\n",
    "    nonnull_row_values = row.dropna().values\n",
    "    #print(nonnull_row_values)\n",
    "    \n",
    "    if len(nonnull_row_values) == 0: #number of results is unknown\n",
    "        return UNKNOWN\n",
    "\n",
    "    \n",
    "    stores_success = stores_with_solution(row)\n",
    "    #print(stores_success)\n",
    "    \n",
    "    if len(stores_success) > 1:                 #diffent stores found an answer\n",
    "        unique_nonnull_row_values = set(nonnull_row_values)\n",
    "        \n",
    "        if len(unique_nonnull_row_values) == 1: #consensus\n",
    "            return unique_nonnull_row_values.pop()\n",
    "        else:                                   #no consensus => return maximum\n",
    "            return max(unique_nonnull_row_values)\n",
    "            \n",
    "    else:                                       #only one store found an answer\n",
    "        \n",
    "        if is_count_query(row.name): #count query we know the answer is >= 1 \n",
    "            #(there are queries where multiple things are counted), \n",
    "            #we also already verified count queries are correct\n",
    "            \n",
    "            res = nonnull_row_values[0]\n",
    "            \n",
    "            return res if res > 0 else VIRT_WRONG\n",
    "        \n",
    "        else:\n",
    "            store = stores_success.pop()\n",
    "            if store == 'Vir':\n",
    "                return UNVERIFIED_VIRT\n",
    "            else:\n",
    "                return UNVERIFIED_OTHER\n",
    "    \n",
    "    return None"
   ]
  },
  {
   "cell_type": "code",
   "execution_count": 16,
   "metadata": {
    "collapsed": true
   },
   "outputs": [],
   "source": [
    "df_combined2 = df_queryfeatures_counts.join(df_combined, how='outer')\n",
    "df_combined3 = df_combined2.drop('aggregation_count', axis=1)"
   ]
  },
  {
   "cell_type": "code",
   "execution_count": 17,
   "metadata": {
    "collapsed": true
   },
   "outputs": [],
   "source": [
    "df_combined3['consensus'] = df_combined3.apply(analyse_query_results, axis=1)"
   ]
  },
  {
   "cell_type": "code",
   "execution_count": 18,
   "metadata": {},
   "outputs": [],
   "source": [
    "df_combined3.to_csv('./inconsistent_queryresults/check_ontoforce_consensus.csv', index=True, sep='\\t')"
   ]
  },
  {
   "cell_type": "code",
   "execution_count": 19,
   "metadata": {},
   "outputs": [
    {
     "data": {
      "text/plain": [
       "(1223, 7)"
      ]
     },
     "execution_count": 19,
     "metadata": {},
     "output_type": "execute_result"
    }
   ],
   "source": [
    "df_combined3.shape"
   ]
  },
  {
   "cell_type": "code",
   "execution_count": 20,
   "metadata": {},
   "outputs": [
    {
     "data": {
      "text/plain": [
       "2.0"
      ]
     },
     "execution_count": 20,
     "metadata": {},
     "output_type": "execute_result"
    }
   ],
   "source": [
    "analyse_query_results(df_combined.loc['xaj'])"
   ]
  },
  {
   "cell_type": "code",
   "execution_count": null,
   "metadata": {
    "collapsed": true
   },
   "outputs": [],
   "source": []
  },
  {
   "cell_type": "markdown",
   "metadata": {},
   "source": [
    "### OBSERVATION 1: 13 queries have not been solved by any engine => consensus result is unknown"
   ]
  },
  {
   "cell_type": "code",
   "execution_count": 21,
   "metadata": {},
   "outputs": [
    {
     "data": {
      "text/plain": [
       "(13, 7)"
      ]
     },
     "execution_count": 21,
     "metadata": {},
     "output_type": "execute_result"
    }
   ],
   "source": [
    "mask = df_combined3['consensus'] == UNKNOWN\n",
    "df_combined3[mask].shape"
   ]
  },
  {
   "cell_type": "code",
   "execution_count": 22,
   "metadata": {},
   "outputs": [
    {
     "data": {
      "text/html": [
       "<div>\n",
       "<style>\n",
       "    .dataframe thead tr:only-child th {\n",
       "        text-align: right;\n",
       "    }\n",
       "\n",
       "    .dataframe thead th {\n",
       "        text-align: left;\n",
       "    }\n",
       "\n",
       "    .dataframe tbody tr th {\n",
       "        vertical-align: top;\n",
       "    }\n",
       "</style>\n",
       "<table border=\"1\" class=\"dataframe\">\n",
       "  <thead>\n",
       "    <tr style=\"text-align: right;\">\n",
       "      <th></th>\n",
       "      <th>Bla_N1_64_Ont_Opt</th>\n",
       "      <th>Gra_N1_64_Ont_Opt</th>\n",
       "      <th>ES_N1_64_Ont_Def</th>\n",
       "      <th>Vir_N1_64_Ont_Opt</th>\n",
       "      <th>Vir_N1_64_Ont_Opt_VWall</th>\n",
       "      <th>Vir_N1_32_Ont_Opt_VWall</th>\n",
       "      <th>consensus</th>\n",
       "    </tr>\n",
       "  </thead>\n",
       "  <tbody>\n",
       "    <tr>\n",
       "      <th>xbp</th>\n",
       "      <td>NaN</td>\n",
       "      <td>NaN</td>\n",
       "      <td>NaN</td>\n",
       "      <td>NaN</td>\n",
       "      <td>NaN</td>\n",
       "      <td>NaN</td>\n",
       "      <td>-123.0</td>\n",
       "    </tr>\n",
       "    <tr>\n",
       "      <th>xbr</th>\n",
       "      <td>NaN</td>\n",
       "      <td>NaN</td>\n",
       "      <td>NaN</td>\n",
       "      <td>NaN</td>\n",
       "      <td>NaN</td>\n",
       "      <td>NaN</td>\n",
       "      <td>-123.0</td>\n",
       "    </tr>\n",
       "    <tr>\n",
       "      <th>xcr</th>\n",
       "      <td>NaN</td>\n",
       "      <td>NaN</td>\n",
       "      <td>NaN</td>\n",
       "      <td>NaN</td>\n",
       "      <td>NaN</td>\n",
       "      <td>NaN</td>\n",
       "      <td>-123.0</td>\n",
       "    </tr>\n",
       "    <tr>\n",
       "      <th>xel</th>\n",
       "      <td>NaN</td>\n",
       "      <td>NaN</td>\n",
       "      <td>NaN</td>\n",
       "      <td>NaN</td>\n",
       "      <td>NaN</td>\n",
       "      <td>NaN</td>\n",
       "      <td>-123.0</td>\n",
       "    </tr>\n",
       "    <tr>\n",
       "      <th>xmd</th>\n",
       "      <td>NaN</td>\n",
       "      <td>NaN</td>\n",
       "      <td>NaN</td>\n",
       "      <td>NaN</td>\n",
       "      <td>NaN</td>\n",
       "      <td>NaN</td>\n",
       "      <td>-123.0</td>\n",
       "    </tr>\n",
       "    <tr>\n",
       "      <th>xuh</th>\n",
       "      <td>NaN</td>\n",
       "      <td>NaN</td>\n",
       "      <td>NaN</td>\n",
       "      <td>NaN</td>\n",
       "      <td>NaN</td>\n",
       "      <td>NaN</td>\n",
       "      <td>-123.0</td>\n",
       "    </tr>\n",
       "    <tr>\n",
       "      <th>xyy</th>\n",
       "      <td>NaN</td>\n",
       "      <td>NaN</td>\n",
       "      <td>NaN</td>\n",
       "      <td>NaN</td>\n",
       "      <td>NaN</td>\n",
       "      <td>NaN</td>\n",
       "      <td>-123.0</td>\n",
       "    </tr>\n",
       "    <tr>\n",
       "      <th>xzabk</th>\n",
       "      <td>NaN</td>\n",
       "      <td>NaN</td>\n",
       "      <td>NaN</td>\n",
       "      <td>NaN</td>\n",
       "      <td>NaN</td>\n",
       "      <td>NaN</td>\n",
       "      <td>-123.0</td>\n",
       "    </tr>\n",
       "    <tr>\n",
       "      <th>xzadf</th>\n",
       "      <td>NaN</td>\n",
       "      <td>NaN</td>\n",
       "      <td>NaN</td>\n",
       "      <td>NaN</td>\n",
       "      <td>NaN</td>\n",
       "      <td>NaN</td>\n",
       "      <td>-123.0</td>\n",
       "    </tr>\n",
       "    <tr>\n",
       "      <th>xzalc</th>\n",
       "      <td>NaN</td>\n",
       "      <td>NaN</td>\n",
       "      <td>NaN</td>\n",
       "      <td>NaN</td>\n",
       "      <td>NaN</td>\n",
       "      <td>NaN</td>\n",
       "      <td>-123.0</td>\n",
       "    </tr>\n",
       "    <tr>\n",
       "      <th>xzamq</th>\n",
       "      <td>NaN</td>\n",
       "      <td>NaN</td>\n",
       "      <td>NaN</td>\n",
       "      <td>NaN</td>\n",
       "      <td>NaN</td>\n",
       "      <td>NaN</td>\n",
       "      <td>-123.0</td>\n",
       "    </tr>\n",
       "    <tr>\n",
       "      <th>xzapx</th>\n",
       "      <td>NaN</td>\n",
       "      <td>NaN</td>\n",
       "      <td>NaN</td>\n",
       "      <td>NaN</td>\n",
       "      <td>NaN</td>\n",
       "      <td>NaN</td>\n",
       "      <td>-123.0</td>\n",
       "    </tr>\n",
       "    <tr>\n",
       "      <th>xzaqc</th>\n",
       "      <td>NaN</td>\n",
       "      <td>NaN</td>\n",
       "      <td>NaN</td>\n",
       "      <td>NaN</td>\n",
       "      <td>NaN</td>\n",
       "      <td>NaN</td>\n",
       "      <td>-123.0</td>\n",
       "    </tr>\n",
       "  </tbody>\n",
       "</table>\n",
       "</div>"
      ],
      "text/plain": [
       "       Bla_N1_64_Ont_Opt  Gra_N1_64_Ont_Opt  ES_N1_64_Ont_Def  \\\n",
       "xbp                  NaN                NaN               NaN   \n",
       "xbr                  NaN                NaN               NaN   \n",
       "xcr                  NaN                NaN               NaN   \n",
       "xel                  NaN                NaN               NaN   \n",
       "xmd                  NaN                NaN               NaN   \n",
       "xuh                  NaN                NaN               NaN   \n",
       "xyy                  NaN                NaN               NaN   \n",
       "xzabk                NaN                NaN               NaN   \n",
       "xzadf                NaN                NaN               NaN   \n",
       "xzalc                NaN                NaN               NaN   \n",
       "xzamq                NaN                NaN               NaN   \n",
       "xzapx                NaN                NaN               NaN   \n",
       "xzaqc                NaN                NaN               NaN   \n",
       "\n",
       "       Vir_N1_64_Ont_Opt  Vir_N1_64_Ont_Opt_VWall  Vir_N1_32_Ont_Opt_VWall  \\\n",
       "xbp                  NaN                      NaN                      NaN   \n",
       "xbr                  NaN                      NaN                      NaN   \n",
       "xcr                  NaN                      NaN                      NaN   \n",
       "xel                  NaN                      NaN                      NaN   \n",
       "xmd                  NaN                      NaN                      NaN   \n",
       "xuh                  NaN                      NaN                      NaN   \n",
       "xyy                  NaN                      NaN                      NaN   \n",
       "xzabk                NaN                      NaN                      NaN   \n",
       "xzadf                NaN                      NaN                      NaN   \n",
       "xzalc                NaN                      NaN                      NaN   \n",
       "xzamq                NaN                      NaN                      NaN   \n",
       "xzapx                NaN                      NaN                      NaN   \n",
       "xzaqc                NaN                      NaN                      NaN   \n",
       "\n",
       "       consensus  \n",
       "xbp       -123.0  \n",
       "xbr       -123.0  \n",
       "xcr       -123.0  \n",
       "xel       -123.0  \n",
       "xmd       -123.0  \n",
       "xuh       -123.0  \n",
       "xyy       -123.0  \n",
       "xzabk     -123.0  \n",
       "xzadf     -123.0  \n",
       "xzalc     -123.0  \n",
       "xzamq     -123.0  \n",
       "xzapx     -123.0  \n",
       "xzaqc     -123.0  "
      ]
     },
     "execution_count": 22,
     "metadata": {},
     "output_type": "execute_result"
    }
   ],
   "source": [
    "df_combined3[mask].head(n=30)"
   ]
  },
  {
   "cell_type": "markdown",
   "metadata": {
    "collapsed": true
   },
   "source": [
    "### is there anything special about these queries?\n",
    "\n",
    "#### YES, most of them contain property path path operator * and long FILTER INs are also common"
   ]
  },
  {
   "cell_type": "markdown",
   "metadata": {},
   "source": [
    "- ** xbp ** uses multiple property path (*) operators! Also a union of a number of huge FILTER IN queries \n",
    "```\n",
    "?child_val <http://ns.ontoforce.com/ontologies/uncategorized/functionSubclassOf>* ?val . \n",
    "```\n",
    "\n",
    "- ** xbr ** similar to xbp: long FILTER IN and (*) operator\n",
    "\n",
    "- ** xcr ** no long FILTER IN but again 2 (*) operators\n",
    "\n",
    "- ** xel ** long FILTER IN\n",
    "\n",
    "- ** xmd ** no long FILTER IN but again 2 (*) operators\n",
    "\n",
    "- ** xuh ** long FILTER IN and (*) operator\n",
    "\n",
    "- ** xyy ** no long FILTER IN but again 2 (*) operators\n",
    "\n",
    "- ** xzabk ** long FILTER IN\n",
    "\n",
    "- ** xzadf ** long FILTER IN\n",
    "\n",
    "- ** xzalc ** long FILTER IN\n",
    "\n",
    "- ** xzamq ** no long FILTER IN but again 2 (*) operators\n",
    "\n",
    "- ** xzapx ** no long FILTER IN but again 2 (*) operators\n",
    "\n",
    "- ** xzaqc ** no long FILTER IN but again 2 (*) operators\n"
   ]
  },
  {
   "cell_type": "markdown",
   "metadata": {},
   "source": [
    "### OBSERVATION 2: 4 queries were only solved by Virtuoso, they are probably correct but we cannot verify"
   ]
  },
  {
   "cell_type": "code",
   "execution_count": 23,
   "metadata": {},
   "outputs": [
    {
     "data": {
      "text/plain": [
       "(4, 7)"
      ]
     },
     "execution_count": 23,
     "metadata": {},
     "output_type": "execute_result"
    }
   ],
   "source": [
    "mask = df_combined3['consensus'] == UNVERIFIED_VIRT\n",
    "df_combined3[mask].shape"
   ]
  },
  {
   "cell_type": "code",
   "execution_count": 24,
   "metadata": {},
   "outputs": [
    {
     "data": {
      "text/html": [
       "<div>\n",
       "<style>\n",
       "    .dataframe thead tr:only-child th {\n",
       "        text-align: right;\n",
       "    }\n",
       "\n",
       "    .dataframe thead th {\n",
       "        text-align: left;\n",
       "    }\n",
       "\n",
       "    .dataframe tbody tr th {\n",
       "        vertical-align: top;\n",
       "    }\n",
       "</style>\n",
       "<table border=\"1\" class=\"dataframe\">\n",
       "  <thead>\n",
       "    <tr style=\"text-align: right;\">\n",
       "      <th></th>\n",
       "      <th>Bla_N1_64_Ont_Opt</th>\n",
       "      <th>Gra_N1_64_Ont_Opt</th>\n",
       "      <th>ES_N1_64_Ont_Def</th>\n",
       "      <th>Vir_N1_64_Ont_Opt</th>\n",
       "      <th>Vir_N1_64_Ont_Opt_VWall</th>\n",
       "      <th>Vir_N1_32_Ont_Opt_VWall</th>\n",
       "      <th>consensus</th>\n",
       "    </tr>\n",
       "  </thead>\n",
       "  <tbody>\n",
       "    <tr>\n",
       "      <th>xmq</th>\n",
       "      <td>NaN</td>\n",
       "      <td>NaN</td>\n",
       "      <td>NaN</td>\n",
       "      <td>1.0</td>\n",
       "      <td>1.0</td>\n",
       "      <td>1.0</td>\n",
       "      <td>-234.0</td>\n",
       "    </tr>\n",
       "    <tr>\n",
       "      <th>xtq</th>\n",
       "      <td>NaN</td>\n",
       "      <td>NaN</td>\n",
       "      <td>NaN</td>\n",
       "      <td>0.0</td>\n",
       "      <td>0.0</td>\n",
       "      <td>0.0</td>\n",
       "      <td>-234.0</td>\n",
       "    </tr>\n",
       "    <tr>\n",
       "      <th>xxz</th>\n",
       "      <td>NaN</td>\n",
       "      <td>NaN</td>\n",
       "      <td>NaN</td>\n",
       "      <td>20.0</td>\n",
       "      <td>20.0</td>\n",
       "      <td>20.0</td>\n",
       "      <td>-234.0</td>\n",
       "    </tr>\n",
       "    <tr>\n",
       "      <th>xzaon</th>\n",
       "      <td>NaN</td>\n",
       "      <td>NaN</td>\n",
       "      <td>NaN</td>\n",
       "      <td>20.0</td>\n",
       "      <td>20.0</td>\n",
       "      <td>20.0</td>\n",
       "      <td>-234.0</td>\n",
       "    </tr>\n",
       "  </tbody>\n",
       "</table>\n",
       "</div>"
      ],
      "text/plain": [
       "       Bla_N1_64_Ont_Opt  Gra_N1_64_Ont_Opt  ES_N1_64_Ont_Def  \\\n",
       "xmq                  NaN                NaN               NaN   \n",
       "xtq                  NaN                NaN               NaN   \n",
       "xxz                  NaN                NaN               NaN   \n",
       "xzaon                NaN                NaN               NaN   \n",
       "\n",
       "       Vir_N1_64_Ont_Opt  Vir_N1_64_Ont_Opt_VWall  Vir_N1_32_Ont_Opt_VWall  \\\n",
       "xmq                  1.0                      1.0                      1.0   \n",
       "xtq                  0.0                      0.0                      0.0   \n",
       "xxz                 20.0                     20.0                     20.0   \n",
       "xzaon               20.0                     20.0                     20.0   \n",
       "\n",
       "       consensus  \n",
       "xmq       -234.0  \n",
       "xtq       -234.0  \n",
       "xxz       -234.0  \n",
       "xzaon     -234.0  "
      ]
     },
     "execution_count": 24,
     "metadata": {},
     "output_type": "execute_result"
    }
   ],
   "source": [
    "df_combined3[mask]"
   ]
  },
  {
   "cell_type": "code",
   "execution_count": null,
   "metadata": {
    "collapsed": true
   },
   "outputs": [],
   "source": []
  },
  {
   "cell_type": "markdown",
   "metadata": {},
   "source": [
    "### OBSERVATION 3: 0 queries were solved by an engine but NOT by Virtuoso"
   ]
  },
  {
   "cell_type": "code",
   "execution_count": 25,
   "metadata": {},
   "outputs": [
    {
     "data": {
      "text/plain": [
       "(0, 7)"
      ]
     },
     "execution_count": 25,
     "metadata": {},
     "output_type": "execute_result"
    }
   ],
   "source": [
    "mask = df_combined3['consensus'] == UNVERIFIED_OTHER\n",
    "df_combined3[mask].shape"
   ]
  },
  {
   "cell_type": "code",
   "execution_count": null,
   "metadata": {
    "collapsed": true
   },
   "outputs": [],
   "source": []
  },
  {
   "cell_type": "markdown",
   "metadata": {},
   "source": [
    "### OBSERVATION 4: 15 count queries Virtuoso returned 0 results, which conflicts with the idea of a count query => most likely wrong, review these queries to verify!!\n",
    "\n",
    "- a count operator can be nested, for example in groupby operator so the number of results can be anything"
   ]
  },
  {
   "cell_type": "code",
   "execution_count": 26,
   "metadata": {},
   "outputs": [
    {
     "data": {
      "text/plain": [
       "(15, 7)"
      ]
     },
     "execution_count": 26,
     "metadata": {},
     "output_type": "execute_result"
    }
   ],
   "source": [
    "mask = df_combined3['consensus'] == VIRT_WRONG\n",
    "df_combined3[mask].shape"
   ]
  },
  {
   "cell_type": "code",
   "execution_count": 27,
   "metadata": {
    "collapsed": true
   },
   "outputs": [],
   "source": [
    "df_wrong = df_combined3[mask]"
   ]
  },
  {
   "cell_type": "code",
   "execution_count": 28,
   "metadata": {},
   "outputs": [
    {
     "data": {
      "text/html": [
       "<div>\n",
       "<style>\n",
       "    .dataframe thead tr:only-child th {\n",
       "        text-align: right;\n",
       "    }\n",
       "\n",
       "    .dataframe thead th {\n",
       "        text-align: left;\n",
       "    }\n",
       "\n",
       "    .dataframe tbody tr th {\n",
       "        vertical-align: top;\n",
       "    }\n",
       "</style>\n",
       "<table border=\"1\" class=\"dataframe\">\n",
       "  <thead>\n",
       "    <tr style=\"text-align: right;\">\n",
       "      <th></th>\n",
       "      <th>Vir_N1_32_Ont_Opt_VWall</th>\n",
       "      <th>consensus</th>\n",
       "      <th>order</th>\n",
       "      <th>filter_in</th>\n",
       "      <th>limit</th>\n",
       "      <th>distinct</th>\n",
       "      <th>triplePattern</th>\n",
       "      <th>tp_?po</th>\n",
       "      <th>union</th>\n",
       "      <th>tp_?p?</th>\n",
       "      <th>...</th>\n",
       "      <th>graph</th>\n",
       "      <th>optional</th>\n",
       "      <th>keys</th>\n",
       "      <th>filter</th>\n",
       "      <th>tp_???</th>\n",
       "      <th>group</th>\n",
       "      <th>query</th>\n",
       "      <th>jsonLines</th>\n",
       "      <th>jsonSize</th>\n",
       "      <th>depth</th>\n",
       "    </tr>\n",
       "  </thead>\n",
       "  <tbody>\n",
       "    <tr>\n",
       "      <th>xaf</th>\n",
       "      <td>0.0</td>\n",
       "      <td>-456.0</td>\n",
       "      <td>1.0</td>\n",
       "      <td>2.0</td>\n",
       "      <td>1.0</td>\n",
       "      <td>1.0</td>\n",
       "      <td>15.0</td>\n",
       "      <td>0.0</td>\n",
       "      <td>1.0</td>\n",
       "      <td>9.0</td>\n",
       "      <td>...</td>\n",
       "      <td>0.0</td>\n",
       "      <td>2.0</td>\n",
       "      <td>61.0</td>\n",
       "      <td>13.0</td>\n",
       "      <td>6.0</td>\n",
       "      <td>0.0</td>\n",
       "      <td>4.0</td>\n",
       "      <td>366.0</td>\n",
       "      <td>12468.0</td>\n",
       "      <td>6.0</td>\n",
       "    </tr>\n",
       "    <tr>\n",
       "      <th>xbd</th>\n",
       "      <td>0.0</td>\n",
       "      <td>-456.0</td>\n",
       "      <td>1.0</td>\n",
       "      <td>2.0</td>\n",
       "      <td>1.0</td>\n",
       "      <td>1.0</td>\n",
       "      <td>9.0</td>\n",
       "      <td>0.0</td>\n",
       "      <td>1.0</td>\n",
       "      <td>7.0</td>\n",
       "      <td>...</td>\n",
       "      <td>0.0</td>\n",
       "      <td>2.0</td>\n",
       "      <td>45.0</td>\n",
       "      <td>5.0</td>\n",
       "      <td>2.0</td>\n",
       "      <td>0.0</td>\n",
       "      <td>4.0</td>\n",
       "      <td>248.0</td>\n",
       "      <td>8192.0</td>\n",
       "      <td>6.0</td>\n",
       "    </tr>\n",
       "    <tr>\n",
       "      <th>xdp</th>\n",
       "      <td>0.0</td>\n",
       "      <td>-456.0</td>\n",
       "      <td>1.0</td>\n",
       "      <td>2.0</td>\n",
       "      <td>1.0</td>\n",
       "      <td>1.0</td>\n",
       "      <td>12.0</td>\n",
       "      <td>0.0</td>\n",
       "      <td>1.0</td>\n",
       "      <td>8.0</td>\n",
       "      <td>...</td>\n",
       "      <td>0.0</td>\n",
       "      <td>2.0</td>\n",
       "      <td>53.0</td>\n",
       "      <td>9.0</td>\n",
       "      <td>4.0</td>\n",
       "      <td>0.0</td>\n",
       "      <td>4.0</td>\n",
       "      <td>307.0</td>\n",
       "      <td>10328.0</td>\n",
       "      <td>6.0</td>\n",
       "    </tr>\n",
       "    <tr>\n",
       "      <th>xga</th>\n",
       "      <td>0.0</td>\n",
       "      <td>-456.0</td>\n",
       "      <td>1.0</td>\n",
       "      <td>2.0</td>\n",
       "      <td>1.0</td>\n",
       "      <td>1.0</td>\n",
       "      <td>24.0</td>\n",
       "      <td>0.0</td>\n",
       "      <td>3.0</td>\n",
       "      <td>14.0</td>\n",
       "      <td>...</td>\n",
       "      <td>0.0</td>\n",
       "      <td>4.0</td>\n",
       "      <td>115.0</td>\n",
       "      <td>24.0</td>\n",
       "      <td>10.0</td>\n",
       "      <td>4.0</td>\n",
       "      <td>4.0</td>\n",
       "      <td>627.0</td>\n",
       "      <td>22220.0</td>\n",
       "      <td>7.0</td>\n",
       "    </tr>\n",
       "    <tr>\n",
       "      <th>xgd</th>\n",
       "      <td>0.0</td>\n",
       "      <td>-456.0</td>\n",
       "      <td>0.0</td>\n",
       "      <td>0.0</td>\n",
       "      <td>0.0</td>\n",
       "      <td>1.0</td>\n",
       "      <td>4.0</td>\n",
       "      <td>0.0</td>\n",
       "      <td>1.0</td>\n",
       "      <td>4.0</td>\n",
       "      <td>...</td>\n",
       "      <td>0.0</td>\n",
       "      <td>1.0</td>\n",
       "      <td>38.0</td>\n",
       "      <td>7.0</td>\n",
       "      <td>0.0</td>\n",
       "      <td>0.0</td>\n",
       "      <td>3.0</td>\n",
       "      <td>210.0</td>\n",
       "      <td>5314.0</td>\n",
       "      <td>5.0</td>\n",
       "    </tr>\n",
       "    <tr>\n",
       "      <th>xjy</th>\n",
       "      <td>0.0</td>\n",
       "      <td>-456.0</td>\n",
       "      <td>1.0</td>\n",
       "      <td>2.0</td>\n",
       "      <td>1.0</td>\n",
       "      <td>1.0</td>\n",
       "      <td>24.0</td>\n",
       "      <td>0.0</td>\n",
       "      <td>3.0</td>\n",
       "      <td>14.0</td>\n",
       "      <td>...</td>\n",
       "      <td>0.0</td>\n",
       "      <td>4.0</td>\n",
       "      <td>115.0</td>\n",
       "      <td>24.0</td>\n",
       "      <td>10.0</td>\n",
       "      <td>4.0</td>\n",
       "      <td>4.0</td>\n",
       "      <td>627.0</td>\n",
       "      <td>22214.0</td>\n",
       "      <td>7.0</td>\n",
       "    </tr>\n",
       "    <tr>\n",
       "      <th>xqd</th>\n",
       "      <td>0.0</td>\n",
       "      <td>-456.0</td>\n",
       "      <td>1.0</td>\n",
       "      <td>2.0</td>\n",
       "      <td>1.0</td>\n",
       "      <td>1.0</td>\n",
       "      <td>21.0</td>\n",
       "      <td>0.0</td>\n",
       "      <td>3.0</td>\n",
       "      <td>13.0</td>\n",
       "      <td>...</td>\n",
       "      <td>0.0</td>\n",
       "      <td>4.0</td>\n",
       "      <td>107.0</td>\n",
       "      <td>20.0</td>\n",
       "      <td>8.0</td>\n",
       "      <td>4.0</td>\n",
       "      <td>4.0</td>\n",
       "      <td>568.0</td>\n",
       "      <td>20100.0</td>\n",
       "      <td>7.0</td>\n",
       "    </tr>\n",
       "    <tr>\n",
       "      <th>xse</th>\n",
       "      <td>0.0</td>\n",
       "      <td>-456.0</td>\n",
       "      <td>1.0</td>\n",
       "      <td>2.0</td>\n",
       "      <td>1.0</td>\n",
       "      <td>1.0</td>\n",
       "      <td>18.0</td>\n",
       "      <td>0.0</td>\n",
       "      <td>3.0</td>\n",
       "      <td>12.0</td>\n",
       "      <td>...</td>\n",
       "      <td>0.0</td>\n",
       "      <td>4.0</td>\n",
       "      <td>89.0</td>\n",
       "      <td>16.0</td>\n",
       "      <td>6.0</td>\n",
       "      <td>2.0</td>\n",
       "      <td>4.0</td>\n",
       "      <td>484.0</td>\n",
       "      <td>16764.0</td>\n",
       "      <td>7.0</td>\n",
       "    </tr>\n",
       "    <tr>\n",
       "      <th>xzagf</th>\n",
       "      <td>0.0</td>\n",
       "      <td>-456.0</td>\n",
       "      <td>1.0</td>\n",
       "      <td>2.0</td>\n",
       "      <td>1.0</td>\n",
       "      <td>1.0</td>\n",
       "      <td>18.0</td>\n",
       "      <td>0.0</td>\n",
       "      <td>3.0</td>\n",
       "      <td>12.0</td>\n",
       "      <td>...</td>\n",
       "      <td>0.0</td>\n",
       "      <td>4.0</td>\n",
       "      <td>89.0</td>\n",
       "      <td>16.0</td>\n",
       "      <td>6.0</td>\n",
       "      <td>2.0</td>\n",
       "      <td>4.0</td>\n",
       "      <td>484.0</td>\n",
       "      <td>16756.0</td>\n",
       "      <td>7.0</td>\n",
       "    </tr>\n",
       "    <tr>\n",
       "      <th>xzaml</th>\n",
       "      <td>0.0</td>\n",
       "      <td>-456.0</td>\n",
       "      <td>0.0</td>\n",
       "      <td>0.0</td>\n",
       "      <td>0.0</td>\n",
       "      <td>1.0</td>\n",
       "      <td>4.0</td>\n",
       "      <td>0.0</td>\n",
       "      <td>1.0</td>\n",
       "      <td>4.0</td>\n",
       "      <td>...</td>\n",
       "      <td>0.0</td>\n",
       "      <td>1.0</td>\n",
       "      <td>38.0</td>\n",
       "      <td>7.0</td>\n",
       "      <td>0.0</td>\n",
       "      <td>0.0</td>\n",
       "      <td>3.0</td>\n",
       "      <td>210.0</td>\n",
       "      <td>5314.0</td>\n",
       "      <td>5.0</td>\n",
       "    </tr>\n",
       "    <tr>\n",
       "      <th>xzamp</th>\n",
       "      <td>0.0</td>\n",
       "      <td>-456.0</td>\n",
       "      <td>1.0</td>\n",
       "      <td>2.0</td>\n",
       "      <td>1.0</td>\n",
       "      <td>1.0</td>\n",
       "      <td>21.0</td>\n",
       "      <td>0.0</td>\n",
       "      <td>3.0</td>\n",
       "      <td>13.0</td>\n",
       "      <td>...</td>\n",
       "      <td>0.0</td>\n",
       "      <td>4.0</td>\n",
       "      <td>105.0</td>\n",
       "      <td>20.0</td>\n",
       "      <td>8.0</td>\n",
       "      <td>4.0</td>\n",
       "      <td>4.0</td>\n",
       "      <td>563.0</td>\n",
       "      <td>19924.0</td>\n",
       "      <td>7.0</td>\n",
       "    </tr>\n",
       "    <tr>\n",
       "      <th>xzams</th>\n",
       "      <td>0.0</td>\n",
       "      <td>-456.0</td>\n",
       "      <td>1.0</td>\n",
       "      <td>2.0</td>\n",
       "      <td>1.0</td>\n",
       "      <td>1.0</td>\n",
       "      <td>12.0</td>\n",
       "      <td>0.0</td>\n",
       "      <td>1.0</td>\n",
       "      <td>8.0</td>\n",
       "      <td>...</td>\n",
       "      <td>0.0</td>\n",
       "      <td>2.0</td>\n",
       "      <td>53.0</td>\n",
       "      <td>9.0</td>\n",
       "      <td>4.0</td>\n",
       "      <td>0.0</td>\n",
       "      <td>4.0</td>\n",
       "      <td>307.0</td>\n",
       "      <td>10320.0</td>\n",
       "      <td>6.0</td>\n",
       "    </tr>\n",
       "    <tr>\n",
       "      <th>xzapj</th>\n",
       "      <td>0.0</td>\n",
       "      <td>-456.0</td>\n",
       "      <td>1.0</td>\n",
       "      <td>2.0</td>\n",
       "      <td>1.0</td>\n",
       "      <td>1.0</td>\n",
       "      <td>21.0</td>\n",
       "      <td>0.0</td>\n",
       "      <td>3.0</td>\n",
       "      <td>13.0</td>\n",
       "      <td>...</td>\n",
       "      <td>0.0</td>\n",
       "      <td>4.0</td>\n",
       "      <td>105.0</td>\n",
       "      <td>20.0</td>\n",
       "      <td>8.0</td>\n",
       "      <td>4.0</td>\n",
       "      <td>4.0</td>\n",
       "      <td>563.0</td>\n",
       "      <td>19932.0</td>\n",
       "      <td>7.0</td>\n",
       "    </tr>\n",
       "    <tr>\n",
       "      <th>xzaux</th>\n",
       "      <td>0.0</td>\n",
       "      <td>-456.0</td>\n",
       "      <td>1.0</td>\n",
       "      <td>2.0</td>\n",
       "      <td>1.0</td>\n",
       "      <td>1.0</td>\n",
       "      <td>12.0</td>\n",
       "      <td>0.0</td>\n",
       "      <td>1.0</td>\n",
       "      <td>8.0</td>\n",
       "      <td>...</td>\n",
       "      <td>0.0</td>\n",
       "      <td>2.0</td>\n",
       "      <td>53.0</td>\n",
       "      <td>9.0</td>\n",
       "      <td>4.0</td>\n",
       "      <td>0.0</td>\n",
       "      <td>4.0</td>\n",
       "      <td>307.0</td>\n",
       "      <td>10306.0</td>\n",
       "      <td>6.0</td>\n",
       "    </tr>\n",
       "    <tr>\n",
       "      <th>xzavi</th>\n",
       "      <td>0.0</td>\n",
       "      <td>-456.0</td>\n",
       "      <td>0.0</td>\n",
       "      <td>0.0</td>\n",
       "      <td>0.0</td>\n",
       "      <td>1.0</td>\n",
       "      <td>4.0</td>\n",
       "      <td>0.0</td>\n",
       "      <td>1.0</td>\n",
       "      <td>4.0</td>\n",
       "      <td>...</td>\n",
       "      <td>0.0</td>\n",
       "      <td>1.0</td>\n",
       "      <td>34.0</td>\n",
       "      <td>5.0</td>\n",
       "      <td>0.0</td>\n",
       "      <td>0.0</td>\n",
       "      <td>3.0</td>\n",
       "      <td>178.0</td>\n",
       "      <td>4446.0</td>\n",
       "      <td>5.0</td>\n",
       "    </tr>\n",
       "  </tbody>\n",
       "</table>\n",
       "<p>15 rows × 23 columns</p>\n",
       "</div>"
      ],
      "text/plain": [
       "       Vir_N1_32_Ont_Opt_VWall  consensus  order  filter_in  limit  distinct  \\\n",
       "xaf                        0.0     -456.0    1.0        2.0    1.0       1.0   \n",
       "xbd                        0.0     -456.0    1.0        2.0    1.0       1.0   \n",
       "xdp                        0.0     -456.0    1.0        2.0    1.0       1.0   \n",
       "xga                        0.0     -456.0    1.0        2.0    1.0       1.0   \n",
       "xgd                        0.0     -456.0    0.0        0.0    0.0       1.0   \n",
       "xjy                        0.0     -456.0    1.0        2.0    1.0       1.0   \n",
       "xqd                        0.0     -456.0    1.0        2.0    1.0       1.0   \n",
       "xse                        0.0     -456.0    1.0        2.0    1.0       1.0   \n",
       "xzagf                      0.0     -456.0    1.0        2.0    1.0       1.0   \n",
       "xzaml                      0.0     -456.0    0.0        0.0    0.0       1.0   \n",
       "xzamp                      0.0     -456.0    1.0        2.0    1.0       1.0   \n",
       "xzams                      0.0     -456.0    1.0        2.0    1.0       1.0   \n",
       "xzapj                      0.0     -456.0    1.0        2.0    1.0       1.0   \n",
       "xzaux                      0.0     -456.0    1.0        2.0    1.0       1.0   \n",
       "xzavi                      0.0     -456.0    0.0        0.0    0.0       1.0   \n",
       "\n",
       "       triplePattern  tp_?po  union  tp_?p?  ...    graph  optional   keys  \\\n",
       "xaf             15.0     0.0    1.0     9.0  ...      0.0       2.0   61.0   \n",
       "xbd              9.0     0.0    1.0     7.0  ...      0.0       2.0   45.0   \n",
       "xdp             12.0     0.0    1.0     8.0  ...      0.0       2.0   53.0   \n",
       "xga             24.0     0.0    3.0    14.0  ...      0.0       4.0  115.0   \n",
       "xgd              4.0     0.0    1.0     4.0  ...      0.0       1.0   38.0   \n",
       "xjy             24.0     0.0    3.0    14.0  ...      0.0       4.0  115.0   \n",
       "xqd             21.0     0.0    3.0    13.0  ...      0.0       4.0  107.0   \n",
       "xse             18.0     0.0    3.0    12.0  ...      0.0       4.0   89.0   \n",
       "xzagf           18.0     0.0    3.0    12.0  ...      0.0       4.0   89.0   \n",
       "xzaml            4.0     0.0    1.0     4.0  ...      0.0       1.0   38.0   \n",
       "xzamp           21.0     0.0    3.0    13.0  ...      0.0       4.0  105.0   \n",
       "xzams           12.0     0.0    1.0     8.0  ...      0.0       2.0   53.0   \n",
       "xzapj           21.0     0.0    3.0    13.0  ...      0.0       4.0  105.0   \n",
       "xzaux           12.0     0.0    1.0     8.0  ...      0.0       2.0   53.0   \n",
       "xzavi            4.0     0.0    1.0     4.0  ...      0.0       1.0   34.0   \n",
       "\n",
       "       filter  tp_???  group  query  jsonLines  jsonSize  depth  \n",
       "xaf      13.0     6.0    0.0    4.0      366.0   12468.0    6.0  \n",
       "xbd       5.0     2.0    0.0    4.0      248.0    8192.0    6.0  \n",
       "xdp       9.0     4.0    0.0    4.0      307.0   10328.0    6.0  \n",
       "xga      24.0    10.0    4.0    4.0      627.0   22220.0    7.0  \n",
       "xgd       7.0     0.0    0.0    3.0      210.0    5314.0    5.0  \n",
       "xjy      24.0    10.0    4.0    4.0      627.0   22214.0    7.0  \n",
       "xqd      20.0     8.0    4.0    4.0      568.0   20100.0    7.0  \n",
       "xse      16.0     6.0    2.0    4.0      484.0   16764.0    7.0  \n",
       "xzagf    16.0     6.0    2.0    4.0      484.0   16756.0    7.0  \n",
       "xzaml     7.0     0.0    0.0    3.0      210.0    5314.0    5.0  \n",
       "xzamp    20.0     8.0    4.0    4.0      563.0   19924.0    7.0  \n",
       "xzams     9.0     4.0    0.0    4.0      307.0   10320.0    6.0  \n",
       "xzapj    20.0     8.0    4.0    4.0      563.0   19932.0    7.0  \n",
       "xzaux     9.0     4.0    0.0    4.0      307.0   10306.0    6.0  \n",
       "xzavi     5.0     0.0    0.0    3.0      178.0    4446.0    5.0  \n",
       "\n",
       "[15 rows x 23 columns]"
      ]
     },
     "execution_count": 28,
     "metadata": {},
     "output_type": "execute_result"
    }
   ],
   "source": [
    "df_wrong_features = df_wrong.join(df_queryfeatures)\n",
    "df_wrong_features[df_wrong_features.columns[5:]]"
   ]
  },
  {
   "cell_type": "markdown",
   "metadata": {},
   "source": [
    "### If the count is in a subquery it is in fact possible that there are 0 results! "
   ]
  },
  {
   "cell_type": "markdown",
   "metadata": {},
   "source": [
    "**1. xaf => 0 is possible** \n",
    "```\n",
    "PREFIX owl: <http://www.w3.org/2002/07/owl#> \n",
    "PREFIX  dc: <http://purl.org/dc/elements/1.1/> \n",
    "PREFIX  rdfs: <http://www.w3.org/2000/01/rdf-schema#> \n",
    "PREFIX  rdf:  <http://www.w3.org/1999/02/22-rdf-syntax-ns#> \n",
    "PREFIX  dcterms: <http://purl.org/dc/terms/> \n",
    "\n",
    "SELECT ?val (coalesce(?label, ?val) AS ?val_label) ?vc WHERE { \n",
    "    {\n",
    "        SELECT ?val (COUNT(DISTINCT ?id) as ?vc) WHERE {\n",
    "            {\n",
    "                SELECT ?original ?id ?val WHERE {\n",
    "                    ?original <http://ns.ontoforce.com/2013/disqover#preferredUri> ?id. \n",
    "                    ?original_1 <http://ns.ontoforce.com/ontologies/drugchemical/group> ?val. \n",
    "                    ?original_2 ?facet_source_1 ?facet_value_1. \n",
    "                    FILTER(?facet_source_1 = <http://www.w3.org/1999/02/22-rdf-syntax-ns#type>) \n",
    "                    FILTER (?facet_value_1 IN  (...)) \n",
    "                    ?original_3 ?facet_source_2 ?facet_value_2.\n",
    "                    FILTER(?facet_source_2 = ...) \n",
    "                    FILTER(?facet_value_2 = ...) \n",
    "                    ?original_4 ?facet_source_3 ?facet_value_3. \n",
    "                    FILTER(?facet_source_3 = ...) \n",
    "                    FILTER(?facet_value_3 = ...) \n",
    "                    ?original_1 <http://ns.ontoforce.com/2013/disqover#preferredUri> ?id. \n",
    "                    ?original_2 <http://ns.ontoforce.com/2013/disqover#preferredUri> ?id. \n",
    "                    ?original_3 <http://ns.ontoforce.com/2013/disqover#preferredUri> ?id. \n",
    "                    ?original_4 <http://ns.ontoforce.com/2013/disqover#preferredUri> ?id. \n",
    "                } \n",
    "            } \n",
    "            UNION \n",
    "            { \n",
    "                SELECT ?original ?id ?val WHERE {\n",
    "                    ?original <http://ns.ontoforce.com/ontologies/drugchemical/group> ?val. \n",
    "                    ?original ?facet_source_4 ?facet_value_4. \n",
    "                    FILTER(?facet_source_4 = <http://www.w3.org/1999/02/22-rdf-syntax-ns#type>) \n",
    "                    FILTER (?facet_value_4 IN ...)) \n",
    "                    ?original ?facet_source_5 ?facet_value_5.\n",
    "                    FILTER(?facet_source_5 = ...) \n",
    "                    FILTER(?facet_value_5 = ...) \n",
    "                    ?original ?facet_source_6 ?facet_value_6. \n",
    "                    FILTER(?facet_source_6 = <http://ns.ontoforce.com/ontologies/drugchemical/manufacturer>) \n",
    "                    FILTER(?facet_value_6 =...) \n",
    "                    OPTIONAL { \n",
    "                        ?original <http://ns.ontoforce.com/2013/disqover#preferredUri> ?id. \n",
    "                    } \n",
    "                    FILTER(!BOUND(?id)) \n",
    "                } \n",
    "            } \n",
    "        } \n",
    "        GROUP BY ?val\n",
    "    } \n",
    "    OPTIONAL{ \n",
    "        ?val <http://ns.ontoforce.com/2013/disqover#preferredLabel> ?label\n",
    "    } \n",
    "} \n",
    "ORDER BY DESC(?vc) ?val_label \n",
    "LIMIT 18 \n",
    "OFFSET 0\n",
    "```"
   ]
  },
  {
   "cell_type": "markdown",
   "metadata": {
    "collapsed": true
   },
   "source": [
    "**2. xbd => 0 is possible** \n",
    "```\n",
    "PREFIX owl: <http://www.w3.org/2002/07/owl#> \n",
    "PREFIX  dc: <http://purl.org/dc/elements/1.1/> \n",
    "PREFIX  rdfs: <http://www.w3.org/2000/01/rdf-schema#> \n",
    "PREFIX  rdf:  <http://www.w3.org/1999/02/22-rdf-syntax-ns#> \n",
    "PREFIX  dcterms: <http://purl.org/dc/terms/> \n",
    "\n",
    "SELECT ?val (coalesce(?label, ?val) AS ?val_label) ?vc WHERE { \n",
    "    {\n",
    "        SELECT ?val (COUNT(DISTINCT ?id) as ?vc) WHERE { \n",
    "            { \n",
    "                SELECT ?original ?id ?val WHERE { \n",
    "                    ?original <http://ns.ontoforce.com/2013/disqover#preferredUri> ?id.\n",
    "                    ?original_1 <http://ns.ontoforce.com/ontologies/drugchemical/manufacturer> ?val.\n",
    "                    ?original_2 ?facet_source_1 ?facet_value_1. \n",
    "                    FILTER(?facet_source_1 = ...) \n",
    "                    FILTER (?facet_value_1 IN (...)) \n",
    "                    ?original_1 <http://ns.ontoforce.com/2013/disqover#preferredUri> ?id. \n",
    "                    ?original_2 <http://ns.ontoforce.com/2013/disqover#preferredUri> ?id. \n",
    "                } \n",
    "            } \n",
    "            UNION { \n",
    "                SELECT ?original ?id ?val WHERE { \n",
    "                    ?original <http://ns.ontoforce.com/ontologies/drugchemical/manufacturer> ?val. \n",
    "                    ?original ?facet_source_2 ?facet_value_2. \n",
    "                    FILTER(?facet_source_2 = ...) \n",
    "                    FILTER (?facet_value_2 IN (...)) \n",
    "                    OPTIONAL { \n",
    "                        ?original <http://ns.ontoforce.com/2013/disqover#preferredUri> ?id. \n",
    "                    } \n",
    "                    FILTER(!BOUND(?id)) \n",
    "                } \n",
    "            } \n",
    "        } \n",
    "        GROUP BY ?val\n",
    "    } \n",
    "    OPTIONAL { \n",
    "        ?val <http://ns.ontoforce.com/2013/disqover#preferredLabel> ?label\n",
    "    } \n",
    "} \n",
    "ORDER BY DESC(?vc) ?val_label \n",
    "LIMIT 18 \n",
    "OFFSET 0 \n",
    "```"
   ]
  },
  {
   "cell_type": "markdown",
   "metadata": {
    "collapsed": true
   },
   "source": [
    "**3. xdp => 0 is possible** \n",
    "```\n",
    "SELECT ?val (coalesce(?label, ?val) AS ?val_label) ?vc WHERE { \n",
    "    {\n",
    "        SELECT ?val (COUNT(DISTINCT ?id) as ?vc) WHERE { \n",
    "            { \n",
    "                SELECT ?original ?id ?val WHERE {\n",
    "                    ...\n",
    "```"
   ]
  },
  {
   "cell_type": "markdown",
   "metadata": {
    "collapsed": true
   },
   "source": [
    "**4. xga => 0 is possible** \n",
    "```\n",
    "SELECT ?val (coalesce(?label, ?val) AS ?val_label) ?vc WHERE {\n",
    "    {\n",
    "        SELECT ?val (COUNT(DISTINCT ?id) as ?vc) WHERE {\n",
    "            { \n",
    "                SELECT ?original ?id ?val WHERE {\n",
    "                    ?original <http://ns.ontoforce.com/2013/disqover#preferredUri> ?id.\n",
    "                    ?original_1 <http://ns.ontoforce.com/ontologies/drugchemical/affectedOrganism> ?val.\n",
    "                    ?original_2 ?facet_source_1 ?facet_value_1. \n",
    "                    FILTER(?facet_source_1 = <http://www.w3.org/1999/02/22-rdf-syntax-ns#type>) \n",
    "                    FILTER (?facet_value_1 IN (...)) \n",
    "                    ?original_3 ?facet_source_2 ?facet_value_2. \n",
    "                    FILTER(?facet_source_2 = ...) \n",
    "                    FILTER(?facet_value_2 = ...) \n",
    "                    { \n",
    "                        OPTIONAL {\n",
    "```\n"
   ]
  },
  {
   "cell_type": "markdown",
   "metadata": {
    "collapsed": true
   },
   "source": [
    "**5. xgd => 0 is possible** \n",
    "```\n",
    "PREFIX owl: <http://www.w3.org/2002/07/owl#> PREFIX  dc: <http://purl.org/dc/elements/1.1/> \n",
    "PREFIX  rdfs: <http://www.w3.org/2000/01/rdf-schema#> \n",
    "PREFIX  rdf:  <http://www.w3.org/1999/02/22-rdf-syntax-ns#> \n",
    "PREFIX  dcterms: <http://purl.org/dc/terms/> \n",
    "\n",
    "SELECT (?class AS ?val) (COUNT(DISTINCT ?original) AS ?vc) WHERE { \n",
    "    ?original a ?class . \n",
    "    { \n",
    "        SELECT ?original ?assoc WHERE { \n",
    "            ?original <http://ns.ontoforce.com/2013/disqover#preferredUri> ?assoc.\n",
    "            FILTER (!bound(?original_1)) \n",
    "            ?original_1 <http://ns.ontoforce.com/2013/disqover#preferredUri> ?assoc.\n",
    "            FILTER(!BOUND(?facet_value_2)) \n",
    "            FILTER(!BOUND(?facet_value_3)) \n",
    "        } \n",
    "    } \n",
    "    UNION { \n",
    "        SELECT ?original ?assoc WHERE {\n",
    "            FILTER (!bound(?original)) \n",
    "            OPTIONAL { \n",
    "                ?original <http://ns.ontoforce.com/2013/disqover#preferredUri> ?assoc. \n",
    "            } \n",
    "            FILTER(!BOUND(?assoc)) \n",
    "            FILTER(!BOUND(?facet_value_2)) \n",
    "            FILTER(!BOUND(?facet_value_3)) \n",
    "        } \n",
    "    } \n",
    "} \n",
    "GROUP BY ?class \n",
    "```"
   ]
  },
  {
   "cell_type": "markdown",
   "metadata": {
    "collapsed": true
   },
   "source": [
    "**6. xjy => 0 is possible** \n",
    "```\n",
    "PREFIX owl: <http://www.w3.org/2002/07/owl#> \n",
    "PREFIX  dc: <http://purl.org/dc/elements/1.1/> \n",
    "PREFIX  rdfs: <http://www.w3.org/2000/01/rdf-schema#> \n",
    "PREFIX  rdf:  <http://www.w3.org/1999/02/22-rdf-syntax-ns#> \n",
    "PREFIX  dcterms: <http://purl.org/dc/terms/> \n",
    "\n",
    "SELECT ?val (coalesce(?label, ?val) AS ?val_label) ?vc WHERE {\n",
    "    {\n",
    "        SELECT ?val (COUNT(DISTINCT ?id) as ?vc) WHERE {\n",
    "            {\n",
    "                SELECT ?original ?id ?val WHERE {\n",
    "                    ?original <http://ns.ontoforce.com/2013/disqover#preferredUri> ?id. \n",
    "                    ?original_1 <http://ns.ontoforce.com/ontologies/drugchemical/substanceType> ?val. \n",
    "                    ?original_2 ?facet_source_1 ?facet_value_1. \n",
    "                    FILTER(?facet_source_1 = <http://www.w3.org/1999/02/22-rdf-syntax-ns#type>) \n",
    "                    FILTER (?facet_value_1 IN (...)) \n",
    "                    ?original_3 ?facet_source_2 ?facet_value_2. \n",
    "                    FILTER(?facet_source_2 = ...) \n",
    "                    FILTER(?facet_value_2 = <http://ns.ontoforce.com/ontologies/chembl/4>) \n",
    "                    { \n",
    "                        OPTIONAL{ \n",
    "                            ?original_4 <http://ns.ontoforce.com/2013/disqover#preferredUri> ?id. \n",
    "                            {\n",
    "                                ?original_4 <http://ns.ontoforce.com/ontologies/drugchemical/group> ?facet_value_3 \n",
    "                            } \n",
    "                        } \n",
    "                    } \n",
    "                    UNION { \n",
    "                        ?original_5 ?facet_source_3 ?facet_value_4. \n",
    "                        FILTER(?facet_source_3 = <http://ns.ontoforce.com/ontologies/drugchemical/group>) \n",
    "                        FILTER(?facet_value_4 = <http://ns.ontoforce.com/ontologies/drugchemical/withdrawn>) \n",
    "                    }\n",
    "                    UNION { \n",
    "                        ?original_6 ?facet_source_4 ?facet_value_5. \n",
    "                        FILTER(?facet_source_4 = <http://ns.ontoforce.com/ontologies/drugchemical/group>) \n",
    "                        FILTER(?facet_value_5 = <http://ns.ontoforce.com/ontologies/drugchemical/nutraceutical>) \n",
    "                    } \n",
    "                    ?original_7 ?facet_source_5 ?facet_value_6. \n",
    "                    FILTER(?facet_source_5 = <http://ns.ontoforce.com/ontologies/drugchemical/manufacturer>) \n",
    "                    FILTER(?facet_value_6 = ...) \n",
    "                    ?original_1 <http://ns.ontoforce.com/2013/disqover#preferredUri> ?id.\n",
    "                    ?original_2 <http://ns.ontoforce.com/2013/disqover#preferredUri> ?id.\n",
    "                    ?original_3 <http://ns.ontoforce.com/2013/disqover#preferredUri> ?id.\n",
    "                    ?original_5 <http://ns.ontoforce.com/2013/disqover#preferredUri> ?id.\n",
    "                    ?original_6 <http://ns.ontoforce.com/2013/disqover#preferredUri> ?id.\n",
    "                    ?original_7 <http://ns.ontoforce.com/2013/disqover#preferredUri> ?id. \n",
    "                    FILTER(!BOUND(?facet_value_3)) \n",
    "                } \n",
    "            } \n",
    "            UNION { \n",
    "                SELECT ?original ?id ?val WHERE { \n",
    "                    ?original <http://ns.ontoforce.com/ontologies/drugchemical/substanceType> ?val.\n",
    "                    ?original ?facet_source_6 ?facet_value_7.\n",
    "                    FILTER(?facet_source_6 = <http://www.w3.org/1999/02/22-rdf-syntax-ns#type>) \n",
    "                    FILTER (?facet_value_7 IN (..)) \n",
    "                    ?original ?facet_source_7 ?facet_value_8.\n",
    "                    FILTER(?facet_source_7 = ..) \n",
    "                    FILTER(?facet_value_8 = <http://ns.ontoforce.com/ontologies/chembl/4>) \n",
    "                    { \n",
    "                        OPTIONAL{ \n",
    "                            { \n",
    "                                ?original <http://ns.ontoforce.com/ontologies/drugchemical/group> ?facet_value_9 \n",
    "                            } \n",
    "                        } \n",
    "                    } \n",
    "                    UNION { \n",
    "                        ?original ?facet_source_8 ?facet_value_10. \n",
    "                        FILTER(?facet_source_8 = <http://ns.ontoforce.com/ontologies/drugchemical/group>) \n",
    "                        FILTER(?facet_value_10 = <http://ns.ontoforce.com/ontologies/drugchemical/withdrawn>) \n",
    "                    } \n",
    "                    UNION { \n",
    "                        ?original ?facet_source_9 ?facet_value_11. \n",
    "                        FILTER(?facet_source_9 = <http://ns.ontoforce.com/ontologies/drugchemical/group>) \n",
    "                        FILTER(?facet_value_11 = <http://ns.ontoforce.com/ontologies/drugchemical/nutraceutical>) \n",
    "                    } \n",
    "                    ?original ?facet_source_10 ?facet_value_12. \n",
    "                    FILTER(?facet_source_10 = ...) \n",
    "                    FILTER(?facet_value_12 = ...) \n",
    "                    OPTIONAL { \n",
    "                        ?original <http://ns.ontoforce.com/2013/disqover#preferredUri> ?id. \n",
    "                    } \n",
    "                    FILTER(!BOUND(?id)) \n",
    "                    FILTER(!BOUND(?facet_value_3)) \n",
    "                    FILTER(!BOUND(?facet_value_9)) \n",
    "                } \n",
    "            } \n",
    "        } \n",
    "        GROUP BY ?val\n",
    "    } \n",
    "    OPTIONAL { \n",
    "        ?val <http://ns.ontoforce.com/2013/disqover#preferredLabel> ?label\n",
    "    } \n",
    "} \n",
    "ORDER BY DESC(?vc) ?val_label \n",
    "LIMIT 18 \n",
    "OFFSET 0 \n",
    "```"
   ]
  },
  {
   "cell_type": "markdown",
   "metadata": {
    "collapsed": true
   },
   "source": [
    "**7. xqd => 0 is possible** \n",
    "\n",
    "**8. xse => 0 is possible** \n",
    "\n",
    "**9. xzagf => 0 is possible** \n",
    "\n",
    "**10. xzaml => 0 is possible** \n",
    "\n",
    "**11.  xzamp  => 0 is possible** \n",
    "\n",
    "**12. xzams  => 0 is possible** \n",
    "\n",
    "**13. xzapj  => 0 is possible** \n",
    "\n",
    "**14. xzaux => 0 is possible** \n",
    "\n",
    "**15. xzavi => 0 is possible** \n",
    "\n",
    "### CONCLUSION: drop special label and consider Vir\n"
   ]
  },
  {
   "cell_type": "code",
   "execution_count": 29,
   "metadata": {},
   "outputs": [
    {
     "data": {
      "text/html": [
       "<div>\n",
       "<style>\n",
       "    .dataframe thead tr:only-child th {\n",
       "        text-align: right;\n",
       "    }\n",
       "\n",
       "    .dataframe thead th {\n",
       "        text-align: left;\n",
       "    }\n",
       "\n",
       "    .dataframe tbody tr th {\n",
       "        vertical-align: top;\n",
       "    }\n",
       "</style>\n",
       "<table border=\"1\" class=\"dataframe\">\n",
       "  <thead>\n",
       "    <tr style=\"text-align: right;\">\n",
       "      <th></th>\n",
       "      <th>Bla_N1_64_Ont_Opt</th>\n",
       "      <th>Gra_N1_64_Ont_Opt</th>\n",
       "      <th>ES_N1_64_Ont_Def</th>\n",
       "      <th>Vir_N1_64_Ont_Opt</th>\n",
       "      <th>Vir_N1_64_Ont_Opt_VWall</th>\n",
       "      <th>Vir_N1_32_Ont_Opt_VWall</th>\n",
       "      <th>consensus</th>\n",
       "    </tr>\n",
       "  </thead>\n",
       "  <tbody>\n",
       "    <tr>\n",
       "      <th>xaa</th>\n",
       "      <td>NaN</td>\n",
       "      <td>1.0</td>\n",
       "      <td>1.0</td>\n",
       "      <td>1.0</td>\n",
       "      <td>1.0</td>\n",
       "      <td>1.0</td>\n",
       "      <td>1.0</td>\n",
       "    </tr>\n",
       "    <tr>\n",
       "      <th>xab</th>\n",
       "      <td>NaN</td>\n",
       "      <td>2.0</td>\n",
       "      <td>NaN</td>\n",
       "      <td>2.0</td>\n",
       "      <td>2.0</td>\n",
       "      <td>2.0</td>\n",
       "      <td>2.0</td>\n",
       "    </tr>\n",
       "    <tr>\n",
       "      <th>xac</th>\n",
       "      <td>NaN</td>\n",
       "      <td>1.0</td>\n",
       "      <td>1.0</td>\n",
       "      <td>1.0</td>\n",
       "      <td>1.0</td>\n",
       "      <td>1.0</td>\n",
       "      <td>1.0</td>\n",
       "    </tr>\n",
       "    <tr>\n",
       "      <th>xad</th>\n",
       "      <td>NaN</td>\n",
       "      <td>0.0</td>\n",
       "      <td>0.0</td>\n",
       "      <td>0.0</td>\n",
       "      <td>0.0</td>\n",
       "      <td>0.0</td>\n",
       "      <td>0.0</td>\n",
       "    </tr>\n",
       "    <tr>\n",
       "      <th>xae</th>\n",
       "      <td>NaN</td>\n",
       "      <td>1.0</td>\n",
       "      <td>1.0</td>\n",
       "      <td>1.0</td>\n",
       "      <td>1.0</td>\n",
       "      <td>1.0</td>\n",
       "      <td>1.0</td>\n",
       "    </tr>\n",
       "    <tr>\n",
       "      <th>xaf</th>\n",
       "      <td>NaN</td>\n",
       "      <td>NaN</td>\n",
       "      <td>NaN</td>\n",
       "      <td>0.0</td>\n",
       "      <td>0.0</td>\n",
       "      <td>0.0</td>\n",
       "      <td>-234.0</td>\n",
       "    </tr>\n",
       "    <tr>\n",
       "      <th>xag</th>\n",
       "      <td>NaN</td>\n",
       "      <td>1.0</td>\n",
       "      <td>1.0</td>\n",
       "      <td>1.0</td>\n",
       "      <td>1.0</td>\n",
       "      <td>1.0</td>\n",
       "      <td>1.0</td>\n",
       "    </tr>\n",
       "    <tr>\n",
       "      <th>xah</th>\n",
       "      <td>NaN</td>\n",
       "      <td>0.0</td>\n",
       "      <td>0.0</td>\n",
       "      <td>0.0</td>\n",
       "      <td>0.0</td>\n",
       "      <td>0.0</td>\n",
       "      <td>0.0</td>\n",
       "    </tr>\n",
       "    <tr>\n",
       "      <th>xai</th>\n",
       "      <td>NaN</td>\n",
       "      <td>1.0</td>\n",
       "      <td>1.0</td>\n",
       "      <td>1.0</td>\n",
       "      <td>1.0</td>\n",
       "      <td>1.0</td>\n",
       "      <td>1.0</td>\n",
       "    </tr>\n",
       "    <tr>\n",
       "      <th>xaj</th>\n",
       "      <td>NaN</td>\n",
       "      <td>NaN</td>\n",
       "      <td>NaN</td>\n",
       "      <td>2.0</td>\n",
       "      <td>2.0</td>\n",
       "      <td>2.0</td>\n",
       "      <td>2.0</td>\n",
       "    </tr>\n",
       "    <tr>\n",
       "      <th>xak</th>\n",
       "      <td>NaN</td>\n",
       "      <td>NaN</td>\n",
       "      <td>1.0</td>\n",
       "      <td>1.0</td>\n",
       "      <td>1.0</td>\n",
       "      <td>1.0</td>\n",
       "      <td>1.0</td>\n",
       "    </tr>\n",
       "    <tr>\n",
       "      <th>xal</th>\n",
       "      <td>NaN</td>\n",
       "      <td>1.0</td>\n",
       "      <td>1.0</td>\n",
       "      <td>1.0</td>\n",
       "      <td>1.0</td>\n",
       "      <td>1.0</td>\n",
       "      <td>1.0</td>\n",
       "    </tr>\n",
       "    <tr>\n",
       "      <th>xam</th>\n",
       "      <td>NaN</td>\n",
       "      <td>0.0</td>\n",
       "      <td>0.0</td>\n",
       "      <td>0.0</td>\n",
       "      <td>0.0</td>\n",
       "      <td>0.0</td>\n",
       "      <td>0.0</td>\n",
       "    </tr>\n",
       "    <tr>\n",
       "      <th>xan</th>\n",
       "      <td>NaN</td>\n",
       "      <td>1.0</td>\n",
       "      <td>1.0</td>\n",
       "      <td>1.0</td>\n",
       "      <td>1.0</td>\n",
       "      <td>1.0</td>\n",
       "      <td>1.0</td>\n",
       "    </tr>\n",
       "    <tr>\n",
       "      <th>xao</th>\n",
       "      <td>NaN</td>\n",
       "      <td>0.0</td>\n",
       "      <td>0.0</td>\n",
       "      <td>0.0</td>\n",
       "      <td>0.0</td>\n",
       "      <td>0.0</td>\n",
       "      <td>0.0</td>\n",
       "    </tr>\n",
       "    <tr>\n",
       "      <th>xap</th>\n",
       "      <td>NaN</td>\n",
       "      <td>0.0</td>\n",
       "      <td>0.0</td>\n",
       "      <td>0.0</td>\n",
       "      <td>0.0</td>\n",
       "      <td>0.0</td>\n",
       "      <td>0.0</td>\n",
       "    </tr>\n",
       "    <tr>\n",
       "      <th>xaq</th>\n",
       "      <td>NaN</td>\n",
       "      <td>1.0</td>\n",
       "      <td>1.0</td>\n",
       "      <td>1.0</td>\n",
       "      <td>1.0</td>\n",
       "      <td>1.0</td>\n",
       "      <td>1.0</td>\n",
       "    </tr>\n",
       "    <tr>\n",
       "      <th>xar</th>\n",
       "      <td>1.0</td>\n",
       "      <td>1.0</td>\n",
       "      <td>1.0</td>\n",
       "      <td>1.0</td>\n",
       "      <td>1.0</td>\n",
       "      <td>1.0</td>\n",
       "      <td>1.0</td>\n",
       "    </tr>\n",
       "    <tr>\n",
       "      <th>xas</th>\n",
       "      <td>NaN</td>\n",
       "      <td>5.0</td>\n",
       "      <td>5.0</td>\n",
       "      <td>5.0</td>\n",
       "      <td>5.0</td>\n",
       "      <td>5.0</td>\n",
       "      <td>5.0</td>\n",
       "    </tr>\n",
       "    <tr>\n",
       "      <th>xat</th>\n",
       "      <td>NaN</td>\n",
       "      <td>1.0</td>\n",
       "      <td>1.0</td>\n",
       "      <td>1.0</td>\n",
       "      <td>1.0</td>\n",
       "      <td>1.0</td>\n",
       "      <td>1.0</td>\n",
       "    </tr>\n",
       "    <tr>\n",
       "      <th>xau</th>\n",
       "      <td>NaN</td>\n",
       "      <td>0.0</td>\n",
       "      <td>0.0</td>\n",
       "      <td>0.0</td>\n",
       "      <td>0.0</td>\n",
       "      <td>0.0</td>\n",
       "      <td>0.0</td>\n",
       "    </tr>\n",
       "    <tr>\n",
       "      <th>xav</th>\n",
       "      <td>NaN</td>\n",
       "      <td>4.0</td>\n",
       "      <td>4.0</td>\n",
       "      <td>4.0</td>\n",
       "      <td>4.0</td>\n",
       "      <td>4.0</td>\n",
       "      <td>4.0</td>\n",
       "    </tr>\n",
       "    <tr>\n",
       "      <th>xaw</th>\n",
       "      <td>NaN</td>\n",
       "      <td>1.0</td>\n",
       "      <td>1.0</td>\n",
       "      <td>1.0</td>\n",
       "      <td>1.0</td>\n",
       "      <td>1.0</td>\n",
       "      <td>1.0</td>\n",
       "    </tr>\n",
       "    <tr>\n",
       "      <th>xax</th>\n",
       "      <td>NaN</td>\n",
       "      <td>NaN</td>\n",
       "      <td>1.0</td>\n",
       "      <td>1.0</td>\n",
       "      <td>1.0</td>\n",
       "      <td>1.0</td>\n",
       "      <td>1.0</td>\n",
       "    </tr>\n",
       "    <tr>\n",
       "      <th>xay</th>\n",
       "      <td>NaN</td>\n",
       "      <td>0.0</td>\n",
       "      <td>0.0</td>\n",
       "      <td>0.0</td>\n",
       "      <td>0.0</td>\n",
       "      <td>0.0</td>\n",
       "      <td>0.0</td>\n",
       "    </tr>\n",
       "    <tr>\n",
       "      <th>xaz</th>\n",
       "      <td>NaN</td>\n",
       "      <td>1.0</td>\n",
       "      <td>1.0</td>\n",
       "      <td>1.0</td>\n",
       "      <td>1.0</td>\n",
       "      <td>1.0</td>\n",
       "      <td>1.0</td>\n",
       "    </tr>\n",
       "    <tr>\n",
       "      <th>xba</th>\n",
       "      <td>NaN</td>\n",
       "      <td>0.0</td>\n",
       "      <td>0.0</td>\n",
       "      <td>0.0</td>\n",
       "      <td>0.0</td>\n",
       "      <td>0.0</td>\n",
       "      <td>0.0</td>\n",
       "    </tr>\n",
       "    <tr>\n",
       "      <th>xbb</th>\n",
       "      <td>NaN</td>\n",
       "      <td>0.0</td>\n",
       "      <td>0.0</td>\n",
       "      <td>0.0</td>\n",
       "      <td>0.0</td>\n",
       "      <td>0.0</td>\n",
       "      <td>0.0</td>\n",
       "    </tr>\n",
       "    <tr>\n",
       "      <th>xbc</th>\n",
       "      <td>NaN</td>\n",
       "      <td>1.0</td>\n",
       "      <td>1.0</td>\n",
       "      <td>1.0</td>\n",
       "      <td>1.0</td>\n",
       "      <td>1.0</td>\n",
       "      <td>1.0</td>\n",
       "    </tr>\n",
       "    <tr>\n",
       "      <th>xbd</th>\n",
       "      <td>NaN</td>\n",
       "      <td>NaN</td>\n",
       "      <td>NaN</td>\n",
       "      <td>0.0</td>\n",
       "      <td>0.0</td>\n",
       "      <td>0.0</td>\n",
       "      <td>-234.0</td>\n",
       "    </tr>\n",
       "    <tr>\n",
       "      <th>...</th>\n",
       "      <td>...</td>\n",
       "      <td>...</td>\n",
       "      <td>...</td>\n",
       "      <td>...</td>\n",
       "      <td>...</td>\n",
       "      <td>...</td>\n",
       "      <td>...</td>\n",
       "    </tr>\n",
       "    <tr>\n",
       "      <th>xzaux</th>\n",
       "      <td>NaN</td>\n",
       "      <td>NaN</td>\n",
       "      <td>NaN</td>\n",
       "      <td>0.0</td>\n",
       "      <td>0.0</td>\n",
       "      <td>0.0</td>\n",
       "      <td>-234.0</td>\n",
       "    </tr>\n",
       "    <tr>\n",
       "      <th>xzauy</th>\n",
       "      <td>NaN</td>\n",
       "      <td>1.0</td>\n",
       "      <td>1.0</td>\n",
       "      <td>1.0</td>\n",
       "      <td>1.0</td>\n",
       "      <td>1.0</td>\n",
       "      <td>1.0</td>\n",
       "    </tr>\n",
       "    <tr>\n",
       "      <th>xzauz</th>\n",
       "      <td>NaN</td>\n",
       "      <td>NaN</td>\n",
       "      <td>NaN</td>\n",
       "      <td>1.0</td>\n",
       "      <td>1.0</td>\n",
       "      <td>1.0</td>\n",
       "      <td>1.0</td>\n",
       "    </tr>\n",
       "    <tr>\n",
       "      <th>xzava</th>\n",
       "      <td>NaN</td>\n",
       "      <td>NaN</td>\n",
       "      <td>NaN</td>\n",
       "      <td>2.0</td>\n",
       "      <td>2.0</td>\n",
       "      <td>2.0</td>\n",
       "      <td>2.0</td>\n",
       "    </tr>\n",
       "    <tr>\n",
       "      <th>xzavb</th>\n",
       "      <td>NaN</td>\n",
       "      <td>1001.0</td>\n",
       "      <td>1001.0</td>\n",
       "      <td>1001.0</td>\n",
       "      <td>1001.0</td>\n",
       "      <td>1001.0</td>\n",
       "      <td>1001.0</td>\n",
       "    </tr>\n",
       "    <tr>\n",
       "      <th>xzavc</th>\n",
       "      <td>NaN</td>\n",
       "      <td>0.0</td>\n",
       "      <td>0.0</td>\n",
       "      <td>0.0</td>\n",
       "      <td>0.0</td>\n",
       "      <td>0.0</td>\n",
       "      <td>0.0</td>\n",
       "    </tr>\n",
       "    <tr>\n",
       "      <th>xzavd</th>\n",
       "      <td>NaN</td>\n",
       "      <td>1.0</td>\n",
       "      <td>1.0</td>\n",
       "      <td>1.0</td>\n",
       "      <td>1.0</td>\n",
       "      <td>1.0</td>\n",
       "      <td>1.0</td>\n",
       "    </tr>\n",
       "    <tr>\n",
       "      <th>xzave</th>\n",
       "      <td>NaN</td>\n",
       "      <td>1.0</td>\n",
       "      <td>1.0</td>\n",
       "      <td>1.0</td>\n",
       "      <td>1.0</td>\n",
       "      <td>1.0</td>\n",
       "      <td>1.0</td>\n",
       "    </tr>\n",
       "    <tr>\n",
       "      <th>xzavf</th>\n",
       "      <td>NaN</td>\n",
       "      <td>0.0</td>\n",
       "      <td>0.0</td>\n",
       "      <td>0.0</td>\n",
       "      <td>0.0</td>\n",
       "      <td>0.0</td>\n",
       "      <td>0.0</td>\n",
       "    </tr>\n",
       "    <tr>\n",
       "      <th>xzavg</th>\n",
       "      <td>NaN</td>\n",
       "      <td>1.0</td>\n",
       "      <td>1.0</td>\n",
       "      <td>1.0</td>\n",
       "      <td>1.0</td>\n",
       "      <td>1.0</td>\n",
       "      <td>1.0</td>\n",
       "    </tr>\n",
       "    <tr>\n",
       "      <th>xzavh</th>\n",
       "      <td>NaN</td>\n",
       "      <td>1.0</td>\n",
       "      <td>1.0</td>\n",
       "      <td>1.0</td>\n",
       "      <td>1.0</td>\n",
       "      <td>1.0</td>\n",
       "      <td>1.0</td>\n",
       "    </tr>\n",
       "    <tr>\n",
       "      <th>xzavi</th>\n",
       "      <td>NaN</td>\n",
       "      <td>NaN</td>\n",
       "      <td>NaN</td>\n",
       "      <td>0.0</td>\n",
       "      <td>0.0</td>\n",
       "      <td>0.0</td>\n",
       "      <td>-234.0</td>\n",
       "    </tr>\n",
       "    <tr>\n",
       "      <th>xzavj</th>\n",
       "      <td>NaN</td>\n",
       "      <td>1.0</td>\n",
       "      <td>1.0</td>\n",
       "      <td>1.0</td>\n",
       "      <td>1.0</td>\n",
       "      <td>1.0</td>\n",
       "      <td>1.0</td>\n",
       "    </tr>\n",
       "    <tr>\n",
       "      <th>xzavk</th>\n",
       "      <td>NaN</td>\n",
       "      <td>NaN</td>\n",
       "      <td>NaN</td>\n",
       "      <td>1.0</td>\n",
       "      <td>1.0</td>\n",
       "      <td>1.0</td>\n",
       "      <td>1.0</td>\n",
       "    </tr>\n",
       "    <tr>\n",
       "      <th>xzavl</th>\n",
       "      <td>NaN</td>\n",
       "      <td>1.0</td>\n",
       "      <td>1.0</td>\n",
       "      <td>1.0</td>\n",
       "      <td>1.0</td>\n",
       "      <td>1.0</td>\n",
       "      <td>1.0</td>\n",
       "    </tr>\n",
       "    <tr>\n",
       "      <th>xzavm</th>\n",
       "      <td>NaN</td>\n",
       "      <td>1.0</td>\n",
       "      <td>1.0</td>\n",
       "      <td>1.0</td>\n",
       "      <td>1.0</td>\n",
       "      <td>1.0</td>\n",
       "      <td>1.0</td>\n",
       "    </tr>\n",
       "    <tr>\n",
       "      <th>xzavn</th>\n",
       "      <td>NaN</td>\n",
       "      <td>1.0</td>\n",
       "      <td>1.0</td>\n",
       "      <td>1.0</td>\n",
       "      <td>1.0</td>\n",
       "      <td>1.0</td>\n",
       "      <td>1.0</td>\n",
       "    </tr>\n",
       "    <tr>\n",
       "      <th>xzavo</th>\n",
       "      <td>NaN</td>\n",
       "      <td>1.0</td>\n",
       "      <td>1.0</td>\n",
       "      <td>1.0</td>\n",
       "      <td>1.0</td>\n",
       "      <td>1.0</td>\n",
       "      <td>1.0</td>\n",
       "    </tr>\n",
       "    <tr>\n",
       "      <th>xzavp</th>\n",
       "      <td>NaN</td>\n",
       "      <td>1.0</td>\n",
       "      <td>NaN</td>\n",
       "      <td>1.0</td>\n",
       "      <td>1.0</td>\n",
       "      <td>1.0</td>\n",
       "      <td>1.0</td>\n",
       "    </tr>\n",
       "    <tr>\n",
       "      <th>xzavq</th>\n",
       "      <td>NaN</td>\n",
       "      <td>1.0</td>\n",
       "      <td>1.0</td>\n",
       "      <td>1.0</td>\n",
       "      <td>1.0</td>\n",
       "      <td>1.0</td>\n",
       "      <td>1.0</td>\n",
       "    </tr>\n",
       "    <tr>\n",
       "      <th>xzavr</th>\n",
       "      <td>NaN</td>\n",
       "      <td>0.0</td>\n",
       "      <td>0.0</td>\n",
       "      <td>0.0</td>\n",
       "      <td>0.0</td>\n",
       "      <td>0.0</td>\n",
       "      <td>0.0</td>\n",
       "    </tr>\n",
       "    <tr>\n",
       "      <th>xzavs</th>\n",
       "      <td>NaN</td>\n",
       "      <td>0.0</td>\n",
       "      <td>0.0</td>\n",
       "      <td>0.0</td>\n",
       "      <td>0.0</td>\n",
       "      <td>0.0</td>\n",
       "      <td>0.0</td>\n",
       "    </tr>\n",
       "    <tr>\n",
       "      <th>xzavt</th>\n",
       "      <td>NaN</td>\n",
       "      <td>NaN</td>\n",
       "      <td>NaN</td>\n",
       "      <td>1.0</td>\n",
       "      <td>1.0</td>\n",
       "      <td>1.0</td>\n",
       "      <td>1.0</td>\n",
       "    </tr>\n",
       "    <tr>\n",
       "      <th>xzavu</th>\n",
       "      <td>NaN</td>\n",
       "      <td>1.0</td>\n",
       "      <td>1.0</td>\n",
       "      <td>1.0</td>\n",
       "      <td>1.0</td>\n",
       "      <td>1.0</td>\n",
       "      <td>1.0</td>\n",
       "    </tr>\n",
       "    <tr>\n",
       "      <th>xzavv</th>\n",
       "      <td>NaN</td>\n",
       "      <td>0.0</td>\n",
       "      <td>0.0</td>\n",
       "      <td>0.0</td>\n",
       "      <td>0.0</td>\n",
       "      <td>0.0</td>\n",
       "      <td>0.0</td>\n",
       "    </tr>\n",
       "    <tr>\n",
       "      <th>xzavw</th>\n",
       "      <td>NaN</td>\n",
       "      <td>NaN</td>\n",
       "      <td>NaN</td>\n",
       "      <td>1.0</td>\n",
       "      <td>1.0</td>\n",
       "      <td>1.0</td>\n",
       "      <td>1.0</td>\n",
       "    </tr>\n",
       "    <tr>\n",
       "      <th>xzavx</th>\n",
       "      <td>NaN</td>\n",
       "      <td>1.0</td>\n",
       "      <td>1.0</td>\n",
       "      <td>1.0</td>\n",
       "      <td>1.0</td>\n",
       "      <td>1.0</td>\n",
       "      <td>1.0</td>\n",
       "    </tr>\n",
       "    <tr>\n",
       "      <th>xzavy</th>\n",
       "      <td>NaN</td>\n",
       "      <td>2.0</td>\n",
       "      <td>2.0</td>\n",
       "      <td>2.0</td>\n",
       "      <td>2.0</td>\n",
       "      <td>2.0</td>\n",
       "      <td>2.0</td>\n",
       "    </tr>\n",
       "    <tr>\n",
       "      <th>xzavz</th>\n",
       "      <td>NaN</td>\n",
       "      <td>2.0</td>\n",
       "      <td>2.0</td>\n",
       "      <td>2.0</td>\n",
       "      <td>2.0</td>\n",
       "      <td>2.0</td>\n",
       "      <td>2.0</td>\n",
       "    </tr>\n",
       "    <tr>\n",
       "      <th>xzawa</th>\n",
       "      <td>NaN</td>\n",
       "      <td>NaN</td>\n",
       "      <td>NaN</td>\n",
       "      <td>1.0</td>\n",
       "      <td>1.0</td>\n",
       "      <td>1.0</td>\n",
       "      <td>1.0</td>\n",
       "    </tr>\n",
       "  </tbody>\n",
       "</table>\n",
       "<p>1223 rows × 7 columns</p>\n",
       "</div>"
      ],
      "text/plain": [
       "       Bla_N1_64_Ont_Opt  Gra_N1_64_Ont_Opt  ES_N1_64_Ont_Def  \\\n",
       "xaa                  NaN                1.0               1.0   \n",
       "xab                  NaN                2.0               NaN   \n",
       "xac                  NaN                1.0               1.0   \n",
       "xad                  NaN                0.0               0.0   \n",
       "xae                  NaN                1.0               1.0   \n",
       "xaf                  NaN                NaN               NaN   \n",
       "xag                  NaN                1.0               1.0   \n",
       "xah                  NaN                0.0               0.0   \n",
       "xai                  NaN                1.0               1.0   \n",
       "xaj                  NaN                NaN               NaN   \n",
       "xak                  NaN                NaN               1.0   \n",
       "xal                  NaN                1.0               1.0   \n",
       "xam                  NaN                0.0               0.0   \n",
       "xan                  NaN                1.0               1.0   \n",
       "xao                  NaN                0.0               0.0   \n",
       "xap                  NaN                0.0               0.0   \n",
       "xaq                  NaN                1.0               1.0   \n",
       "xar                  1.0                1.0               1.0   \n",
       "xas                  NaN                5.0               5.0   \n",
       "xat                  NaN                1.0               1.0   \n",
       "xau                  NaN                0.0               0.0   \n",
       "xav                  NaN                4.0               4.0   \n",
       "xaw                  NaN                1.0               1.0   \n",
       "xax                  NaN                NaN               1.0   \n",
       "xay                  NaN                0.0               0.0   \n",
       "xaz                  NaN                1.0               1.0   \n",
       "xba                  NaN                0.0               0.0   \n",
       "xbb                  NaN                0.0               0.0   \n",
       "xbc                  NaN                1.0               1.0   \n",
       "xbd                  NaN                NaN               NaN   \n",
       "...                  ...                ...               ...   \n",
       "xzaux                NaN                NaN               NaN   \n",
       "xzauy                NaN                1.0               1.0   \n",
       "xzauz                NaN                NaN               NaN   \n",
       "xzava                NaN                NaN               NaN   \n",
       "xzavb                NaN             1001.0            1001.0   \n",
       "xzavc                NaN                0.0               0.0   \n",
       "xzavd                NaN                1.0               1.0   \n",
       "xzave                NaN                1.0               1.0   \n",
       "xzavf                NaN                0.0               0.0   \n",
       "xzavg                NaN                1.0               1.0   \n",
       "xzavh                NaN                1.0               1.0   \n",
       "xzavi                NaN                NaN               NaN   \n",
       "xzavj                NaN                1.0               1.0   \n",
       "xzavk                NaN                NaN               NaN   \n",
       "xzavl                NaN                1.0               1.0   \n",
       "xzavm                NaN                1.0               1.0   \n",
       "xzavn                NaN                1.0               1.0   \n",
       "xzavo                NaN                1.0               1.0   \n",
       "xzavp                NaN                1.0               NaN   \n",
       "xzavq                NaN                1.0               1.0   \n",
       "xzavr                NaN                0.0               0.0   \n",
       "xzavs                NaN                0.0               0.0   \n",
       "xzavt                NaN                NaN               NaN   \n",
       "xzavu                NaN                1.0               1.0   \n",
       "xzavv                NaN                0.0               0.0   \n",
       "xzavw                NaN                NaN               NaN   \n",
       "xzavx                NaN                1.0               1.0   \n",
       "xzavy                NaN                2.0               2.0   \n",
       "xzavz                NaN                2.0               2.0   \n",
       "xzawa                NaN                NaN               NaN   \n",
       "\n",
       "       Vir_N1_64_Ont_Opt  Vir_N1_64_Ont_Opt_VWall  Vir_N1_32_Ont_Opt_VWall  \\\n",
       "xaa                  1.0                      1.0                      1.0   \n",
       "xab                  2.0                      2.0                      2.0   \n",
       "xac                  1.0                      1.0                      1.0   \n",
       "xad                  0.0                      0.0                      0.0   \n",
       "xae                  1.0                      1.0                      1.0   \n",
       "xaf                  0.0                      0.0                      0.0   \n",
       "xag                  1.0                      1.0                      1.0   \n",
       "xah                  0.0                      0.0                      0.0   \n",
       "xai                  1.0                      1.0                      1.0   \n",
       "xaj                  2.0                      2.0                      2.0   \n",
       "xak                  1.0                      1.0                      1.0   \n",
       "xal                  1.0                      1.0                      1.0   \n",
       "xam                  0.0                      0.0                      0.0   \n",
       "xan                  1.0                      1.0                      1.0   \n",
       "xao                  0.0                      0.0                      0.0   \n",
       "xap                  0.0                      0.0                      0.0   \n",
       "xaq                  1.0                      1.0                      1.0   \n",
       "xar                  1.0                      1.0                      1.0   \n",
       "xas                  5.0                      5.0                      5.0   \n",
       "xat                  1.0                      1.0                      1.0   \n",
       "xau                  0.0                      0.0                      0.0   \n",
       "xav                  4.0                      4.0                      4.0   \n",
       "xaw                  1.0                      1.0                      1.0   \n",
       "xax                  1.0                      1.0                      1.0   \n",
       "xay                  0.0                      0.0                      0.0   \n",
       "xaz                  1.0                      1.0                      1.0   \n",
       "xba                  0.0                      0.0                      0.0   \n",
       "xbb                  0.0                      0.0                      0.0   \n",
       "xbc                  1.0                      1.0                      1.0   \n",
       "xbd                  0.0                      0.0                      0.0   \n",
       "...                  ...                      ...                      ...   \n",
       "xzaux                0.0                      0.0                      0.0   \n",
       "xzauy                1.0                      1.0                      1.0   \n",
       "xzauz                1.0                      1.0                      1.0   \n",
       "xzava                2.0                      2.0                      2.0   \n",
       "xzavb             1001.0                   1001.0                   1001.0   \n",
       "xzavc                0.0                      0.0                      0.0   \n",
       "xzavd                1.0                      1.0                      1.0   \n",
       "xzave                1.0                      1.0                      1.0   \n",
       "xzavf                0.0                      0.0                      0.0   \n",
       "xzavg                1.0                      1.0                      1.0   \n",
       "xzavh                1.0                      1.0                      1.0   \n",
       "xzavi                0.0                      0.0                      0.0   \n",
       "xzavj                1.0                      1.0                      1.0   \n",
       "xzavk                1.0                      1.0                      1.0   \n",
       "xzavl                1.0                      1.0                      1.0   \n",
       "xzavm                1.0                      1.0                      1.0   \n",
       "xzavn                1.0                      1.0                      1.0   \n",
       "xzavo                1.0                      1.0                      1.0   \n",
       "xzavp                1.0                      1.0                      1.0   \n",
       "xzavq                1.0                      1.0                      1.0   \n",
       "xzavr                0.0                      0.0                      0.0   \n",
       "xzavs                0.0                      0.0                      0.0   \n",
       "xzavt                1.0                      1.0                      1.0   \n",
       "xzavu                1.0                      1.0                      1.0   \n",
       "xzavv                0.0                      0.0                      0.0   \n",
       "xzavw                1.0                      1.0                      1.0   \n",
       "xzavx                1.0                      1.0                      1.0   \n",
       "xzavy                2.0                      2.0                      2.0   \n",
       "xzavz                2.0                      2.0                      2.0   \n",
       "xzawa                1.0                      1.0                      1.0   \n",
       "\n",
       "       consensus  \n",
       "xaa          1.0  \n",
       "xab          2.0  \n",
       "xac          1.0  \n",
       "xad          0.0  \n",
       "xae          1.0  \n",
       "xaf       -234.0  \n",
       "xag          1.0  \n",
       "xah          0.0  \n",
       "xai          1.0  \n",
       "xaj          2.0  \n",
       "xak          1.0  \n",
       "xal          1.0  \n",
       "xam          0.0  \n",
       "xan          1.0  \n",
       "xao          0.0  \n",
       "xap          0.0  \n",
       "xaq          1.0  \n",
       "xar          1.0  \n",
       "xas          5.0  \n",
       "xat          1.0  \n",
       "xau          0.0  \n",
       "xav          4.0  \n",
       "xaw          1.0  \n",
       "xax          1.0  \n",
       "xay          0.0  \n",
       "xaz          1.0  \n",
       "xba          0.0  \n",
       "xbb          0.0  \n",
       "xbc          1.0  \n",
       "xbd       -234.0  \n",
       "...          ...  \n",
       "xzaux     -234.0  \n",
       "xzauy        1.0  \n",
       "xzauz        1.0  \n",
       "xzava        2.0  \n",
       "xzavb     1001.0  \n",
       "xzavc        0.0  \n",
       "xzavd        1.0  \n",
       "xzave        1.0  \n",
       "xzavf        0.0  \n",
       "xzavg        1.0  \n",
       "xzavh        1.0  \n",
       "xzavi     -234.0  \n",
       "xzavj        1.0  \n",
       "xzavk        1.0  \n",
       "xzavl        1.0  \n",
       "xzavm        1.0  \n",
       "xzavn        1.0  \n",
       "xzavo        1.0  \n",
       "xzavp        1.0  \n",
       "xzavq        1.0  \n",
       "xzavr        0.0  \n",
       "xzavs        0.0  \n",
       "xzavt        1.0  \n",
       "xzavu        1.0  \n",
       "xzavv        0.0  \n",
       "xzavw        1.0  \n",
       "xzavx        1.0  \n",
       "xzavy        2.0  \n",
       "xzavz        2.0  \n",
       "xzawa        1.0  \n",
       "\n",
       "[1223 rows x 7 columns]"
      ]
     },
     "execution_count": 29,
     "metadata": {},
     "output_type": "execute_result"
    }
   ],
   "source": [
    "df_combined3.loc[df_combined3['consensus'] == VIRT_WRONG, 'consensus'] = UNVERIFIED_VIRT\n",
    "df_combined3"
   ]
  },
  {
   "cell_type": "markdown",
   "metadata": {},
   "source": [
    "### OBSERVATION 5: 1191 Queries for which we are quite certain about the result, since it was confirmed by at least a second independent store!\n",
    "\n"
   ]
  },
  {
   "cell_type": "code",
   "execution_count": 30,
   "metadata": {},
   "outputs": [
    {
     "data": {
      "text/plain": [
       "(1191, 7)"
      ]
     },
     "execution_count": 30,
     "metadata": {},
     "output_type": "execute_result"
    }
   ],
   "source": [
    "mask = df_combined3['consensus'] >=0.0\n",
    "df_combined3[mask].shape"
   ]
  },
  {
   "cell_type": "markdown",
   "metadata": {},
   "source": [
    "### OBSERVATION 6: 1 query with 2^20 results => ES gives 0 => ES wrong!"
   ]
  },
  {
   "cell_type": "code",
   "execution_count": 31,
   "metadata": {
    "collapsed": true
   },
   "outputs": [],
   "source": [
    "df_combined3.loc['xvf','consensus'] = UNVERIFIED_VIRT "
   ]
  },
  {
   "cell_type": "code",
   "execution_count": 32,
   "metadata": {},
   "outputs": [
    {
     "data": {
      "text/html": [
       "<div>\n",
       "<style>\n",
       "    .dataframe thead tr:only-child th {\n",
       "        text-align: right;\n",
       "    }\n",
       "\n",
       "    .dataframe thead th {\n",
       "        text-align: left;\n",
       "    }\n",
       "\n",
       "    .dataframe tbody tr th {\n",
       "        vertical-align: top;\n",
       "    }\n",
       "</style>\n",
       "<table border=\"1\" class=\"dataframe\">\n",
       "  <thead>\n",
       "    <tr style=\"text-align: right;\">\n",
       "      <th></th>\n",
       "      <th>query_name</th>\n",
       "      <th>consensus</th>\n",
       "    </tr>\n",
       "  </thead>\n",
       "  <tbody>\n",
       "    <tr>\n",
       "      <th>0</th>\n",
       "      <td>queries/xaa</td>\n",
       "      <td>1</td>\n",
       "    </tr>\n",
       "    <tr>\n",
       "      <th>1</th>\n",
       "      <td>queries/xab</td>\n",
       "      <td>2</td>\n",
       "    </tr>\n",
       "    <tr>\n",
       "      <th>2</th>\n",
       "      <td>queries/xac</td>\n",
       "      <td>1</td>\n",
       "    </tr>\n",
       "    <tr>\n",
       "      <th>3</th>\n",
       "      <td>queries/xad</td>\n",
       "      <td>0</td>\n",
       "    </tr>\n",
       "    <tr>\n",
       "      <th>4</th>\n",
       "      <td>queries/xae</td>\n",
       "      <td>1</td>\n",
       "    </tr>\n",
       "  </tbody>\n",
       "</table>\n",
       "</div>"
      ],
      "text/plain": [
       "    query_name  consensus\n",
       "0  queries/xaa          1\n",
       "1  queries/xab          2\n",
       "2  queries/xac          1\n",
       "3  queries/xad          0\n",
       "4  queries/xae          1"
      ]
     },
     "execution_count": 32,
     "metadata": {},
     "output_type": "execute_result"
    }
   ],
   "source": [
    "df_consensus = pd.DataFrame(df_combined3[['consensus']])\n",
    "df_consensus['query_name_temp'] = list(df_consensus.index)\n",
    "df_consensus['query_name'] = df_consensus['query_name_temp'].apply(lambda q: 'queries/' + q)\n",
    "df_consensus.drop('query_name_temp', axis=1, inplace=True)\n",
    "df_consensus.reset_index(inplace=True)\n",
    "df_consensus.drop('index', axis=1, inplace=True)\n",
    "df_consensus['consensus'] = pd.to_numeric(df_consensus['consensus'], downcast='integer')\n",
    "df_consensus[['query_name','consensus']].to_csv('./inconsistent_queryresults/NoSQL_queryconsensus_Ontoforce.csv', sep='\\t', index=False)\n",
    "df_consensus[['query_name','consensus']].head(n=5)"
   ]
  },
  {
   "cell_type": "code",
   "execution_count": 33,
   "metadata": {},
   "outputs": [
    {
     "data": {
      "text/plain": [
       "<matplotlib.axes._subplots.AxesSubplot at 0x7f8fd0c67390>"
      ]
     },
     "execution_count": 33,
     "metadata": {},
     "output_type": "execute_result"
    },
    {
     "data": {
      "image/png": "[encoded data removed]",
      "text/plain": [
       "<matplotlib.figure.Figure at 0x7f8fd0cb30b8>"
      ]
     },
     "metadata": {},
     "output_type": "display_data"
    }
   ],
   "source": [
    "df_consensus['consensus'].value_counts().sort_index().plot(kind='bar', figsize=(20,20), title='Consensus: Number of results per query')"
   ]
  },
  {
   "cell_type": "code",
   "execution_count": 34,
   "metadata": {
    "scrolled": true
   },
   "outputs": [
    {
     "data": {
      "text/plain": [
       "-234         20\n",
       "-123         13\n",
       " 0          211\n",
       " 1          835\n",
       " 2           47\n",
       " 3           21\n",
       " 4           10\n",
       " 5            6\n",
       " 6            7\n",
       " 7            6\n",
       " 9            1\n",
       " 10           1\n",
       " 14           4\n",
       " 15           1\n",
       " 16           1\n",
       " 17           1\n",
       " 18          11\n",
       " 20          10\n",
       " 23           1\n",
       " 41           1\n",
       " 163          1\n",
       " 692          1\n",
       " 849          1\n",
       " 1001        10\n",
       " 39531        1\n",
       " 1512758      1\n",
       "Name: consensus, dtype: int64"
      ]
     },
     "execution_count": 34,
     "metadata": {},
     "output_type": "execute_result"
    }
   ],
   "source": [
    "df_consensus['consensus'].value_counts().sort_index()"
   ]
  },
  {
   "cell_type": "code",
   "execution_count": 35,
   "metadata": {},
   "outputs": [
    {
     "name": "stdout",
     "output_type": "stream",
     "text": [
      "20 queries which are only solved by Virtuoso (not verified) -234\n",
      "13 queries which are not solved by any of the engines -123\n"
     ]
    }
   ],
   "source": [
    "print('20 queries which are only solved by Virtuoso (not verified) ' + str(UNVERIFIED_VIRT))\n",
    "print('13 queries which are not solved by any of the engines ' + str(UNKNOWN))"
   ]
  },
  {
   "cell_type": "markdown",
   "metadata": {
    "collapsed": true
   },
   "source": [
    "# 2. Create a Sim_queryevents_correct.csv \n",
    "\n",
    "* additional column with a status on whether the query was correct: CORRECT, INCORRECT, INCERTAIN\n",
    "\n",
    "### Tryout"
   ]
  },
  {
   "cell_type": "code",
   "execution_count": 36,
   "metadata": {
    "collapsed": true
   },
   "outputs": [],
   "source": [
    "def generateFilenameQueryEvents(bmtuple):\n",
    "    fname = './csv/' +  bmtuple[0] + \"_N\" + str(bmtuple[1]) + \"_\" + str(bmtuple[2]) + \"_\" + bmtuple[3] + \"_\" + bmtuple[4]\n",
    "    if len(str(bmtuple[5])) != 0:\n",
    "        fname = fname + \"_\" + str(bmtuple[5])\n",
    "    return fname + \"_queryevents.csv\"\n",
    "\n",
    "def generateFilenameQueryEventsCorrect(bmtuple):\n",
    "    fname = './csv_correct/' +  bmtuple[0] + \"_N\" + str(bmtuple[1]) + \"_\" + str(bmtuple[2]) + \"_\" + bmtuple[3] + \"_\" + bmtuple[4]\n",
    "    if len(str(bmtuple[5])) != 0:\n",
    "        fname = fname + \"_\" + str(bmtuple[5])\n",
    "    return fname + \"_queryevents_correct.csv\""
   ]
  },
  {
   "cell_type": "code",
   "execution_count": 37,
   "metadata": {},
   "outputs": [
    {
     "data": {
      "text/html": [
       "<div>\n",
       "<style>\n",
       "    .dataframe thead tr:only-child th {\n",
       "        text-align: right;\n",
       "    }\n",
       "\n",
       "    .dataframe thead th {\n",
       "        text-align: left;\n",
       "    }\n",
       "\n",
       "    .dataframe tbody tr th {\n",
       "        vertical-align: top;\n",
       "    }\n",
       "</style>\n",
       "<table border=\"1\" class=\"dataframe\">\n",
       "  <thead>\n",
       "    <tr style=\"text-align: right;\">\n",
       "      <th></th>\n",
       "      <th>sim_id</th>\n",
       "      <th>query_name</th>\n",
       "      <th>thread_id</th>\n",
       "      <th>thread_type</th>\n",
       "      <th>order_id</th>\n",
       "      <th>number_of_results</th>\n",
       "      <th>runtime</th>\n",
       "      <th>flag</th>\n",
       "    </tr>\n",
       "  </thead>\n",
       "  <tbody>\n",
       "    <tr>\n",
       "      <th>0</th>\n",
       "      <td>Bla_N1_64_Ont_Opt</td>\n",
       "      <td>queries/xzaub</td>\n",
       "      <td>1</td>\n",
       "      <td>warmup</td>\n",
       "      <td>1</td>\n",
       "      <td>0</td>\n",
       "      <td>0.164710</td>\n",
       "      <td>SUCCESS</td>\n",
       "    </tr>\n",
       "    <tr>\n",
       "      <th>1</th>\n",
       "      <td>Bla_N1_64_Ont_Opt</td>\n",
       "      <td>queries/xdm</td>\n",
       "      <td>1</td>\n",
       "      <td>warmup</td>\n",
       "      <td>2</td>\n",
       "      <td>0</td>\n",
       "      <td>0.055763</td>\n",
       "      <td>SUCCESS</td>\n",
       "    </tr>\n",
       "    <tr>\n",
       "      <th>2</th>\n",
       "      <td>Bla_N1_64_Ont_Opt</td>\n",
       "      <td>queries/xzalo</td>\n",
       "      <td>1</td>\n",
       "      <td>warmup</td>\n",
       "      <td>3</td>\n",
       "      <td>1</td>\n",
       "      <td>52.323868</td>\n",
       "      <td>SUCCESS</td>\n",
       "    </tr>\n",
       "    <tr>\n",
       "      <th>3</th>\n",
       "      <td>Bla_N1_64_Ont_Opt</td>\n",
       "      <td>queries/xjf</td>\n",
       "      <td>1</td>\n",
       "      <td>warmup</td>\n",
       "      <td>4</td>\n",
       "      <td>-1</td>\n",
       "      <td>1200.000000</td>\n",
       "      <td>TIMEOUT</td>\n",
       "    </tr>\n",
       "    <tr>\n",
       "      <th>4</th>\n",
       "      <td>Bla_N1_64_Ont_Opt</td>\n",
       "      <td>queries/xyc</td>\n",
       "      <td>1</td>\n",
       "      <td>warmup</td>\n",
       "      <td>5</td>\n",
       "      <td>-1</td>\n",
       "      <td>1200.000000</td>\n",
       "      <td>TIMEOUT</td>\n",
       "    </tr>\n",
       "  </tbody>\n",
       "</table>\n",
       "</div>"
      ],
      "text/plain": [
       "              sim_id     query_name  thread_id thread_type  order_id  \\\n",
       "0  Bla_N1_64_Ont_Opt  queries/xzaub          1      warmup         1   \n",
       "1  Bla_N1_64_Ont_Opt    queries/xdm          1      warmup         2   \n",
       "2  Bla_N1_64_Ont_Opt  queries/xzalo          1      warmup         3   \n",
       "3  Bla_N1_64_Ont_Opt    queries/xjf          1      warmup         4   \n",
       "4  Bla_N1_64_Ont_Opt    queries/xyc          1      warmup         5   \n",
       "\n",
       "   number_of_results      runtime     flag  \n",
       "0                  0     0.164710  SUCCESS  \n",
       "1                  0     0.055763  SUCCESS  \n",
       "2                  1    52.323868  SUCCESS  \n",
       "3                 -1  1200.000000  TIMEOUT  \n",
       "4                 -1  1200.000000  TIMEOUT  "
      ]
     },
     "execution_count": 37,
     "metadata": {},
     "output_type": "execute_result"
    }
   ],
   "source": [
    "bm_tup = ('Blazegraph', 1, 64, 'Ontoforce', 'Optimized', '')\n",
    "filename = generateFilenameQueryEvents(bm_tup)\n",
    "df = pd.read_csv(filename, sep='\\t')\n",
    "df.head(n=5)"
   ]
  },
  {
   "cell_type": "code",
   "execution_count": 38,
   "metadata": {},
   "outputs": [
    {
     "data": {
      "text/html": [
       "<div>\n",
       "<style>\n",
       "    .dataframe thead tr:only-child th {\n",
       "        text-align: right;\n",
       "    }\n",
       "\n",
       "    .dataframe thead th {\n",
       "        text-align: left;\n",
       "    }\n",
       "\n",
       "    .dataframe tbody tr th {\n",
       "        vertical-align: top;\n",
       "    }\n",
       "</style>\n",
       "<table border=\"1\" class=\"dataframe\">\n",
       "  <thead>\n",
       "    <tr style=\"text-align: right;\">\n",
       "      <th></th>\n",
       "      <th>query_name</th>\n",
       "      <th>consensus</th>\n",
       "    </tr>\n",
       "  </thead>\n",
       "  <tbody>\n",
       "    <tr>\n",
       "      <th>0</th>\n",
       "      <td>queries/xaa</td>\n",
       "      <td>1</td>\n",
       "    </tr>\n",
       "    <tr>\n",
       "      <th>1</th>\n",
       "      <td>queries/xab</td>\n",
       "      <td>2</td>\n",
       "    </tr>\n",
       "    <tr>\n",
       "      <th>2</th>\n",
       "      <td>queries/xac</td>\n",
       "      <td>1</td>\n",
       "    </tr>\n",
       "    <tr>\n",
       "      <th>3</th>\n",
       "      <td>queries/xad</td>\n",
       "      <td>0</td>\n",
       "    </tr>\n",
       "    <tr>\n",
       "      <th>4</th>\n",
       "      <td>queries/xae</td>\n",
       "      <td>1</td>\n",
       "    </tr>\n",
       "  </tbody>\n",
       "</table>\n",
       "</div>"
      ],
      "text/plain": [
       "    query_name  consensus\n",
       "0  queries/xaa          1\n",
       "1  queries/xab          2\n",
       "2  queries/xac          1\n",
       "3  queries/xad          0\n",
       "4  queries/xae          1"
      ]
     },
     "execution_count": 38,
     "metadata": {},
     "output_type": "execute_result"
    }
   ],
   "source": [
    "filename_queryconsensus = './inconsistent_queryresults/NoSQL_queryconsensus_Ontoforce.csv'\n",
    "df_consensus = pd.read_csv(filename_queryconsensus, sep='\\t')\n",
    "df_consensus.head(n=5)"
   ]
  },
  {
   "cell_type": "code",
   "execution_count": 39,
   "metadata": {},
   "outputs": [
    {
     "data": {
      "text/plain": [
       " 1          835\n",
       " 0          211\n",
       " 2           47\n",
       " 3           21\n",
       "-234         20\n",
       "-123         13\n",
       " 18          11\n",
       " 4           10\n",
       " 20          10\n",
       " 1001        10\n",
       " 6            7\n",
       " 5            6\n",
       " 7            6\n",
       " 14           4\n",
       " 10           1\n",
       " 9            1\n",
       " 1512758      1\n",
       " 15           1\n",
       " 17           1\n",
       " 23           1\n",
       " 41           1\n",
       " 163          1\n",
       " 39531        1\n",
       " 692          1\n",
       " 849          1\n",
       " 16           1\n",
       "Name: consensus, dtype: int64"
      ]
     },
     "execution_count": 39,
     "metadata": {},
     "output_type": "execute_result"
    }
   ],
   "source": [
    "df_consensus['consensus'].value_counts()"
   ]
  },
  {
   "cell_type": "code",
   "execution_count": 40,
   "metadata": {
    "collapsed": true
   },
   "outputs": [],
   "source": [
    "VIRT_WRONG\n",
    "UNKNOWN\n",
    "UNVERIFIED_OTHER\n",
    "UNVERIFIED_VIRT\n",
    "\n",
    "def assess_correctness(bmtuple, consensus):\n",
    "    filename = generateFilenameQueryEvents(bmtuple)\n",
    "    df = pd.read_csv(filename, sep='\\t')\n",
    "    df_consensus = pd.read_csv(consensus, sep='\\t')\n",
    "    df_correct = pd.merge(df, df_consensus, how='outer', on='query_name')\n",
    "    df_correct['correct_temp']= df_correct['number_of_results'] == df_correct['consensus']\n",
    "    df_correct['correct'] = df_correct['correct_temp'].apply(lambda r: 'CORRECT' if r is True else 'INCORRECT')\n",
    "    \n",
    "    #if number of results>=0 and UNKNOWN, UNVERIFIED => INCERTAIN\n",
    "    mask1 = df_correct['number_of_results'] >=0\n",
    "    mask2 = df_correct['consensus'] < 0\n",
    "\n",
    "    df_correct.loc[mask1 & mask2, 'correct'] = 'UNCERTAIN'\n",
    "    \n",
    "    \n",
    "    df_correct.drop(['consensus', 'correct_temp'], axis=1, inplace=True)\n",
    "    #print(df_correct['correct'].value_counts())\n",
    "    \n",
    "    print(pd.crosstab(df_correct['correct'],df_correct['flag']))\n",
    "    \n",
    "    full_path = generateFilenameQueryEventsCorrect(bmtuple)\n",
    "    df_correct.to_csv(full_path, sep='\\t', index=False)\n",
    "    print(\"Written to: \" + str(full_path))\n",
    "    return\n",
    "    "
   ]
  },
  {
   "cell_type": "code",
   "execution_count": 41,
   "metadata": {},
   "outputs": [
    {
     "name": "stdout",
     "output_type": "stream",
     "text": [
      "flag       SUCCESS  TIMEOUT\n",
      "correct                    \n",
      "CORRECT         36        0\n",
      "INCORRECT        1      431\n",
      "Written to: ./csv_correct/Blazegraph_N1_64_Ontoforce_Optimized_queryevents_correct.csv\n"
     ]
    }
   ],
   "source": [
    "assess_correctness(bm_tup, filename_queryconsensus)"
   ]
  },
  {
   "cell_type": "markdown",
   "metadata": {},
   "source": [
    "### All Ontoforce Benchmark Runs"
   ]
  },
  {
   "cell_type": "code",
   "execution_count": 42,
   "metadata": {
    "collapsed": true
   },
   "outputs": [],
   "source": [
    "tuple_list = [('Blazegraph', 1, 64,'Ontoforce', 'Optimized', ''), \\\n",
    "    ('GraphDB', 1, 64,'Ontoforce', 'Optimized', ''), \\\n",
    "    ('ES', 1, 64,'Ontoforce', 'Default', ''), \\\n",
    "    ('Virtuoso', 1, 64,'Ontoforce', 'Optimized', ''), \\\n",
    "    ('Virtuoso', 1, 32,'Ontoforce', 'Optimized', ''), \\\n",
    "    ('Virtuoso', 1, 32,'Ontoforce', 'Optimized', 'VWall'), \\\n",
    "    ('Virtuoso', 1, 64,'Ontoforce', 'Optimized', ''), \\\n",
    "    ('Virtuoso', 1, 64,'Ontoforce', 'Optimized', 'VWall'), \\\n",
    "    ('Virtuoso', 3, 64,'Ontoforce', 'Optimized', '0'), \\\n",
    "    ('Virtuoso', 3, 64,'Ontoforce', 'Optimized', '1'), \\\n",
    "    ('Virtuoso', 3, 64,'Ontoforce', 'Optimized', '2'), \\\n",
    "    ('Virtuoso', 3, 64,'Ontoforce', 'Optimized', 'AWS1'), \\\n",
    "    ('Virtuoso', 3, 64,'Ontoforce', 'Optimized', 'AWS2'), \\\n",
    "    ('Virtuoso', 3, 64,'Ontoforce', 'Optimized', 'AWS3'), \\\n",
    "    ('Fuseki', 1, 64,'Ontoforce', 'Default', ''), \\\n",
    "    ('FluidOps', 1, 64,'Ontoforce', 'Default', '1'), \\\n",
    "    ('FluidOps', 1, 64,'Ontoforce', 'Default', '2'), \\\n",
    "    ('FluidOps', 1, 64,'Ontoforce', 'Default', '3'), \\\n",
    "    ('FluidOps', 3, 64,'Ontoforce', 'Default', '1'), \\\n",
    "    ('FluidOps', 3, 64,'Ontoforce', 'Default', '2'), \\\n",
    "    ('FluidOps', 3, 64,'Ontoforce', 'Default', '3')]\n",
    "\n"
   ]
  },
  {
   "cell_type": "code",
   "execution_count": 43,
   "metadata": {},
   "outputs": [
    {
     "name": "stdout",
     "output_type": "stream",
     "text": [
      "flag       SUCCESS  TIMEOUT\n",
      "correct                    \n",
      "CORRECT         36        0\n",
      "INCORRECT        1      431\n",
      "Written to: ./csv_correct/Blazegraph_N1_64_Ontoforce_Optimized_queryevents_correct.csv\n"
     ]
    }
   ],
   "source": [
    "assess_correctness(tuple_list[0], filename_queryconsensus)"
   ]
  },
  {
   "cell_type": "code",
   "execution_count": null,
   "metadata": {
    "collapsed": true
   },
   "outputs": [],
   "source": []
  },
  {
   "cell_type": "code",
   "execution_count": 44,
   "metadata": {},
   "outputs": [
    {
     "name": "stdout",
     "output_type": "stream",
     "text": [
      "flag       SUCCESS  TIMEOUT\n",
      "correct                    \n",
      "CORRECT       1583        0\n",
      "INCORRECT        0     2372\n",
      "Written to: ./csv_correct/GraphDB_N1_64_Ontoforce_Optimized_queryevents_correct.csv\n"
     ]
    }
   ],
   "source": [
    "assess_correctness(tuple_list[1], filename_queryconsensus)"
   ]
  },
  {
   "cell_type": "code",
   "execution_count": null,
   "metadata": {
    "collapsed": true
   },
   "outputs": [],
   "source": []
  },
  {
   "cell_type": "code",
   "execution_count": 45,
   "metadata": {},
   "outputs": [
    {
     "name": "stdout",
     "output_type": "stream",
     "text": [
      "flag       ERROR  SUCCESS  TIMEOUT\n",
      "correct                           \n",
      "CORRECT        0     4246        0\n",
      "INCORRECT   1830        1     1257\n",
      "UNCERTAIN      0        4        0\n",
      "Written to: ./csv_correct/ES_N1_64_Ontoforce_Default_queryevents_correct.csv\n",
      "Actually the 'uncertain query' is wrong, since virtuoso gave 2^20 results, while ES 0, but since both are wrong...\n"
     ]
    }
   ],
   "source": [
    "assess_correctness(tuple_list[2], filename_queryconsensus)\n",
    "print(\"Actually the 'uncertain query' is wrong, since virtuoso gave 2^20 results, while ES 0, but since both are wrong...\")"
   ]
  },
  {
   "cell_type": "code",
   "execution_count": null,
   "metadata": {
    "collapsed": true
   },
   "outputs": [],
   "source": []
  },
  {
   "cell_type": "code",
   "execution_count": 46,
   "metadata": {},
   "outputs": [
    {
     "name": "stdout",
     "output_type": "stream",
     "text": [
      "flag       ERROR  SUCCESS  TIMEOUT\n",
      "correct                           \n",
      "CORRECT        0     7069        0\n",
      "INCORRECT     48       60       41\n",
      "UNCERTAIN      0      120        0\n",
      "Written to: ./csv_correct/Virtuoso_N1_64_Ontoforce_Optimized_queryevents_correct.csv\n"
     ]
    }
   ],
   "source": [
    "assess_correctness(tuple_list[3], filename_queryconsensus)"
   ]
  },
  {
   "cell_type": "markdown",
   "metadata": {},
   "source": [
    "* Incorrect queries Virtuoso_N1_64_Ontoforce_Optimized???"
   ]
  },
  {
   "cell_type": "code",
   "execution_count": 47,
   "metadata": {},
   "outputs": [
    {
     "name": "stdout",
     "output_type": "stream",
     "text": [
      "0          54\n",
      "1048576     6\n",
      "Name: number_of_results, dtype: int64\n",
      "Incorrect queries are: 54 times gives 6 results while the consensus is > 0, 6 queries with 2^20 results\n",
      "Correct result: 97.93571626489332 %\n",
      "Unreported incorrect result: 0.8312551953449709 %\n"
     ]
    }
   ],
   "source": [
    "df = pd.read_csv('./csv_correct/Virtuoso_N1_64_Ontoforce_Optimized_queryevents_correct.csv', sep='\\t')\n",
    "mask1 = df['correct'] == 'INCORRECT'\n",
    "mask2 = df['flag'] == 'SUCCESS'\n",
    "print(df[mask1 & mask2]['number_of_results'].value_counts())\n",
    "print(\"Incorrect queries are: 54 times gives 6 results while the consensus is > 0, 6 queries with 2^20 results\")\n",
    "print('Correct result: ' + str(706900/(6*1223-120)) + \" %\")\n",
    "print('Unreported incorrect result: ' + str(6000/(6*1223-120)) + \" %\")"
   ]
  },
  {
   "cell_type": "code",
   "execution_count": null,
   "metadata": {
    "collapsed": true
   },
   "outputs": [],
   "source": []
  },
  {
   "cell_type": "code",
   "execution_count": 48,
   "metadata": {},
   "outputs": [
    {
     "name": "stdout",
     "output_type": "stream",
     "text": [
      "flag       ERROR  SUCCESS\n",
      "correct                  \n",
      "CORRECT        0     4194\n",
      "INCORRECT     48     2946\n",
      "UNCERTAIN      0      150\n",
      "Written to: ./csv_correct/Virtuoso_N1_32_Ontoforce_Optimized_queryevents_correct.csv\n"
     ]
    }
   ],
   "source": [
    "assess_correctness(tuple_list[4], filename_queryconsensus)"
   ]
  },
  {
   "cell_type": "markdown",
   "metadata": {},
   "source": [
    "* Incorrect queries Virtuoso_N1_32_Ontoforce_Optimized??? BAD SIMULATION"
   ]
  },
  {
   "cell_type": "code",
   "execution_count": 49,
   "metadata": {},
   "outputs": [
    {
     "name": "stdout",
     "output_type": "stream",
     "text": [
      "0    2946\n",
      "Name: number_of_results, dtype: int64\n",
      "Incorrect queries are: 2946 queries with 0 results while consensus > 0 => simulation results are invalid!!!\n",
      "Correct result: 58.347245409015024 %\n",
      "Unreported incorrect result: 40.81463009143807 %\n"
     ]
    }
   ],
   "source": [
    "df = pd.read_csv('./csv_correct/Virtuoso_N1_32_Ontoforce_Optimized_queryevents_correct.csv', sep='\\t')\n",
    "mask1 = df['correct'] == 'INCORRECT'\n",
    "mask2 = df['flag'] == 'SUCCESS'\n",
    "print(df[mask1 & mask2]['number_of_results'].value_counts())\n",
    "print(\"Incorrect queries are: 2946 queries with 0 results while consensus > 0 => simulation results are invalid!!!\")\n",
    "print('Correct result: ' + str(419400/(6*1223-150)) + \" %\")\n",
    "print('Unreported incorrect result: ' + str(294600/(6*1223-120)) + \" %\")"
   ]
  },
  {
   "cell_type": "code",
   "execution_count": null,
   "metadata": {
    "collapsed": true
   },
   "outputs": [],
   "source": []
  },
  {
   "cell_type": "code",
   "execution_count": 50,
   "metadata": {},
   "outputs": [
    {
     "name": "stdout",
     "output_type": "stream",
     "text": [
      "flag       ERROR  SUCCESS  TIMEOUT\n",
      "correct                           \n",
      "CORRECT        0     7072        0\n",
      "INCORRECT     48       60       39\n",
      "UNCERTAIN      0      119        0\n",
      "Written to: ./csv_correct/Virtuoso_N1_32_Ontoforce_Optimized_VWall_queryevents_correct.csv\n"
     ]
    }
   ],
   "source": [
    "assess_correctness(tuple_list[5], filename_queryconsensus)"
   ]
  },
  {
   "cell_type": "markdown",
   "metadata": {},
   "source": [
    "* Incorrect queries Virtuoso_N1_32_Ontoforce_Optimized_VWall???"
   ]
  },
  {
   "cell_type": "code",
   "execution_count": 51,
   "metadata": {},
   "outputs": [
    {
     "name": "stdout",
     "output_type": "stream",
     "text": [
      "0          54\n",
      "1048576     6\n",
      "Name: number_of_results, dtype: int64\n",
      "Incorrect queries are: 54 times gives 6 results while the consensus is > 0, 6 queries with 2^20 results\n",
      "Correct result: 97.96370688461006 %\n",
      "Unreported incorrect result: 0.8312551953449709 %\n"
     ]
    }
   ],
   "source": [
    "df = pd.read_csv('./csv_correct/Virtuoso_N1_32_Ontoforce_Optimized_VWall_queryevents_correct.csv', sep='\\t')\n",
    "mask1 = df['correct'] == 'INCORRECT'\n",
    "mask2 = df['flag'] == 'SUCCESS'\n",
    "print(df[mask1 & mask2]['number_of_results'].value_counts())\n",
    "print(\"Incorrect queries are: 54 times gives 6 results while the consensus is > 0, 6 queries with 2^20 results\")\n",
    "print('Correct result: ' + str(707200/(6*1223-119)) + \" %\")\n",
    "print('Unreported incorrect result: ' + str(6000/(6*1223-120)) + \" %\")"
   ]
  },
  {
   "cell_type": "code",
   "execution_count": null,
   "metadata": {
    "collapsed": true
   },
   "outputs": [],
   "source": []
  },
  {
   "cell_type": "code",
   "execution_count": 52,
   "metadata": {},
   "outputs": [
    {
     "name": "stdout",
     "output_type": "stream",
     "text": [
      "flag       ERROR  SUCCESS  TIMEOUT\n",
      "correct                           \n",
      "CORRECT        0     7069        0\n",
      "INCORRECT     48       60       41\n",
      "UNCERTAIN      0      120        0\n",
      "Written to: ./csv_correct/Virtuoso_N1_64_Ontoforce_Optimized_queryevents_correct.csv\n"
     ]
    }
   ],
   "source": [
    "assess_correctness(tuple_list[6], filename_queryconsensus)"
   ]
  },
  {
   "cell_type": "markdown",
   "metadata": {},
   "source": [
    "* Incorrect queries Virtuoso_N1_64_Ontoforce_Optimized???"
   ]
  },
  {
   "cell_type": "code",
   "execution_count": 53,
   "metadata": {},
   "outputs": [
    {
     "name": "stdout",
     "output_type": "stream",
     "text": [
      "0          54\n",
      "1048576     6\n",
      "Name: number_of_results, dtype: int64\n",
      "Incorrect queries are: 54 times gives 6 results while the consensus is > 0, 6 queries with 2^20 results\n",
      "Correct result: 97.93571626489332 %\n",
      "Unreported incorrect result: 0.8312551953449709 %\n"
     ]
    }
   ],
   "source": [
    "df = pd.read_csv('./csv_correct/Virtuoso_N1_64_Ontoforce_Optimized_queryevents_correct.csv', sep='\\t')\n",
    "mask1 = df['correct'] == 'INCORRECT'\n",
    "mask2 = df['flag'] == 'SUCCESS'\n",
    "print(df[mask1 & mask2]['number_of_results'].value_counts())\n",
    "print(\"Incorrect queries are: 54 times gives 6 results while the consensus is > 0, 6 queries with 2^20 results\")\n",
    "print('Correct result: ' + str(706900/(6*1223-120)) + \" %\")\n",
    "print('Unreported incorrect result: ' + str(6000/(6*1223-120)) + \" %\")"
   ]
  },
  {
   "cell_type": "code",
   "execution_count": null,
   "metadata": {
    "collapsed": true
   },
   "outputs": [],
   "source": []
  },
  {
   "cell_type": "code",
   "execution_count": 54,
   "metadata": {},
   "outputs": [
    {
     "name": "stdout",
     "output_type": "stream",
     "text": [
      "flag       ERROR  SUCCESS  TIMEOUT\n",
      "correct                           \n",
      "CORRECT        0     7073        0\n",
      "INCORRECT     48       60       37\n",
      "UNCERTAIN      0      120        0\n",
      "Written to: ./csv_correct/Virtuoso_N1_64_Ontoforce_Optimized_VWall_queryevents_correct.csv\n"
     ]
    }
   ],
   "source": [
    "assess_correctness(tuple_list[7], filename_queryconsensus)"
   ]
  },
  {
   "cell_type": "markdown",
   "metadata": {},
   "source": [
    "* Incorrect queries Virtuoso_N1_64_Ontoforce_Optimized_Vwall???"
   ]
  },
  {
   "cell_type": "code",
   "execution_count": 55,
   "metadata": {},
   "outputs": [
    {
     "name": "stdout",
     "output_type": "stream",
     "text": [
      "0          54\n",
      "1048576     6\n",
      "Name: number_of_results, dtype: int64\n",
      "Incorrect queries are: 54 times gives 0 results while the consensus is > 0, 6 queries with 2^20 results\n",
      "Correct result: 97.99113327791632 %\n",
      "Unreported incorrect result: 0.8312551953449709 %\n"
     ]
    }
   ],
   "source": [
    "df = pd.read_csv('./csv_correct/Virtuoso_N1_64_Ontoforce_Optimized_queryevents_correct.csv', sep='\\t')\n",
    "mask1 = df['correct'] == 'INCORRECT'\n",
    "mask2 = df['flag'] == 'SUCCESS'\n",
    "print(df[mask1 & mask2]['number_of_results'].value_counts())\n",
    "print(\"Incorrect queries are: 54 times gives 0 results while the consensus is > 0, 6 queries with 2^20 results\")\n",
    "print('Correct result: ' + str(707300/(6*1223-120)) + \" %\")\n",
    "print('Unreported incorrect result: ' + str(6000/(6*1223-120)) + \" %\")"
   ]
  },
  {
   "cell_type": "code",
   "execution_count": null,
   "metadata": {
    "collapsed": true
   },
   "outputs": [],
   "source": []
  },
  {
   "cell_type": "code",
   "execution_count": 56,
   "metadata": {},
   "outputs": [
    {
     "name": "stdout",
     "output_type": "stream",
     "text": [
      "flag       ERROR  SUCCESS  TIMEOUT\n",
      "correct                           \n",
      "CORRECT        0     4072        0\n",
      "INCORRECT   3182       27       19\n",
      "UNCERTAIN      0       38        0\n",
      "Written to: ./csv_correct/Virtuoso_N3_64_Ontoforce_Optimized_0_queryevents_correct.csv\n"
     ]
    }
   ],
   "source": [
    "assess_correctness(tuple_list[8], filename_queryconsensus)"
   ]
  },
  {
   "cell_type": "markdown",
   "metadata": {},
   "source": [
    "* Incorrect queries Virtuoso_N3_64_Ontoforce_Optimized_0??? Many errors but very little unreported incorrect queries => simulation can be used in analysis!"
   ]
  },
  {
   "cell_type": "code",
   "execution_count": 57,
   "metadata": {},
   "outputs": [
    {
     "name": "stdout",
     "output_type": "stream",
     "text": [
      "0          24\n",
      "1048576     3\n",
      "Name: number_of_results, dtype: int64\n",
      "Incorrect queries are: 54 times gives 6 results while the consensus is > 0, 6 queries with 2^20 results\n",
      "Correct result: 97.99113327791632 %\n",
      "Unreported incorrect result: 0.3740648379052369 %\n"
     ]
    }
   ],
   "source": [
    "df = pd.read_csv('./csv_correct/Virtuoso_N3_64_Ontoforce_Optimized_0_queryevents_correct.csv', sep='\\t')\n",
    "mask1 = df['correct'] == 'INCORRECT'\n",
    "mask2 = df['flag'] == 'SUCCESS'\n",
    "print(df[mask1 & mask2]['number_of_results'].value_counts())\n",
    "print(\"Incorrect queries are: 54 times gives 6 results while the consensus is > 0, 6 queries with 2^20 results\")\n",
    "print('Correct result: ' + str(707300/(6*1223-120)) + \" %\")\n",
    "print('Unreported incorrect result: ' + str(2700/(6*1223-120)) + \" %\")"
   ]
  },
  {
   "cell_type": "code",
   "execution_count": 58,
   "metadata": {},
   "outputs": [
    {
     "data": {
      "text/plain": [
       "(4072, 9)"
      ]
     },
     "execution_count": 58,
     "metadata": {},
     "output_type": "execute_result"
    }
   ],
   "source": [
    "df_correct = df[df['correct'] == 'CORRECT']\n",
    "df_correct.shape"
   ]
  },
  {
   "cell_type": "code",
   "execution_count": 59,
   "metadata": {},
   "outputs": [
    {
     "data": {
      "text/plain": [
       "(2918, 9)"
      ]
     },
     "execution_count": 59,
     "metadata": {},
     "output_type": "execute_result"
    }
   ],
   "source": [
    "mask = df_correct['thread_type'] == 'stress'\n",
    "dfcorrectstress = df_correct[mask]\n",
    "dfcorrectstress.shape"
   ]
  },
  {
   "cell_type": "code",
   "execution_count": 60,
   "metadata": {
    "collapsed": true
   },
   "outputs": [],
   "source": [
    "dfcs_grp = dfcorrectstress.groupby('query_name').count()"
   ]
  },
  {
   "cell_type": "code",
   "execution_count": 61,
   "metadata": {},
   "outputs": [
    {
     "data": {
      "text/plain": [
       "(1122, 8)"
      ]
     },
     "execution_count": 61,
     "metadata": {},
     "output_type": "execute_result"
    }
   ],
   "source": [
    "dfcs_grp.shape"
   ]
  },
  {
   "cell_type": "code",
   "execution_count": null,
   "metadata": {
    "collapsed": true
   },
   "outputs": [],
   "source": []
  },
  {
   "cell_type": "code",
   "execution_count": 62,
   "metadata": {},
   "outputs": [
    {
     "name": "stdout",
     "output_type": "stream",
     "text": [
      "flag       ERROR  SUCCESS  TIMEOUT\n",
      "correct                           \n",
      "CORRECT        0      168        0\n",
      "INCORRECT   7165        0        5\n",
      "Written to: ./csv_correct/Virtuoso_N3_64_Ontoforce_Optimized_1_queryevents_correct.csv\n"
     ]
    }
   ],
   "source": [
    "assess_correctness(tuple_list[9], filename_queryconsensus)"
   ]
  },
  {
   "cell_type": "markdown",
   "metadata": {},
   "source": [
    "* Incorrect queries Virtuoso_N3_64_Ontoforce_Optimized_1??? Crashed too soon to be usable.."
   ]
  },
  {
   "cell_type": "code",
   "execution_count": 63,
   "metadata": {},
   "outputs": [
    {
     "name": "stdout",
     "output_type": "stream",
     "text": [
      "Series([], Name: number_of_results, dtype: int64)\n",
      "Incorrect queries are: 54 times gives 6 results while the consensus is > 0, 6 queries with 2^20 results\n",
      "Correct result: 2.3275145469659186 %\n",
      "Unreported incorrect result: 0.0 %\n"
     ]
    }
   ],
   "source": [
    "df = pd.read_csv('./csv_correct/Virtuoso_N3_64_Ontoforce_Optimized_1_queryevents_correct.csv', sep='\\t')\n",
    "mask1 = df['correct'] == 'INCORRECT'\n",
    "mask2 = df['flag'] == 'SUCCESS'\n",
    "print(df[mask1 & mask2]['number_of_results'].value_counts())\n",
    "print(\"Incorrect queries are: 54 times gives 6 results while the consensus is > 0, 6 queries with 2^20 results\")\n",
    "print('Correct result: ' + str(16800/(6*1223-120)) + \" %\")\n",
    "print('Unreported incorrect result: ' + str(0/(6*1223-120)) + \" %\")"
   ]
  },
  {
   "cell_type": "code",
   "execution_count": null,
   "metadata": {
    "collapsed": true
   },
   "outputs": [],
   "source": []
  },
  {
   "cell_type": "code",
   "execution_count": 64,
   "metadata": {},
   "outputs": [
    {
     "name": "stdout",
     "output_type": "stream",
     "text": [
      "flag       ERROR  SUCCESS\n",
      "correct                  \n",
      "CORRECT        0     3918\n",
      "INCORRECT    636     2718\n",
      "UNCERTAIN      0       66\n",
      "Written to: ./csv_correct/Virtuoso_N3_64_Ontoforce_Optimized_2_queryevents_correct.csv\n"
     ]
    }
   ],
   "source": [
    "assess_correctness(tuple_list[10], filename_queryconsensus)"
   ]
  },
  {
   "cell_type": "markdown",
   "metadata": {},
   "source": [
    "* Incorrect queries Virtuoso_N3_64_Ontoforce_Optimized_2??? Problematic, many unreported incorrect queries!!"
   ]
  },
  {
   "cell_type": "code",
   "execution_count": 65,
   "metadata": {},
   "outputs": [
    {
     "name": "stdout",
     "output_type": "stream",
     "text": [
      "0    2718\n",
      "Name: number_of_results, dtype: int64\n",
      "Incorrect queries are: 54 times gives 6 results while the consensus is > 0, 6 queries with 2^20 results\n",
      "Correct result: 53.87788778877888 %\n",
      "Unreported incorrect result: 37.65586034912718 %\n"
     ]
    }
   ],
   "source": [
    "df = pd.read_csv('./csv_correct/Virtuoso_N3_64_Ontoforce_Optimized_2_queryevents_correct.csv', sep='\\t')\n",
    "mask1 = df['correct'] == 'INCORRECT'\n",
    "mask2 = df['flag'] == 'SUCCESS'\n",
    "print(df[mask1 & mask2]['number_of_results'].value_counts())\n",
    "print(\"Incorrect queries are: 54 times gives 6 results while the consensus is > 0, 6 queries with 2^20 results\")\n",
    "print('Correct result: ' + str(391800/(6*1223-66)) + \" %\")\n",
    "print('Unreported incorrect result: ' + str(271800/(6*1223-120)) + \" %\")"
   ]
  },
  {
   "cell_type": "code",
   "execution_count": null,
   "metadata": {
    "collapsed": true
   },
   "outputs": [],
   "source": []
  },
  {
   "cell_type": "code",
   "execution_count": 66,
   "metadata": {},
   "outputs": [
    {
     "name": "stdout",
     "output_type": "stream",
     "text": [
      "flag       ERROR  SUCCESS  TIMEOUT\n",
      "correct                           \n",
      "CORRECT        0      104        0\n",
      "INCORRECT   7228        0        6\n",
      "Written to: ./csv_correct/Virtuoso_N3_64_Ontoforce_Optimized_AWS1_queryevents_correct.csv\n"
     ]
    }
   ],
   "source": [
    "assess_correctness(tuple_list[11], filename_queryconsensus)"
   ]
  },
  {
   "cell_type": "markdown",
   "metadata": {},
   "source": [
    "* Incorrect queries Virtuoso_N3_64_Optimized_AWS1 ??  None, but very little successful queries too"
   ]
  },
  {
   "cell_type": "code",
   "execution_count": 67,
   "metadata": {},
   "outputs": [
    {
     "name": "stdout",
     "output_type": "stream",
     "text": [
      "Series([], Name: number_of_results, dtype: int64)\n",
      "No incorrect queries\n",
      "Correct result: 1.4172799127827747 %\n",
      "Unreported incorrect result: 0.0 %\n"
     ]
    }
   ],
   "source": [
    "df = pd.read_csv('./csv_correct/Virtuoso_N3_64_Ontoforce_Optimized_AWS1_queryevents_correct.csv', sep='\\t')\n",
    "mask1 = df['correct'] == 'INCORRECT'\n",
    "mask2 = df['flag'] == 'SUCCESS'\n",
    "print(df[mask1 & mask2]['number_of_results'].value_counts())\n",
    "print(\"No incorrect queries\")\n",
    "print('Correct result: ' + str(10400/(6*1223-0)) + \" %\")\n",
    "print('Unreported incorrect result: ' + str(0/(6*1223-120)) + \" %\")"
   ]
  },
  {
   "cell_type": "code",
   "execution_count": null,
   "metadata": {
    "collapsed": true
   },
   "outputs": [],
   "source": []
  },
  {
   "cell_type": "code",
   "execution_count": 68,
   "metadata": {},
   "outputs": [
    {
     "name": "stdout",
     "output_type": "stream",
     "text": [
      "flag       ERROR  SUCCESS  TIMEOUT\n",
      "correct                           \n",
      "CORRECT        0      204        0\n",
      "INCORRECT   7119        3        9\n",
      "UNCERTAIN      0        3        0\n",
      "Written to: ./csv_correct/Virtuoso_N3_64_Ontoforce_Optimized_AWS2_queryevents_correct.csv\n"
     ]
    }
   ],
   "source": [
    "assess_correctness(tuple_list[12], filename_queryconsensus)"
   ]
  },
  {
   "cell_type": "markdown",
   "metadata": {},
   "source": [
    "* Incorrect queries Virtuoso_N3_64_Optimized_AWS1 ??  None, but very little successful queries too"
   ]
  },
  {
   "cell_type": "code",
   "execution_count": 69,
   "metadata": {},
   "outputs": [
    {
     "name": "stdout",
     "output_type": "stream",
     "text": [
      "0          2\n",
      "1048576    1\n",
      "Name: number_of_results, dtype: int64\n",
      "Incorrect queries are: 2 times gives 0 results while the consensus is > 0, 1 query with 2^20 results\n",
      "Correct result: 2.7811860940695294 %\n",
      "Unreported incorrect result: 0.0408997955010225 %\n"
     ]
    }
   ],
   "source": [
    "df = pd.read_csv('./csv_correct/Virtuoso_N3_64_Ontoforce_Optimized_AWS2_queryevents_correct.csv', sep='\\t')\n",
    "mask1 = df['correct'] == 'INCORRECT'\n",
    "mask2 = df['flag'] == 'SUCCESS'\n",
    "print(df[mask1 & mask2]['number_of_results'].value_counts())\n",
    "print(\"Incorrect queries are: 2 times gives 0 results while the consensus is > 0, 1 query with 2^20 results\")\n",
    "print('Correct result: ' + str(20400/(6*1223-3)) + \" %\")\n",
    "print('Unreported incorrect result: ' + str(300/(6*1223-3)) + \" %\")"
   ]
  },
  {
   "cell_type": "code",
   "execution_count": null,
   "metadata": {
    "collapsed": true
   },
   "outputs": [],
   "source": []
  },
  {
   "cell_type": "code",
   "execution_count": 70,
   "metadata": {},
   "outputs": [
    {
     "name": "stdout",
     "output_type": "stream",
     "text": [
      "flag       ERROR  SUCCESS  TIMEOUT\n",
      "correct                           \n",
      "CORRECT        0      216        0\n",
      "INCORRECT    460        2        9\n",
      "Written to: ./csv_correct/Virtuoso_N3_64_Ontoforce_Optimized_AWS3_queryevents_correct.csv\n"
     ]
    }
   ],
   "source": [
    "assess_correctness(tuple_list[13], filename_queryconsensus)"
   ]
  },
  {
   "cell_type": "markdown",
   "metadata": {},
   "source": [
    "* Incorrect queries Virtuoso_N3_64_Optimized_AWS3 ??  Only a few, but very little successful queries too"
   ]
  },
  {
   "cell_type": "code",
   "execution_count": 71,
   "metadata": {},
   "outputs": [
    {
     "name": "stdout",
     "output_type": "stream",
     "text": [
      "0.0    2\n",
      "Name: number_of_results, dtype: int64\n",
      "Incorrect queries are: 2 times gives 0 results while the consensus is > 0\n",
      "Correct result: 2.9435813573180702 %\n",
      "Unreported incorrect result: 0.02725538293813028 %\n"
     ]
    }
   ],
   "source": [
    "df = pd.read_csv('./csv_correct/Virtuoso_N3_64_Ontoforce_Optimized_AWS3_queryevents_correct.csv', sep='\\t')\n",
    "mask1 = df['correct'] == 'INCORRECT'\n",
    "mask2 = df['flag'] == 'SUCCESS'\n",
    "print(df[mask1 & mask2]['number_of_results'].value_counts())\n",
    "print(\"Incorrect queries are: 2 times gives 0 results while the consensus is > 0\")\n",
    "print('Correct result: ' + str(21600/(6*1223-0)) + \" %\")\n",
    "print('Unreported incorrect result: ' + str(200/(6*1223-0)) + \" %\")"
   ]
  },
  {
   "cell_type": "code",
   "execution_count": null,
   "metadata": {
    "collapsed": true
   },
   "outputs": [],
   "source": []
  },
  {
   "cell_type": "code",
   "execution_count": 72,
   "metadata": {},
   "outputs": [
    {
     "name": "stdout",
     "output_type": "stream",
     "text": [
      "flag       ERROR  SUCCESS  TIMEOUT\n",
      "correct                           \n",
      "CORRECT        0      191        0\n",
      "INCORRECT    492       15     1954\n",
      "Written to: ./csv_correct/Fuseki_N1_64_Ontoforce_Default_queryevents_correct.csv\n"
     ]
    }
   ],
   "source": [
    "assess_correctness(tuple_list[14], filename_queryconsensus)"
   ]
  },
  {
   "cell_type": "markdown",
   "metadata": {},
   "source": [
    "* Incorrect queries Fuseki_N1_64_Ontoforce_Default ??  Only a few, but very little successful queries too"
   ]
  },
  {
   "cell_type": "code",
   "execution_count": 73,
   "metadata": {},
   "outputs": [
    {
     "name": "stdout",
     "output_type": "stream",
     "text": [
      "0       7\n",
      "1       3\n",
      "143     1\n",
      "20      1\n",
      "2       1\n",
      "146     1\n",
      "1344    1\n",
      "Name: number_of_results, dtype: int64\n",
      "Incorrect queries are due to incorrect restriction based on GRAPHS => default graph was always queried\n",
      "Correct result: 2.602889070591442 %\n",
      "Unreported incorrect result: 0.002044153720359771 %\n"
     ]
    }
   ],
   "source": [
    "df = pd.read_csv('./csv_correct/Fuseki_N1_64_Ontoforce_Default_queryevents_correct.csv', sep='\\t')\n",
    "mask1 = df['correct'] == 'INCORRECT'\n",
    "mask2 = df['flag'] == 'SUCCESS'\n",
    "print(df[mask1 & mask2]['number_of_results'].value_counts())\n",
    "print(\"Incorrect queries are due to incorrect restriction based on GRAPHS => default graph was always queried\")\n",
    "print('Correct result: ' + str(19100/(6*1223-0)) + \" %\")\n",
    "print('Unreported incorrect result: ' + str(15/(6*1223-0)) + \" %\")"
   ]
  },
  {
   "cell_type": "code",
   "execution_count": null,
   "metadata": {
    "collapsed": true
   },
   "outputs": [],
   "source": []
  },
  {
   "cell_type": "code",
   "execution_count": 74,
   "metadata": {},
   "outputs": [
    {
     "name": "stdout",
     "output_type": "stream",
     "text": [
      "flag       ERROR  SUCCESS  TIMEOUT\n",
      "correct                           \n",
      "CORRECT        0     2519        0\n",
      "INCORRECT     18       20       31\n",
      "UNCERTAIN      0       39        0\n",
      "Written to: ./csv_correct/FluidOps_N1_64_Ontoforce_Default_1_queryevents_correct.csv\n"
     ]
    }
   ],
   "source": [
    "assess_correctness(tuple_list[15], filename_queryconsensus)"
   ]
  },
  {
   "cell_type": "markdown",
   "metadata": {},
   "source": [
    "* FluidOps N1: query forwarding to Virtuoso Open Source"
   ]
  },
  {
   "cell_type": "code",
   "execution_count": 75,
   "metadata": {},
   "outputs": [
    {
     "name": "stdout",
     "output_type": "stream",
     "text": [
      "Funny fact: By decomposing the queries, some of Virtuoso incorrect results are circumvented!!\n"
     ]
    }
   ],
   "source": [
    "print(\"Funny fact: By decomposing the queries, some of Virtuoso incorrect results are circumvented!!\")"
   ]
  },
  {
   "cell_type": "code",
   "execution_count": 76,
   "metadata": {},
   "outputs": [
    {
     "name": "stdout",
     "output_type": "stream",
     "text": [
      "0          19\n",
      "1468910     1\n",
      "Name: number_of_results, dtype: int64\n",
      "Incorrect queries are due to incorrect restriction based on GRAPHS => default graph was always queried\n",
      "Correct result: 2.602889070591442 %\n",
      "Unreported incorrect result: 0.002044153720359771 %\n"
     ]
    }
   ],
   "source": [
    "df = pd.read_csv('./csv_correct/FluidOps_N1_64_Ontoforce_Default_1_queryevents_correct.csv', sep='\\t')\n",
    "mask1 = df['correct'] == 'INCORRECT'\n",
    "mask2 = df['flag'] == 'SUCCESS'\n",
    "print(df[mask1 & mask2]['number_of_results'].value_counts())\n",
    "print(\"Incorrect queries are due to incorrect restriction based on GRAPHS => default graph was always queried\")\n",
    "print('Correct result: ' + str(19100/(6*1223-0)) + \" %\")\n",
    "print('Unreported incorrect result: ' + str(15/(6*1223-0)) + \" %\")"
   ]
  },
  {
   "cell_type": "code",
   "execution_count": null,
   "metadata": {
    "collapsed": true
   },
   "outputs": [],
   "source": []
  },
  {
   "cell_type": "code",
   "execution_count": 77,
   "metadata": {},
   "outputs": [
    {
     "name": "stdout",
     "output_type": "stream",
     "text": [
      "flag       ERROR  SUCCESS  TIMEOUT\n",
      "correct                           \n",
      "CORRECT        0      170        0\n",
      "INCORRECT      1        1        7\n",
      "UNCERTAIN      0        2        0\n",
      "Written to: ./csv_correct/FluidOps_N1_64_Ontoforce_Default_2_queryevents_correct.csv\n"
     ]
    }
   ],
   "source": [
    "assess_correctness(tuple_list[16], filename_queryconsensus)"
   ]
  },
  {
   "cell_type": "code",
   "execution_count": null,
   "metadata": {
    "collapsed": true
   },
   "outputs": [],
   "source": []
  },
  {
   "cell_type": "code",
   "execution_count": null,
   "metadata": {
    "collapsed": true
   },
   "outputs": [],
   "source": []
  },
  {
   "cell_type": "code",
   "execution_count": 78,
   "metadata": {},
   "outputs": [
    {
     "name": "stdout",
     "output_type": "stream",
     "text": [
      "flag       ERROR  SUCCESS  TIMEOUT\n",
      "correct                           \n",
      "CORRECT        0     6675        0\n",
      "INCORRECT     45       52      449\n",
      "UNCERTAIN      0      117        0\n",
      "Written to: ./csv_correct/FluidOps_N1_64_Ontoforce_Default_3_queryevents_correct.csv\n"
     ]
    }
   ],
   "source": [
    "assess_correctness(tuple_list[17], filename_queryconsensus)"
   ]
  },
  {
   "cell_type": "code",
   "execution_count": 79,
   "metadata": {},
   "outputs": [
    {
     "name": "stdout",
     "output_type": "stream",
     "text": [
      "Funny fact: By decomposing the queries, some of Virtuoso incorrect results are circumvented!!\n"
     ]
    }
   ],
   "source": [
    "print(\"Funny fact: By decomposing the queries, some of Virtuoso incorrect results are circumvented!!\")"
   ]
  },
  {
   "cell_type": "code",
   "execution_count": null,
   "metadata": {
    "collapsed": true
   },
   "outputs": [],
   "source": []
  },
  {
   "cell_type": "code",
   "execution_count": 80,
   "metadata": {},
   "outputs": [
    {
     "name": "stdout",
     "output_type": "stream",
     "text": [
      "flag       ERROR  SUCCESS  TIMEOUT\n",
      "correct                           \n",
      "CORRECT        0        7        0\n",
      "INCORRECT      4        0       40\n",
      "Written to: ./csv_correct/FluidOps_N3_64_Ontoforce_Default_1_queryevents_correct.csv\n"
     ]
    }
   ],
   "source": [
    "assess_correctness(tuple_list[18], filename_queryconsensus)"
   ]
  },
  {
   "cell_type": "code",
   "execution_count": null,
   "metadata": {
    "collapsed": true
   },
   "outputs": [],
   "source": []
  },
  {
   "cell_type": "code",
   "execution_count": null,
   "metadata": {
    "collapsed": true
   },
   "outputs": [],
   "source": []
  },
  {
   "cell_type": "code",
   "execution_count": 81,
   "metadata": {},
   "outputs": [
    {
     "name": "stdout",
     "output_type": "stream",
     "text": [
      "flag       ERROR  SUCCESS  TIMEOUT\n",
      "correct                           \n",
      "CORRECT        0        4        0\n",
      "INCORRECT      2        0      123\n",
      "Written to: ./csv_correct/FluidOps_N3_64_Ontoforce_Default_2_queryevents_correct.csv\n"
     ]
    }
   ],
   "source": [
    "assess_correctness(tuple_list[19], filename_queryconsensus)"
   ]
  },
  {
   "cell_type": "code",
   "execution_count": null,
   "metadata": {
    "collapsed": true
   },
   "outputs": [],
   "source": []
  },
  {
   "cell_type": "code",
   "execution_count": null,
   "metadata": {
    "collapsed": true
   },
   "outputs": [],
   "source": []
  },
  {
   "cell_type": "code",
   "execution_count": 82,
   "metadata": {},
   "outputs": [
    {
     "name": "stdout",
     "output_type": "stream",
     "text": [
      "flag       TIMEOUT\n",
      "correct           \n",
      "INCORRECT      132\n",
      "Written to: ./csv_correct/FluidOps_N3_64_Ontoforce_Default_3_queryevents_correct.csv\n"
     ]
    }
   ],
   "source": [
    "assess_correctness(tuple_list[20], filename_queryconsensus)"
   ]
  }
 ],
 "metadata": {
  "kernelspec": {
   "display_name": "Python 3",
   "language": "python",
   "name": "python3"
  },
  "language_info": {
   "codemirror_mode": {
    "name": "ipython",
    "version": 3
   },
   "file_extension": ".py",
   "mimetype": "text/x-python",
   "name": "python",
   "nbconvert_exporter": "python",
   "pygments_lexer": "ipython3",
   "version": "3.6.3"
  }
 },
 "nbformat": 4,
 "nbformat_minor": 2
}
