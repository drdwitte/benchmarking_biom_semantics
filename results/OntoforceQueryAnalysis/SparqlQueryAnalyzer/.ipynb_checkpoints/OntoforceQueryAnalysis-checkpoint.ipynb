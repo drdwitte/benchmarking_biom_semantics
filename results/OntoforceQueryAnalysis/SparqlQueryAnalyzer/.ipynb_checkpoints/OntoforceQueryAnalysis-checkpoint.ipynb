{
 "cells": [
  {
   "cell_type": "markdown",
   "metadata": {},
   "source": [
    "# Ontoforce Query Analysis"
   ]
  },
  {
   "cell_type": "markdown",
   "metadata": {},
   "source": [
    "## 1. Query feature extraction"
   ]
  },
  {
   "cell_type": "code",
   "execution_count": 1,
   "metadata": {
    "collapsed": true
   },
   "outputs": [],
   "source": [
    "import os  \n",
    "import subprocess\n",
    "%matplotlib inline\n",
    "import matplotlib as mpl\n",
    "import matplotlib.pyplot as plt\n",
    "skip_feature_extraction = True\n",
    "import numpy as np"
   ]
  },
  {
   "cell_type": "code",
   "execution_count": 2,
   "metadata": {
    "collapsed": true
   },
   "outputs": [],
   "source": [
    "#http://matplotlib.org/1.4.0/users/customizing.html\n",
    "\n",
    "plt.style.use('ggplot')\n",
    "\n",
    "mpl.rcParams['font.size'] = 18\n",
    "\n",
    "### LINES\n",
    "mpl.rcParams['lines.linewidth'] = '2.0'        # line width in points\n",
    "mpl.rcParams['lines.marker']    = 'None'\n",
    "mpl.rcParams['lines.markersize']=  '6'          # markersize, in points\n",
    "\n",
    "###LEGEND\n",
    "mpl.rcParams['legend.fontsize']='medium'\n",
    "\n",
    "### GRIDS\n",
    "mpl.rcParams['grid.color']='black'     # grid color\n",
    "mpl.rcParams['grid.linestyle'] =':'    # dotted\n",
    "mpl.rcParams['grid.linewidth']='0.5'   # in points\n",
    "mpl.rcParams['grid.alpha']='1.0'       # transparency, between 0.0 and 1.0\n",
    "\n",
    "### TICKS\n",
    "mpl.rcParams['xtick.labelsize']=\"small\"  # fontsize of the tick labels\n",
    "mpl.rcParams['xtick.direction']=\"out\"      # direction: in, out, or inout\n",
    "mpl.rcParams['ytick.labelsize']=\"small\"   # fontsize of the tick labels\n",
    "mpl.rcParams['ytick.direction']=\"out\"      # direction: in, out, or inout\n",
    "\n",
    "### AXES\n",
    "mpl.rcParams['axes.linewidth']  =  '1.0'    # edge linewidth\n",
    "mpl.rcParams['axes.grid']       =  'True'   # display grid or not\n",
    "mpl.rcParams['axes.titlesize']  =  'large'  # fontsize of the axes title\n",
    "mpl.rcParams['axes.labelsize']  = 'large'  # fontsize of the x any y labels\n",
    "mpl.rcParams['axes.facecolor']= 'white'     # axes background color\n",
    "\n",
    "mpl.rcParams['figure.facecolor']= '1.0'     # figure facecolor; 0.75 is scalar gray"
   ]
  },
  {
   "cell_type": "code",
   "execution_count": 3,
   "metadata": {
    "collapsed": true
   },
   "outputs": [],
   "source": [
    "#helper functions for serialization and figure exports\n",
    "def serializeDFtoTSVWithIndex(sim_ids, dfs, description_prefix):\n",
    "    for sim,df in zip(sim_ids, dfs):\n",
    "            filename = description_prefix + \"_\" + sim + \".tsv\"\n",
    "            df.to_csv(filename, sep=\"\\t\",  index=True)\n",
    "            \n",
    "#DEMO fig export:\n",
    "#fig, ax = plt.subplots(1, 1, figsize=(20,10))\n",
    "#fig.savefig('QuerySurvival_VirtuosoN3_64.svg', format='svg', bbox_inches='tight', dpi=1200)\n",
    "#fig.savefig('QuerySurvival_VirtuosoN3_64.eps', format='eps', bbox_inches='tight', dpi=1200)"
   ]
  },
  {
   "cell_type": "code",
   "execution_count": 4,
   "metadata": {
    "collapsed": false
   },
   "outputs": [
    {
     "name": "stdout",
     "output_type": "stream",
     "text": [
      "1223\n"
     ]
    }
   ],
   "source": [
    "query_dir = './OntoforceQueries/templated/queries/'\n",
    "json_dir = './OntoforceQueries_JSON/'\n",
    "\n",
    "query_files = []\n",
    "\n",
    "for fn in os.listdir(query_dir):\n",
    "    query_files.append(fn)\n",
    "\n",
    "print(len(query_files))        "
   ]
  },
  {
   "cell_type": "code",
   "execution_count": 5,
   "metadata": {
    "collapsed": false
   },
   "outputs": [],
   "source": [
    "def convertSparqlToJson(input_path,sparql_file,output_path):\n",
    "    output_file = output_path + sparql_file + \".json\"\n",
    "\n",
    "    with open(output_file, 'w+') as out:\n",
    "\n",
    "        test = subprocess.Popen([\"./sparql-to-json\", input_path+sparql_file], stdout=out)\n",
    "\n",
    "def extractFeaturesOfQuery(input_path, json_file, output_path):\n",
    "    output_file = output_path + json_file.split('.')[0] +  \"_analyzed.json\"\n",
    "    \n",
    "    with open(output_file, 'w+') as out:\n",
    "\n",
    "        test = subprocess.Popen([\"./analyze-query\", input_path+json_file], stdout=out)"
   ]
  },
  {
   "cell_type": "code",
   "execution_count": 6,
   "metadata": {
    "collapsed": false
   },
   "outputs": [],
   "source": [
    "if not skip_feature_extraction:\n",
    "    for query_file in query_files:\n",
    "        convertSparqlToJson(query_dir,query_file,json_dir)\n",
    "    "
   ]
  },
  {
   "cell_type": "code",
   "execution_count": 7,
   "metadata": {
    "collapsed": false
   },
   "outputs": [
    {
     "name": "stdout",
     "output_type": "stream",
     "text": [
      "1223\n"
     ]
    }
   ],
   "source": [
    "analysis_dir = './OntoforceQueries_Analyzed/'\n",
    "\n",
    "json_files = []\n",
    "\n",
    "for fn in os.listdir(json_dir):\n",
    "    json_files.append(fn)\n",
    "\n",
    "if not skip_feature_extraction:\n",
    "    for json_file in json_files:\n",
    "        #print(json_file)\n",
    "        extractFeaturesOfQuery(json_dir,json_file,analysis_dir)\n",
    "        \n",
    "        \n",
    "feature_files = []\n",
    "\n",
    "for fn in os.listdir(analysis_dir):\n",
    "    feature_files.append(fn)\n",
    "print(len(feature_files))"
   ]
  },
  {
   "cell_type": "markdown",
   "metadata": {},
   "source": [
    "# 2. Explore Query Features"
   ]
  },
  {
   "cell_type": "code",
   "execution_count": 8,
   "metadata": {
    "collapsed": false
   },
   "outputs": [
    {
     "name": "stdout",
     "output_type": "stream",
     "text": [
      "{'count': {'bgp': 1,\n",
      "           'keys': 8,\n",
      "           'query': 1,\n",
      "           'tp_?p?': 1,\n",
      "           'tp_sp?': 1,\n",
      "           'triplePattern': 2},\n",
      " 'depth': 2,\n",
      " 'jsonLines': 33,\n",
      " 'jsonSize': 839,\n",
      " 'kind': 'query'}\n"
     ]
    }
   ],
   "source": [
    "import json\n",
    "from pprint import pprint\n",
    "\n",
    "with open(analysis_dir + feature_files[0]) as data_file:    \n",
    "    data = json.load(data_file)\n",
    "\n",
    "pprint(data)"
   ]
  },
  {
   "cell_type": "code",
   "execution_count": 9,
   "metadata": {
    "collapsed": true
   },
   "outputs": [],
   "source": [
    "json_objects = []\n",
    "\n",
    "for ff in feature_files:\n",
    "    with open(analysis_dir + ff) as data_file:    \n",
    "        data = json.load(data_file)\n",
    "        json_objects.append(data)"
   ]
  },
  {
   "cell_type": "code",
   "execution_count": 10,
   "metadata": {
    "collapsed": false
   },
   "outputs": [],
   "source": [
    "def getAllFeatures(json_list):\n",
    "    keys = []\n",
    "    for json in json_list:\n",
    "        for key1 in json:\n",
    "            keys.append(key1)\n",
    "    \n",
    "    return list(set(keys))\n",
    "                "
   ]
  },
  {
   "cell_type": "code",
   "execution_count": 11,
   "metadata": {
    "collapsed": false
   },
   "outputs": [
    {
     "data": {
      "text/plain": [
       "['kind', 'count', 'jsonLines', 'depth', 'jsonSize']"
      ]
     },
     "execution_count": 11,
     "metadata": {},
     "output_type": "execute_result"
    }
   ],
   "source": [
    "getAllFeatures(json_objects)"
   ]
  },
  {
   "cell_type": "code",
   "execution_count": 12,
   "metadata": {
    "collapsed": true
   },
   "outputs": [],
   "source": [
    "def getAllCountKeys(json_list):\n",
    "    keys = []\n",
    "    for json in json_list:\n",
    "        for key1 in json['count']:\n",
    "            keys.append(key1)\n",
    "    \n",
    "    return list(set(keys))"
   ]
  },
  {
   "cell_type": "code",
   "execution_count": 13,
   "metadata": {
    "collapsed": false
   },
   "outputs": [
    {
     "data": {
      "text/plain": [
       "['tp_?po',\n",
       " 'tp_???',\n",
       " 'query',\n",
       " 'union',\n",
       " 'triplePattern',\n",
       " 'tp_?p?',\n",
       " 'group',\n",
       " 'graph',\n",
       " 'aggregation_count',\n",
       " 'tp_sp?',\n",
       " 'distinct',\n",
       " 'bgp',\n",
       " 'filter',\n",
       " 'optional',\n",
       " 'keys']"
      ]
     },
     "execution_count": 13,
     "metadata": {},
     "output_type": "execute_result"
    }
   ],
   "source": [
    "all_count_keys = getAllCountKeys(json_objects)\n",
    "all_count_keys"
   ]
  },
  {
   "cell_type": "code",
   "execution_count": 14,
   "metadata": {
    "collapsed": false
   },
   "outputs": [
    {
     "data": {
      "text/plain": [
       "['query']"
      ]
     },
     "execution_count": 14,
     "metadata": {},
     "output_type": "execute_result"
    }
   ],
   "source": [
    "#is 'kind' always query? => YES\n",
    "kinds = []\n",
    "for json in json_objects:\n",
    "    kinds.append(json['kind'])\n",
    "    \n",
    "kinds = list(set(kinds)) \n",
    "kinds"
   ]
  },
  {
   "cell_type": "code",
   "execution_count": 15,
   "metadata": {
    "collapsed": true
   },
   "outputs": [],
   "source": [
    "import pandas as pd"
   ]
  },
  {
   "cell_type": "code",
   "execution_count": 16,
   "metadata": {
    "collapsed": false
   },
   "outputs": [
    {
     "data": {
      "text/plain": [
       "['tp_?po',\n",
       " 'tp_???',\n",
       " 'query',\n",
       " 'union',\n",
       " 'triplePattern',\n",
       " 'tp_?p?',\n",
       " 'group',\n",
       " 'graph',\n",
       " 'aggregation_count',\n",
       " 'tp_sp?',\n",
       " 'distinct',\n",
       " 'bgp',\n",
       " 'filter',\n",
       " 'optional',\n",
       " 'keys',\n",
       " 'jsonLines',\n",
       " 'jsonSize',\n",
       " 'depth']"
      ]
     },
     "execution_count": 16,
     "metadata": {},
     "output_type": "execute_result"
    }
   ],
   "source": [
    "df_columns = all_count_keys\n",
    "level1_features = ['jsonLines', 'jsonSize', 'depth']\n",
    "df_columns.extend(level1_features)\n",
    "df_columns"
   ]
  },
  {
   "cell_type": "code",
   "execution_count": 17,
   "metadata": {
    "collapsed": false
   },
   "outputs": [],
   "source": [
    "df_query_features = pd.DataFrame([],columns=df_columns, index=[])\n",
    "\n",
    "for json,ff in zip(json_objects,feature_files):\n",
    "    query  = ff.split(\"_\")[0]\n",
    "    \n",
    "    feature_dict = {}\n",
    "    for f1 in level1_features:\n",
    "         feature_dict[f1] = json[f1]\n",
    "            \n",
    "    for f2 in all_count_keys:\n",
    "        if f2 in json['count']:\n",
    "            feature_dict[f2] = json['count'][f2]\n",
    "    \n",
    "    df_query_features.loc[query] = pd.Series(feature_dict)"
   ]
  },
  {
   "cell_type": "code",
   "execution_count": 18,
   "metadata": {
    "collapsed": false
   },
   "outputs": [],
   "source": [
    "df_query_features\n",
    "df_query_features = df_query_features.fillna(0)"
   ]
  },
  {
   "cell_type": "code",
   "execution_count": 19,
   "metadata": {
    "collapsed": false
   },
   "outputs": [
    {
     "data": {
      "text/html": [
       "<div>\n",
       "<table border=\"1\" class=\"dataframe\">\n",
       "  <thead>\n",
       "    <tr style=\"text-align: right;\">\n",
       "      <th></th>\n",
       "      <th>triplePattern</th>\n",
       "      <th>keys</th>\n",
       "      <th>distinct</th>\n",
       "      <th>aggregation_count</th>\n",
       "      <th>tp_?p?</th>\n",
       "      <th>tp_?po</th>\n",
       "      <th>graph</th>\n",
       "      <th>bgp</th>\n",
       "      <th>tp_???</th>\n",
       "      <th>group</th>\n",
       "      <th>union</th>\n",
       "      <th>optional</th>\n",
       "      <th>tp_sp?</th>\n",
       "      <th>query</th>\n",
       "      <th>filter</th>\n",
       "      <th>jsonLines</th>\n",
       "      <th>jsonSize</th>\n",
       "      <th>depth</th>\n",
       "    </tr>\n",
       "  </thead>\n",
       "  <tbody>\n",
       "    <tr>\n",
       "      <th>xiy</th>\n",
       "      <td>2</td>\n",
       "      <td>8</td>\n",
       "      <td>0</td>\n",
       "      <td>0</td>\n",
       "      <td>1</td>\n",
       "      <td>0</td>\n",
       "      <td>0</td>\n",
       "      <td>1</td>\n",
       "      <td>0</td>\n",
       "      <td>0</td>\n",
       "      <td>0</td>\n",
       "      <td>0</td>\n",
       "      <td>1</td>\n",
       "      <td>1</td>\n",
       "      <td>0</td>\n",
       "      <td>33</td>\n",
       "      <td>839</td>\n",
       "      <td>2</td>\n",
       "    </tr>\n",
       "    <tr>\n",
       "      <th>xpk</th>\n",
       "      <td>1</td>\n",
       "      <td>7</td>\n",
       "      <td>0</td>\n",
       "      <td>0</td>\n",
       "      <td>0</td>\n",
       "      <td>0</td>\n",
       "      <td>0</td>\n",
       "      <td>1</td>\n",
       "      <td>0</td>\n",
       "      <td>0</td>\n",
       "      <td>0</td>\n",
       "      <td>0</td>\n",
       "      <td>1</td>\n",
       "      <td>1</td>\n",
       "      <td>0</td>\n",
       "      <td>26</td>\n",
       "      <td>610</td>\n",
       "      <td>2</td>\n",
       "    </tr>\n",
       "    <tr>\n",
       "      <th>xzaqe</th>\n",
       "      <td>4</td>\n",
       "      <td>21</td>\n",
       "      <td>1</td>\n",
       "      <td>1</td>\n",
       "      <td>2</td>\n",
       "      <td>0</td>\n",
       "      <td>0</td>\n",
       "      <td>2</td>\n",
       "      <td>2</td>\n",
       "      <td>0</td>\n",
       "      <td>0</td>\n",
       "      <td>1</td>\n",
       "      <td>0</td>\n",
       "      <td>1</td>\n",
       "      <td>5</td>\n",
       "      <td>122</td>\n",
       "      <td>2687</td>\n",
       "      <td>3</td>\n",
       "    </tr>\n",
       "    <tr>\n",
       "      <th>xzasg</th>\n",
       "      <td>1</td>\n",
       "      <td>9</td>\n",
       "      <td>0</td>\n",
       "      <td>0</td>\n",
       "      <td>0</td>\n",
       "      <td>0</td>\n",
       "      <td>0</td>\n",
       "      <td>1</td>\n",
       "      <td>0</td>\n",
       "      <td>0</td>\n",
       "      <td>0</td>\n",
       "      <td>0</td>\n",
       "      <td>1</td>\n",
       "      <td>1</td>\n",
       "      <td>0</td>\n",
       "      <td>33</td>\n",
       "      <td>794</td>\n",
       "      <td>2</td>\n",
       "    </tr>\n",
       "    <tr>\n",
       "      <th>xzany</th>\n",
       "      <td>4</td>\n",
       "      <td>23</td>\n",
       "      <td>1</td>\n",
       "      <td>1</td>\n",
       "      <td>2</td>\n",
       "      <td>0</td>\n",
       "      <td>0</td>\n",
       "      <td>3</td>\n",
       "      <td>2</td>\n",
       "      <td>0</td>\n",
       "      <td>0</td>\n",
       "      <td>1</td>\n",
       "      <td>0</td>\n",
       "      <td>1</td>\n",
       "      <td>5</td>\n",
       "      <td>127</td>\n",
       "      <td>2729</td>\n",
       "      <td>3</td>\n",
       "    </tr>\n",
       "    <tr>\n",
       "      <th>xzamn</th>\n",
       "      <td>1</td>\n",
       "      <td>7</td>\n",
       "      <td>0</td>\n",
       "      <td>0</td>\n",
       "      <td>0</td>\n",
       "      <td>0</td>\n",
       "      <td>0</td>\n",
       "      <td>1</td>\n",
       "      <td>0</td>\n",
       "      <td>0</td>\n",
       "      <td>0</td>\n",
       "      <td>0</td>\n",
       "      <td>1</td>\n",
       "      <td>1</td>\n",
       "      <td>0</td>\n",
       "      <td>26</td>\n",
       "      <td>609</td>\n",
       "      <td>2</td>\n",
       "    </tr>\n",
       "    <tr>\n",
       "      <th>xzach</th>\n",
       "      <td>5</td>\n",
       "      <td>27</td>\n",
       "      <td>1</td>\n",
       "      <td>1</td>\n",
       "      <td>2</td>\n",
       "      <td>0</td>\n",
       "      <td>0</td>\n",
       "      <td>3</td>\n",
       "      <td>3</td>\n",
       "      <td>0</td>\n",
       "      <td>0</td>\n",
       "      <td>1</td>\n",
       "      <td>0</td>\n",
       "      <td>1</td>\n",
       "      <td>7</td>\n",
       "      <td>154</td>\n",
       "      <td>3356</td>\n",
       "      <td>3</td>\n",
       "    </tr>\n",
       "    <tr>\n",
       "      <th>xzagg</th>\n",
       "      <td>11</td>\n",
       "      <td>41</td>\n",
       "      <td>1</td>\n",
       "      <td>1</td>\n",
       "      <td>7</td>\n",
       "      <td>0</td>\n",
       "      <td>0</td>\n",
       "      <td>3</td>\n",
       "      <td>4</td>\n",
       "      <td>0</td>\n",
       "      <td>1</td>\n",
       "      <td>1</td>\n",
       "      <td>0</td>\n",
       "      <td>3</td>\n",
       "      <td>9</td>\n",
       "      <td>254</td>\n",
       "      <td>8519</td>\n",
       "      <td>5</td>\n",
       "    </tr>\n",
       "    <tr>\n",
       "      <th>xfx</th>\n",
       "      <td>1</td>\n",
       "      <td>7</td>\n",
       "      <td>0</td>\n",
       "      <td>0</td>\n",
       "      <td>0</td>\n",
       "      <td>0</td>\n",
       "      <td>0</td>\n",
       "      <td>1</td>\n",
       "      <td>0</td>\n",
       "      <td>0</td>\n",
       "      <td>0</td>\n",
       "      <td>0</td>\n",
       "      <td>1</td>\n",
       "      <td>1</td>\n",
       "      <td>0</td>\n",
       "      <td>26</td>\n",
       "      <td>610</td>\n",
       "      <td>2</td>\n",
       "    </tr>\n",
       "    <tr>\n",
       "      <th>xll</th>\n",
       "      <td>6</td>\n",
       "      <td>43</td>\n",
       "      <td>1</td>\n",
       "      <td>1</td>\n",
       "      <td>3</td>\n",
       "      <td>0</td>\n",
       "      <td>0</td>\n",
       "      <td>5</td>\n",
       "      <td>3</td>\n",
       "      <td>2</td>\n",
       "      <td>1</td>\n",
       "      <td>2</td>\n",
       "      <td>0</td>\n",
       "      <td>1</td>\n",
       "      <td>9</td>\n",
       "      <td>498</td>\n",
       "      <td>25522</td>\n",
       "      <td>4</td>\n",
       "    </tr>\n",
       "    <tr>\n",
       "      <th>xbv</th>\n",
       "      <td>14</td>\n",
       "      <td>65</td>\n",
       "      <td>1</td>\n",
       "      <td>1</td>\n",
       "      <td>8</td>\n",
       "      <td>0</td>\n",
       "      <td>0</td>\n",
       "      <td>6</td>\n",
       "      <td>6</td>\n",
       "      <td>0</td>\n",
       "      <td>1</td>\n",
       "      <td>3</td>\n",
       "      <td>0</td>\n",
       "      <td>3</td>\n",
       "      <td>16</td>\n",
       "      <td>384</td>\n",
       "      <td>12304</td>\n",
       "      <td>5</td>\n",
       "    </tr>\n",
       "    <tr>\n",
       "      <th>xzacc</th>\n",
       "      <td>34</td>\n",
       "      <td>163</td>\n",
       "      <td>1</td>\n",
       "      <td>1</td>\n",
       "      <td>20</td>\n",
       "      <td>0</td>\n",
       "      <td>0</td>\n",
       "      <td>25</td>\n",
       "      <td>14</td>\n",
       "      <td>0</td>\n",
       "      <td>9</td>\n",
       "      <td>2</td>\n",
       "      <td>0</td>\n",
       "      <td>10</td>\n",
       "      <td>23</td>\n",
       "      <td>5000</td>\n",
       "      <td>334396</td>\n",
       "      <td>8</td>\n",
       "    </tr>\n",
       "    <tr>\n",
       "      <th>xzaqh</th>\n",
       "      <td>2</td>\n",
       "      <td>8</td>\n",
       "      <td>0</td>\n",
       "      <td>0</td>\n",
       "      <td>1</td>\n",
       "      <td>0</td>\n",
       "      <td>0</td>\n",
       "      <td>1</td>\n",
       "      <td>0</td>\n",
       "      <td>0</td>\n",
       "      <td>0</td>\n",
       "      <td>0</td>\n",
       "      <td>1</td>\n",
       "      <td>1</td>\n",
       "      <td>0</td>\n",
       "      <td>33</td>\n",
       "      <td>839</td>\n",
       "      <td>2</td>\n",
       "    </tr>\n",
       "    <tr>\n",
       "      <th>xzaap</th>\n",
       "      <td>1</td>\n",
       "      <td>7</td>\n",
       "      <td>0</td>\n",
       "      <td>0</td>\n",
       "      <td>0</td>\n",
       "      <td>0</td>\n",
       "      <td>0</td>\n",
       "      <td>1</td>\n",
       "      <td>0</td>\n",
       "      <td>0</td>\n",
       "      <td>0</td>\n",
       "      <td>0</td>\n",
       "      <td>1</td>\n",
       "      <td>1</td>\n",
       "      <td>0</td>\n",
       "      <td>26</td>\n",
       "      <td>610</td>\n",
       "      <td>2</td>\n",
       "    </tr>\n",
       "    <tr>\n",
       "      <th>xzase</th>\n",
       "      <td>11</td>\n",
       "      <td>57</td>\n",
       "      <td>1</td>\n",
       "      <td>1</td>\n",
       "      <td>7</td>\n",
       "      <td>0</td>\n",
       "      <td>0</td>\n",
       "      <td>6</td>\n",
       "      <td>4</td>\n",
       "      <td>0</td>\n",
       "      <td>1</td>\n",
       "      <td>3</td>\n",
       "      <td>0</td>\n",
       "      <td>3</td>\n",
       "      <td>12</td>\n",
       "      <td>325</td>\n",
       "      <td>10412</td>\n",
       "      <td>5</td>\n",
       "    </tr>\n",
       "    <tr>\n",
       "      <th>xzafm</th>\n",
       "      <td>2</td>\n",
       "      <td>8</td>\n",
       "      <td>0</td>\n",
       "      <td>0</td>\n",
       "      <td>1</td>\n",
       "      <td>0</td>\n",
       "      <td>0</td>\n",
       "      <td>1</td>\n",
       "      <td>0</td>\n",
       "      <td>0</td>\n",
       "      <td>0</td>\n",
       "      <td>0</td>\n",
       "      <td>1</td>\n",
       "      <td>1</td>\n",
       "      <td>0</td>\n",
       "      <td>33</td>\n",
       "      <td>859</td>\n",
       "      <td>2</td>\n",
       "    </tr>\n",
       "    <tr>\n",
       "      <th>xij</th>\n",
       "      <td>5</td>\n",
       "      <td>35</td>\n",
       "      <td>1</td>\n",
       "      <td>1</td>\n",
       "      <td>3</td>\n",
       "      <td>0</td>\n",
       "      <td>0</td>\n",
       "      <td>5</td>\n",
       "      <td>2</td>\n",
       "      <td>0</td>\n",
       "      <td>0</td>\n",
       "      <td>3</td>\n",
       "      <td>0</td>\n",
       "      <td>1</td>\n",
       "      <td>7</td>\n",
       "      <td>184</td>\n",
       "      <td>3865</td>\n",
       "      <td>3</td>\n",
       "    </tr>\n",
       "    <tr>\n",
       "      <th>xrj</th>\n",
       "      <td>11</td>\n",
       "      <td>41</td>\n",
       "      <td>1</td>\n",
       "      <td>1</td>\n",
       "      <td>7</td>\n",
       "      <td>0</td>\n",
       "      <td>0</td>\n",
       "      <td>3</td>\n",
       "      <td>4</td>\n",
       "      <td>0</td>\n",
       "      <td>1</td>\n",
       "      <td>1</td>\n",
       "      <td>0</td>\n",
       "      <td>3</td>\n",
       "      <td>9</td>\n",
       "      <td>254</td>\n",
       "      <td>8465</td>\n",
       "      <td>5</td>\n",
       "    </tr>\n",
       "    <tr>\n",
       "      <th>xuu</th>\n",
       "      <td>2</td>\n",
       "      <td>17</td>\n",
       "      <td>0</td>\n",
       "      <td>0</td>\n",
       "      <td>0</td>\n",
       "      <td>0</td>\n",
       "      <td>0</td>\n",
       "      <td>1</td>\n",
       "      <td>2</td>\n",
       "      <td>0</td>\n",
       "      <td>0</td>\n",
       "      <td>0</td>\n",
       "      <td>0</td>\n",
       "      <td>1</td>\n",
       "      <td>4</td>\n",
       "      <td>89</td>\n",
       "      <td>2485</td>\n",
       "      <td>2</td>\n",
       "    </tr>\n",
       "    <tr>\n",
       "      <th>xfk</th>\n",
       "      <td>3</td>\n",
       "      <td>21</td>\n",
       "      <td>1</td>\n",
       "      <td>1</td>\n",
       "      <td>1</td>\n",
       "      <td>0</td>\n",
       "      <td>0</td>\n",
       "      <td>2</td>\n",
       "      <td>2</td>\n",
       "      <td>0</td>\n",
       "      <td>0</td>\n",
       "      <td>1</td>\n",
       "      <td>0</td>\n",
       "      <td>1</td>\n",
       "      <td>5</td>\n",
       "      <td>117</td>\n",
       "      <td>2516</td>\n",
       "      <td>3</td>\n",
       "    </tr>\n",
       "    <tr>\n",
       "      <th>xzajd</th>\n",
       "      <td>11</td>\n",
       "      <td>57</td>\n",
       "      <td>1</td>\n",
       "      <td>1</td>\n",
       "      <td>7</td>\n",
       "      <td>0</td>\n",
       "      <td>0</td>\n",
       "      <td>6</td>\n",
       "      <td>4</td>\n",
       "      <td>0</td>\n",
       "      <td>1</td>\n",
       "      <td>3</td>\n",
       "      <td>0</td>\n",
       "      <td>3</td>\n",
       "      <td>12</td>\n",
       "      <td>325</td>\n",
       "      <td>10346</td>\n",
       "      <td>5</td>\n",
       "    </tr>\n",
       "    <tr>\n",
       "      <th>xia</th>\n",
       "      <td>2</td>\n",
       "      <td>11</td>\n",
       "      <td>1</td>\n",
       "      <td>1</td>\n",
       "      <td>1</td>\n",
       "      <td>0</td>\n",
       "      <td>0</td>\n",
       "      <td>1</td>\n",
       "      <td>1</td>\n",
       "      <td>0</td>\n",
       "      <td>0</td>\n",
       "      <td>0</td>\n",
       "      <td>0</td>\n",
       "      <td>1</td>\n",
       "      <td>2</td>\n",
       "      <td>64</td>\n",
       "      <td>1441</td>\n",
       "      <td>2</td>\n",
       "    </tr>\n",
       "    <tr>\n",
       "      <th>xzaih</th>\n",
       "      <td>1</td>\n",
       "      <td>7</td>\n",
       "      <td>0</td>\n",
       "      <td>0</td>\n",
       "      <td>0</td>\n",
       "      <td>0</td>\n",
       "      <td>0</td>\n",
       "      <td>1</td>\n",
       "      <td>0</td>\n",
       "      <td>0</td>\n",
       "      <td>0</td>\n",
       "      <td>0</td>\n",
       "      <td>1</td>\n",
       "      <td>1</td>\n",
       "      <td>0</td>\n",
       "      <td>26</td>\n",
       "      <td>630</td>\n",
       "      <td>2</td>\n",
       "    </tr>\n",
       "    <tr>\n",
       "      <th>xzake</th>\n",
       "      <td>3</td>\n",
       "      <td>15</td>\n",
       "      <td>1</td>\n",
       "      <td>1</td>\n",
       "      <td>1</td>\n",
       "      <td>0</td>\n",
       "      <td>0</td>\n",
       "      <td>1</td>\n",
       "      <td>2</td>\n",
       "      <td>0</td>\n",
       "      <td>0</td>\n",
       "      <td>0</td>\n",
       "      <td>0</td>\n",
       "      <td>1</td>\n",
       "      <td>4</td>\n",
       "      <td>91</td>\n",
       "      <td>2035</td>\n",
       "      <td>2</td>\n",
       "    </tr>\n",
       "    <tr>\n",
       "      <th>xzaus</th>\n",
       "      <td>1</td>\n",
       "      <td>7</td>\n",
       "      <td>0</td>\n",
       "      <td>0</td>\n",
       "      <td>0</td>\n",
       "      <td>0</td>\n",
       "      <td>0</td>\n",
       "      <td>1</td>\n",
       "      <td>0</td>\n",
       "      <td>0</td>\n",
       "      <td>0</td>\n",
       "      <td>0</td>\n",
       "      <td>1</td>\n",
       "      <td>1</td>\n",
       "      <td>0</td>\n",
       "      <td>26</td>\n",
       "      <td>608</td>\n",
       "      <td>2</td>\n",
       "    </tr>\n",
       "    <tr>\n",
       "      <th>xfq</th>\n",
       "      <td>1</td>\n",
       "      <td>7</td>\n",
       "      <td>0</td>\n",
       "      <td>0</td>\n",
       "      <td>0</td>\n",
       "      <td>0</td>\n",
       "      <td>0</td>\n",
       "      <td>1</td>\n",
       "      <td>0</td>\n",
       "      <td>0</td>\n",
       "      <td>0</td>\n",
       "      <td>0</td>\n",
       "      <td>1</td>\n",
       "      <td>1</td>\n",
       "      <td>0</td>\n",
       "      <td>26</td>\n",
       "      <td>627</td>\n",
       "      <td>2</td>\n",
       "    </tr>\n",
       "    <tr>\n",
       "      <th>xzaoi</th>\n",
       "      <td>1</td>\n",
       "      <td>7</td>\n",
       "      <td>0</td>\n",
       "      <td>0</td>\n",
       "      <td>0</td>\n",
       "      <td>0</td>\n",
       "      <td>0</td>\n",
       "      <td>1</td>\n",
       "      <td>0</td>\n",
       "      <td>0</td>\n",
       "      <td>0</td>\n",
       "      <td>0</td>\n",
       "      <td>1</td>\n",
       "      <td>1</td>\n",
       "      <td>0</td>\n",
       "      <td>26</td>\n",
       "      <td>610</td>\n",
       "      <td>2</td>\n",
       "    </tr>\n",
       "    <tr>\n",
       "      <th>xly</th>\n",
       "      <td>9</td>\n",
       "      <td>45</td>\n",
       "      <td>1</td>\n",
       "      <td>1</td>\n",
       "      <td>7</td>\n",
       "      <td>0</td>\n",
       "      <td>0</td>\n",
       "      <td>4</td>\n",
       "      <td>2</td>\n",
       "      <td>0</td>\n",
       "      <td>1</td>\n",
       "      <td>2</td>\n",
       "      <td>0</td>\n",
       "      <td>4</td>\n",
       "      <td>5</td>\n",
       "      <td>248</td>\n",
       "      <td>8194</td>\n",
       "      <td>6</td>\n",
       "    </tr>\n",
       "    <tr>\n",
       "      <th>xjd</th>\n",
       "      <td>1</td>\n",
       "      <td>7</td>\n",
       "      <td>0</td>\n",
       "      <td>0</td>\n",
       "      <td>0</td>\n",
       "      <td>0</td>\n",
       "      <td>0</td>\n",
       "      <td>1</td>\n",
       "      <td>0</td>\n",
       "      <td>0</td>\n",
       "      <td>0</td>\n",
       "      <td>0</td>\n",
       "      <td>1</td>\n",
       "      <td>1</td>\n",
       "      <td>0</td>\n",
       "      <td>26</td>\n",
       "      <td>613</td>\n",
       "      <td>2</td>\n",
       "    </tr>\n",
       "    <tr>\n",
       "      <th>xzaan</th>\n",
       "      <td>8</td>\n",
       "      <td>49</td>\n",
       "      <td>1</td>\n",
       "      <td>1</td>\n",
       "      <td>6</td>\n",
       "      <td>0</td>\n",
       "      <td>0</td>\n",
       "      <td>6</td>\n",
       "      <td>2</td>\n",
       "      <td>0</td>\n",
       "      <td>1</td>\n",
       "      <td>3</td>\n",
       "      <td>0</td>\n",
       "      <td>3</td>\n",
       "      <td>8</td>\n",
       "      <td>266</td>\n",
       "      <td>8444</td>\n",
       "      <td>5</td>\n",
       "    </tr>\n",
       "    <tr>\n",
       "      <th>...</th>\n",
       "      <td>...</td>\n",
       "      <td>...</td>\n",
       "      <td>...</td>\n",
       "      <td>...</td>\n",
       "      <td>...</td>\n",
       "      <td>...</td>\n",
       "      <td>...</td>\n",
       "      <td>...</td>\n",
       "      <td>...</td>\n",
       "      <td>...</td>\n",
       "      <td>...</td>\n",
       "      <td>...</td>\n",
       "      <td>...</td>\n",
       "      <td>...</td>\n",
       "      <td>...</td>\n",
       "      <td>...</td>\n",
       "      <td>...</td>\n",
       "      <td>...</td>\n",
       "    </tr>\n",
       "    <tr>\n",
       "      <th>xen</th>\n",
       "      <td>23</td>\n",
       "      <td>119</td>\n",
       "      <td>1</td>\n",
       "      <td>1</td>\n",
       "      <td>13</td>\n",
       "      <td>0</td>\n",
       "      <td>0</td>\n",
       "      <td>14</td>\n",
       "      <td>10</td>\n",
       "      <td>4</td>\n",
       "      <td>3</td>\n",
       "      <td>5</td>\n",
       "      <td>0</td>\n",
       "      <td>3</td>\n",
       "      <td>27</td>\n",
       "      <td>645</td>\n",
       "      <td>20974</td>\n",
       "      <td>6</td>\n",
       "    </tr>\n",
       "    <tr>\n",
       "      <th>xzarv</th>\n",
       "      <td>1</td>\n",
       "      <td>7</td>\n",
       "      <td>0</td>\n",
       "      <td>0</td>\n",
       "      <td>0</td>\n",
       "      <td>0</td>\n",
       "      <td>0</td>\n",
       "      <td>1</td>\n",
       "      <td>0</td>\n",
       "      <td>0</td>\n",
       "      <td>0</td>\n",
       "      <td>0</td>\n",
       "      <td>1</td>\n",
       "      <td>1</td>\n",
       "      <td>0</td>\n",
       "      <td>26</td>\n",
       "      <td>609</td>\n",
       "      <td>2</td>\n",
       "    </tr>\n",
       "    <tr>\n",
       "      <th>xwb</th>\n",
       "      <td>11</td>\n",
       "      <td>41</td>\n",
       "      <td>1</td>\n",
       "      <td>1</td>\n",
       "      <td>7</td>\n",
       "      <td>0</td>\n",
       "      <td>0</td>\n",
       "      <td>3</td>\n",
       "      <td>4</td>\n",
       "      <td>0</td>\n",
       "      <td>1</td>\n",
       "      <td>1</td>\n",
       "      <td>0</td>\n",
       "      <td>3</td>\n",
       "      <td>9</td>\n",
       "      <td>254</td>\n",
       "      <td>8457</td>\n",
       "      <td>5</td>\n",
       "    </tr>\n",
       "    <tr>\n",
       "      <th>xnu</th>\n",
       "      <td>1</td>\n",
       "      <td>7</td>\n",
       "      <td>0</td>\n",
       "      <td>0</td>\n",
       "      <td>0</td>\n",
       "      <td>0</td>\n",
       "      <td>0</td>\n",
       "      <td>1</td>\n",
       "      <td>0</td>\n",
       "      <td>0</td>\n",
       "      <td>0</td>\n",
       "      <td>0</td>\n",
       "      <td>1</td>\n",
       "      <td>1</td>\n",
       "      <td>0</td>\n",
       "      <td>26</td>\n",
       "      <td>609</td>\n",
       "      <td>2</td>\n",
       "    </tr>\n",
       "    <tr>\n",
       "      <th>xeu</th>\n",
       "      <td>11</td>\n",
       "      <td>57</td>\n",
       "      <td>1</td>\n",
       "      <td>1</td>\n",
       "      <td>7</td>\n",
       "      <td>0</td>\n",
       "      <td>0</td>\n",
       "      <td>6</td>\n",
       "      <td>4</td>\n",
       "      <td>0</td>\n",
       "      <td>1</td>\n",
       "      <td>3</td>\n",
       "      <td>0</td>\n",
       "      <td>3</td>\n",
       "      <td>12</td>\n",
       "      <td>325</td>\n",
       "      <td>10412</td>\n",
       "      <td>5</td>\n",
       "    </tr>\n",
       "    <tr>\n",
       "      <th>xyo</th>\n",
       "      <td>2</td>\n",
       "      <td>8</td>\n",
       "      <td>0</td>\n",
       "      <td>0</td>\n",
       "      <td>1</td>\n",
       "      <td>0</td>\n",
       "      <td>0</td>\n",
       "      <td>1</td>\n",
       "      <td>0</td>\n",
       "      <td>0</td>\n",
       "      <td>0</td>\n",
       "      <td>0</td>\n",
       "      <td>1</td>\n",
       "      <td>1</td>\n",
       "      <td>0</td>\n",
       "      <td>33</td>\n",
       "      <td>839</td>\n",
       "      <td>2</td>\n",
       "    </tr>\n",
       "    <tr>\n",
       "      <th>xbf</th>\n",
       "      <td>2</td>\n",
       "      <td>8</td>\n",
       "      <td>0</td>\n",
       "      <td>0</td>\n",
       "      <td>1</td>\n",
       "      <td>0</td>\n",
       "      <td>0</td>\n",
       "      <td>1</td>\n",
       "      <td>0</td>\n",
       "      <td>0</td>\n",
       "      <td>0</td>\n",
       "      <td>0</td>\n",
       "      <td>1</td>\n",
       "      <td>1</td>\n",
       "      <td>0</td>\n",
       "      <td>33</td>\n",
       "      <td>839</td>\n",
       "      <td>2</td>\n",
       "    </tr>\n",
       "    <tr>\n",
       "      <th>xzaca</th>\n",
       "      <td>1</td>\n",
       "      <td>7</td>\n",
       "      <td>0</td>\n",
       "      <td>0</td>\n",
       "      <td>0</td>\n",
       "      <td>0</td>\n",
       "      <td>0</td>\n",
       "      <td>1</td>\n",
       "      <td>0</td>\n",
       "      <td>0</td>\n",
       "      <td>0</td>\n",
       "      <td>0</td>\n",
       "      <td>1</td>\n",
       "      <td>1</td>\n",
       "      <td>0</td>\n",
       "      <td>26</td>\n",
       "      <td>610</td>\n",
       "      <td>2</td>\n",
       "    </tr>\n",
       "    <tr>\n",
       "      <th>xzanm</th>\n",
       "      <td>14</td>\n",
       "      <td>65</td>\n",
       "      <td>1</td>\n",
       "      <td>1</td>\n",
       "      <td>8</td>\n",
       "      <td>0</td>\n",
       "      <td>0</td>\n",
       "      <td>6</td>\n",
       "      <td>6</td>\n",
       "      <td>0</td>\n",
       "      <td>1</td>\n",
       "      <td>3</td>\n",
       "      <td>0</td>\n",
       "      <td>3</td>\n",
       "      <td>16</td>\n",
       "      <td>384</td>\n",
       "      <td>12304</td>\n",
       "      <td>5</td>\n",
       "    </tr>\n",
       "    <tr>\n",
       "      <th>xzahq</th>\n",
       "      <td>2</td>\n",
       "      <td>8</td>\n",
       "      <td>0</td>\n",
       "      <td>0</td>\n",
       "      <td>1</td>\n",
       "      <td>0</td>\n",
       "      <td>0</td>\n",
       "      <td>1</td>\n",
       "      <td>0</td>\n",
       "      <td>0</td>\n",
       "      <td>0</td>\n",
       "      <td>0</td>\n",
       "      <td>1</td>\n",
       "      <td>1</td>\n",
       "      <td>0</td>\n",
       "      <td>33</td>\n",
       "      <td>839</td>\n",
       "      <td>2</td>\n",
       "    </tr>\n",
       "    <tr>\n",
       "      <th>xzabq</th>\n",
       "      <td>1</td>\n",
       "      <td>7</td>\n",
       "      <td>0</td>\n",
       "      <td>0</td>\n",
       "      <td>0</td>\n",
       "      <td>0</td>\n",
       "      <td>0</td>\n",
       "      <td>1</td>\n",
       "      <td>0</td>\n",
       "      <td>0</td>\n",
       "      <td>0</td>\n",
       "      <td>0</td>\n",
       "      <td>1</td>\n",
       "      <td>1</td>\n",
       "      <td>0</td>\n",
       "      <td>26</td>\n",
       "      <td>613</td>\n",
       "      <td>2</td>\n",
       "    </tr>\n",
       "    <tr>\n",
       "      <th>xzauk</th>\n",
       "      <td>3</td>\n",
       "      <td>23</td>\n",
       "      <td>1</td>\n",
       "      <td>1</td>\n",
       "      <td>2</td>\n",
       "      <td>0</td>\n",
       "      <td>0</td>\n",
       "      <td>2</td>\n",
       "      <td>1</td>\n",
       "      <td>0</td>\n",
       "      <td>0</td>\n",
       "      <td>1</td>\n",
       "      <td>0</td>\n",
       "      <td>2</td>\n",
       "      <td>2</td>\n",
       "      <td>117</td>\n",
       "      <td>2533</td>\n",
       "      <td>3</td>\n",
       "    </tr>\n",
       "    <tr>\n",
       "      <th>xbo</th>\n",
       "      <td>14</td>\n",
       "      <td>49</td>\n",
       "      <td>1</td>\n",
       "      <td>1</td>\n",
       "      <td>8</td>\n",
       "      <td>0</td>\n",
       "      <td>0</td>\n",
       "      <td>3</td>\n",
       "      <td>6</td>\n",
       "      <td>0</td>\n",
       "      <td>1</td>\n",
       "      <td>1</td>\n",
       "      <td>0</td>\n",
       "      <td>3</td>\n",
       "      <td>13</td>\n",
       "      <td>313</td>\n",
       "      <td>10411</td>\n",
       "      <td>5</td>\n",
       "    </tr>\n",
       "    <tr>\n",
       "      <th>xzavk</th>\n",
       "      <td>8</td>\n",
       "      <td>33</td>\n",
       "      <td>1</td>\n",
       "      <td>1</td>\n",
       "      <td>6</td>\n",
       "      <td>0</td>\n",
       "      <td>0</td>\n",
       "      <td>3</td>\n",
       "      <td>2</td>\n",
       "      <td>0</td>\n",
       "      <td>1</td>\n",
       "      <td>1</td>\n",
       "      <td>0</td>\n",
       "      <td>3</td>\n",
       "      <td>5</td>\n",
       "      <td>177</td>\n",
       "      <td>4984</td>\n",
       "      <td>5</td>\n",
       "    </tr>\n",
       "    <tr>\n",
       "      <th>xzavd</th>\n",
       "      <td>1</td>\n",
       "      <td>7</td>\n",
       "      <td>0</td>\n",
       "      <td>0</td>\n",
       "      <td>0</td>\n",
       "      <td>0</td>\n",
       "      <td>0</td>\n",
       "      <td>1</td>\n",
       "      <td>0</td>\n",
       "      <td>0</td>\n",
       "      <td>0</td>\n",
       "      <td>0</td>\n",
       "      <td>1</td>\n",
       "      <td>1</td>\n",
       "      <td>0</td>\n",
       "      <td>26</td>\n",
       "      <td>608</td>\n",
       "      <td>2</td>\n",
       "    </tr>\n",
       "    <tr>\n",
       "      <th>xzamt</th>\n",
       "      <td>14</td>\n",
       "      <td>49</td>\n",
       "      <td>1</td>\n",
       "      <td>1</td>\n",
       "      <td>8</td>\n",
       "      <td>0</td>\n",
       "      <td>0</td>\n",
       "      <td>3</td>\n",
       "      <td>6</td>\n",
       "      <td>0</td>\n",
       "      <td>1</td>\n",
       "      <td>1</td>\n",
       "      <td>0</td>\n",
       "      <td>3</td>\n",
       "      <td>13</td>\n",
       "      <td>313</td>\n",
       "      <td>10411</td>\n",
       "      <td>5</td>\n",
       "    </tr>\n",
       "    <tr>\n",
       "      <th>xzaen</th>\n",
       "      <td>33</td>\n",
       "      <td>151</td>\n",
       "      <td>1</td>\n",
       "      <td>1</td>\n",
       "      <td>19</td>\n",
       "      <td>0</td>\n",
       "      <td>0</td>\n",
       "      <td>24</td>\n",
       "      <td>14</td>\n",
       "      <td>0</td>\n",
       "      <td>9</td>\n",
       "      <td>1</td>\n",
       "      <td>0</td>\n",
       "      <td>9</td>\n",
       "      <td>23</td>\n",
       "      <td>4947</td>\n",
       "      <td>313762</td>\n",
       "      <td>7</td>\n",
       "    </tr>\n",
       "    <tr>\n",
       "      <th>xzabs</th>\n",
       "      <td>1</td>\n",
       "      <td>7</td>\n",
       "      <td>0</td>\n",
       "      <td>0</td>\n",
       "      <td>0</td>\n",
       "      <td>0</td>\n",
       "      <td>0</td>\n",
       "      <td>1</td>\n",
       "      <td>0</td>\n",
       "      <td>0</td>\n",
       "      <td>0</td>\n",
       "      <td>0</td>\n",
       "      <td>1</td>\n",
       "      <td>1</td>\n",
       "      <td>0</td>\n",
       "      <td>26</td>\n",
       "      <td>608</td>\n",
       "      <td>2</td>\n",
       "    </tr>\n",
       "    <tr>\n",
       "      <th>xhz</th>\n",
       "      <td>14</td>\n",
       "      <td>57</td>\n",
       "      <td>1</td>\n",
       "      <td>1</td>\n",
       "      <td>10</td>\n",
       "      <td>0</td>\n",
       "      <td>0</td>\n",
       "      <td>6</td>\n",
       "      <td>4</td>\n",
       "      <td>0</td>\n",
       "      <td>1</td>\n",
       "      <td>3</td>\n",
       "      <td>0</td>\n",
       "      <td>3</td>\n",
       "      <td>12</td>\n",
       "      <td>342</td>\n",
       "      <td>11010</td>\n",
       "      <td>5</td>\n",
       "    </tr>\n",
       "    <tr>\n",
       "      <th>xse</th>\n",
       "      <td>18</td>\n",
       "      <td>89</td>\n",
       "      <td>1</td>\n",
       "      <td>1</td>\n",
       "      <td>12</td>\n",
       "      <td>0</td>\n",
       "      <td>0</td>\n",
       "      <td>9</td>\n",
       "      <td>6</td>\n",
       "      <td>2</td>\n",
       "      <td>3</td>\n",
       "      <td>4</td>\n",
       "      <td>0</td>\n",
       "      <td>4</td>\n",
       "      <td>16</td>\n",
       "      <td>484</td>\n",
       "      <td>16764</td>\n",
       "      <td>7</td>\n",
       "    </tr>\n",
       "    <tr>\n",
       "      <th>xzajb</th>\n",
       "      <td>23</td>\n",
       "      <td>119</td>\n",
       "      <td>1</td>\n",
       "      <td>1</td>\n",
       "      <td>13</td>\n",
       "      <td>0</td>\n",
       "      <td>0</td>\n",
       "      <td>14</td>\n",
       "      <td>10</td>\n",
       "      <td>4</td>\n",
       "      <td>3</td>\n",
       "      <td>5</td>\n",
       "      <td>0</td>\n",
       "      <td>3</td>\n",
       "      <td>27</td>\n",
       "      <td>645</td>\n",
       "      <td>20962</td>\n",
       "      <td>6</td>\n",
       "    </tr>\n",
       "    <tr>\n",
       "      <th>xzahg</th>\n",
       "      <td>4</td>\n",
       "      <td>29</td>\n",
       "      <td>1</td>\n",
       "      <td>1</td>\n",
       "      <td>2</td>\n",
       "      <td>0</td>\n",
       "      <td>0</td>\n",
       "      <td>4</td>\n",
       "      <td>2</td>\n",
       "      <td>0</td>\n",
       "      <td>0</td>\n",
       "      <td>2</td>\n",
       "      <td>0</td>\n",
       "      <td>1</td>\n",
       "      <td>6</td>\n",
       "      <td>153</td>\n",
       "      <td>3231</td>\n",
       "      <td>3</td>\n",
       "    </tr>\n",
       "    <tr>\n",
       "      <th>xzagc</th>\n",
       "      <td>1</td>\n",
       "      <td>7</td>\n",
       "      <td>0</td>\n",
       "      <td>0</td>\n",
       "      <td>0</td>\n",
       "      <td>0</td>\n",
       "      <td>0</td>\n",
       "      <td>1</td>\n",
       "      <td>0</td>\n",
       "      <td>0</td>\n",
       "      <td>0</td>\n",
       "      <td>0</td>\n",
       "      <td>1</td>\n",
       "      <td>1</td>\n",
       "      <td>0</td>\n",
       "      <td>26</td>\n",
       "      <td>627</td>\n",
       "      <td>2</td>\n",
       "    </tr>\n",
       "    <tr>\n",
       "      <th>xcs</th>\n",
       "      <td>2</td>\n",
       "      <td>11</td>\n",
       "      <td>1</td>\n",
       "      <td>1</td>\n",
       "      <td>1</td>\n",
       "      <td>0</td>\n",
       "      <td>0</td>\n",
       "      <td>1</td>\n",
       "      <td>1</td>\n",
       "      <td>0</td>\n",
       "      <td>0</td>\n",
       "      <td>0</td>\n",
       "      <td>0</td>\n",
       "      <td>1</td>\n",
       "      <td>2</td>\n",
       "      <td>64</td>\n",
       "      <td>1431</td>\n",
       "      <td>2</td>\n",
       "    </tr>\n",
       "    <tr>\n",
       "      <th>xzahx</th>\n",
       "      <td>2</td>\n",
       "      <td>8</td>\n",
       "      <td>0</td>\n",
       "      <td>0</td>\n",
       "      <td>1</td>\n",
       "      <td>0</td>\n",
       "      <td>0</td>\n",
       "      <td>1</td>\n",
       "      <td>0</td>\n",
       "      <td>0</td>\n",
       "      <td>0</td>\n",
       "      <td>0</td>\n",
       "      <td>1</td>\n",
       "      <td>1</td>\n",
       "      <td>0</td>\n",
       "      <td>33</td>\n",
       "      <td>837</td>\n",
       "      <td>2</td>\n",
       "    </tr>\n",
       "    <tr>\n",
       "      <th>xzats</th>\n",
       "      <td>8</td>\n",
       "      <td>33</td>\n",
       "      <td>1</td>\n",
       "      <td>1</td>\n",
       "      <td>6</td>\n",
       "      <td>0</td>\n",
       "      <td>0</td>\n",
       "      <td>3</td>\n",
       "      <td>2</td>\n",
       "      <td>0</td>\n",
       "      <td>1</td>\n",
       "      <td>1</td>\n",
       "      <td>0</td>\n",
       "      <td>3</td>\n",
       "      <td>5</td>\n",
       "      <td>195</td>\n",
       "      <td>6564</td>\n",
       "      <td>5</td>\n",
       "    </tr>\n",
       "    <tr>\n",
       "      <th>xzapc</th>\n",
       "      <td>5</td>\n",
       "      <td>27</td>\n",
       "      <td>1</td>\n",
       "      <td>1</td>\n",
       "      <td>2</td>\n",
       "      <td>0</td>\n",
       "      <td>0</td>\n",
       "      <td>3</td>\n",
       "      <td>3</td>\n",
       "      <td>0</td>\n",
       "      <td>0</td>\n",
       "      <td>1</td>\n",
       "      <td>0</td>\n",
       "      <td>1</td>\n",
       "      <td>7</td>\n",
       "      <td>154</td>\n",
       "      <td>3353</td>\n",
       "      <td>3</td>\n",
       "    </tr>\n",
       "    <tr>\n",
       "      <th>xzanc</th>\n",
       "      <td>1</td>\n",
       "      <td>7</td>\n",
       "      <td>0</td>\n",
       "      <td>0</td>\n",
       "      <td>0</td>\n",
       "      <td>0</td>\n",
       "      <td>0</td>\n",
       "      <td>1</td>\n",
       "      <td>0</td>\n",
       "      <td>0</td>\n",
       "      <td>0</td>\n",
       "      <td>0</td>\n",
       "      <td>1</td>\n",
       "      <td>1</td>\n",
       "      <td>0</td>\n",
       "      <td>26</td>\n",
       "      <td>608</td>\n",
       "      <td>2</td>\n",
       "    </tr>\n",
       "    <tr>\n",
       "      <th>xsn</th>\n",
       "      <td>1</td>\n",
       "      <td>7</td>\n",
       "      <td>0</td>\n",
       "      <td>0</td>\n",
       "      <td>0</td>\n",
       "      <td>0</td>\n",
       "      <td>0</td>\n",
       "      <td>1</td>\n",
       "      <td>0</td>\n",
       "      <td>0</td>\n",
       "      <td>0</td>\n",
       "      <td>0</td>\n",
       "      <td>1</td>\n",
       "      <td>1</td>\n",
       "      <td>0</td>\n",
       "      <td>26</td>\n",
       "      <td>610</td>\n",
       "      <td>2</td>\n",
       "    </tr>\n",
       "    <tr>\n",
       "      <th>xps</th>\n",
       "      <td>1</td>\n",
       "      <td>7</td>\n",
       "      <td>0</td>\n",
       "      <td>0</td>\n",
       "      <td>0</td>\n",
       "      <td>0</td>\n",
       "      <td>0</td>\n",
       "      <td>1</td>\n",
       "      <td>0</td>\n",
       "      <td>0</td>\n",
       "      <td>0</td>\n",
       "      <td>0</td>\n",
       "      <td>1</td>\n",
       "      <td>1</td>\n",
       "      <td>0</td>\n",
       "      <td>26</td>\n",
       "      <td>630</td>\n",
       "      <td>2</td>\n",
       "    </tr>\n",
       "  </tbody>\n",
       "</table>\n",
       "<p>1223 rows × 18 columns</p>\n",
       "</div>"
      ],
      "text/plain": [
       "       triplePattern  keys  distinct  aggregation_count  tp_?p?  tp_?po  \\\n",
       "xiy                2     8         0                  0       1       0   \n",
       "xpk                1     7         0                  0       0       0   \n",
       "xzaqe              4    21         1                  1       2       0   \n",
       "xzasg              1     9         0                  0       0       0   \n",
       "xzany              4    23         1                  1       2       0   \n",
       "xzamn              1     7         0                  0       0       0   \n",
       "xzach              5    27         1                  1       2       0   \n",
       "xzagg             11    41         1                  1       7       0   \n",
       "xfx                1     7         0                  0       0       0   \n",
       "xll                6    43         1                  1       3       0   \n",
       "xbv               14    65         1                  1       8       0   \n",
       "xzacc             34   163         1                  1      20       0   \n",
       "xzaqh              2     8         0                  0       1       0   \n",
       "xzaap              1     7         0                  0       0       0   \n",
       "xzase             11    57         1                  1       7       0   \n",
       "xzafm              2     8         0                  0       1       0   \n",
       "xij                5    35         1                  1       3       0   \n",
       "xrj               11    41         1                  1       7       0   \n",
       "xuu                2    17         0                  0       0       0   \n",
       "xfk                3    21         1                  1       1       0   \n",
       "xzajd             11    57         1                  1       7       0   \n",
       "xia                2    11         1                  1       1       0   \n",
       "xzaih              1     7         0                  0       0       0   \n",
       "xzake              3    15         1                  1       1       0   \n",
       "xzaus              1     7         0                  0       0       0   \n",
       "xfq                1     7         0                  0       0       0   \n",
       "xzaoi              1     7         0                  0       0       0   \n",
       "xly                9    45         1                  1       7       0   \n",
       "xjd                1     7         0                  0       0       0   \n",
       "xzaan              8    49         1                  1       6       0   \n",
       "...              ...   ...       ...                ...     ...     ...   \n",
       "xen               23   119         1                  1      13       0   \n",
       "xzarv              1     7         0                  0       0       0   \n",
       "xwb               11    41         1                  1       7       0   \n",
       "xnu                1     7         0                  0       0       0   \n",
       "xeu               11    57         1                  1       7       0   \n",
       "xyo                2     8         0                  0       1       0   \n",
       "xbf                2     8         0                  0       1       0   \n",
       "xzaca              1     7         0                  0       0       0   \n",
       "xzanm             14    65         1                  1       8       0   \n",
       "xzahq              2     8         0                  0       1       0   \n",
       "xzabq              1     7         0                  0       0       0   \n",
       "xzauk              3    23         1                  1       2       0   \n",
       "xbo               14    49         1                  1       8       0   \n",
       "xzavk              8    33         1                  1       6       0   \n",
       "xzavd              1     7         0                  0       0       0   \n",
       "xzamt             14    49         1                  1       8       0   \n",
       "xzaen             33   151         1                  1      19       0   \n",
       "xzabs              1     7         0                  0       0       0   \n",
       "xhz               14    57         1                  1      10       0   \n",
       "xse               18    89         1                  1      12       0   \n",
       "xzajb             23   119         1                  1      13       0   \n",
       "xzahg              4    29         1                  1       2       0   \n",
       "xzagc              1     7         0                  0       0       0   \n",
       "xcs                2    11         1                  1       1       0   \n",
       "xzahx              2     8         0                  0       1       0   \n",
       "xzats              8    33         1                  1       6       0   \n",
       "xzapc              5    27         1                  1       2       0   \n",
       "xzanc              1     7         0                  0       0       0   \n",
       "xsn                1     7         0                  0       0       0   \n",
       "xps                1     7         0                  0       0       0   \n",
       "\n",
       "       graph  bgp  tp_???  group  union  optional  tp_sp?  query  filter  \\\n",
       "xiy        0    1       0      0      0         0       1      1       0   \n",
       "xpk        0    1       0      0      0         0       1      1       0   \n",
       "xzaqe      0    2       2      0      0         1       0      1       5   \n",
       "xzasg      0    1       0      0      0         0       1      1       0   \n",
       "xzany      0    3       2      0      0         1       0      1       5   \n",
       "xzamn      0    1       0      0      0         0       1      1       0   \n",
       "xzach      0    3       3      0      0         1       0      1       7   \n",
       "xzagg      0    3       4      0      1         1       0      3       9   \n",
       "xfx        0    1       0      0      0         0       1      1       0   \n",
       "xll        0    5       3      2      1         2       0      1       9   \n",
       "xbv        0    6       6      0      1         3       0      3      16   \n",
       "xzacc      0   25      14      0      9         2       0     10      23   \n",
       "xzaqh      0    1       0      0      0         0       1      1       0   \n",
       "xzaap      0    1       0      0      0         0       1      1       0   \n",
       "xzase      0    6       4      0      1         3       0      3      12   \n",
       "xzafm      0    1       0      0      0         0       1      1       0   \n",
       "xij        0    5       2      0      0         3       0      1       7   \n",
       "xrj        0    3       4      0      1         1       0      3       9   \n",
       "xuu        0    1       2      0      0         0       0      1       4   \n",
       "xfk        0    2       2      0      0         1       0      1       5   \n",
       "xzajd      0    6       4      0      1         3       0      3      12   \n",
       "xia        0    1       1      0      0         0       0      1       2   \n",
       "xzaih      0    1       0      0      0         0       1      1       0   \n",
       "xzake      0    1       2      0      0         0       0      1       4   \n",
       "xzaus      0    1       0      0      0         0       1      1       0   \n",
       "xfq        0    1       0      0      0         0       1      1       0   \n",
       "xzaoi      0    1       0      0      0         0       1      1       0   \n",
       "xly        0    4       2      0      1         2       0      4       5   \n",
       "xjd        0    1       0      0      0         0       1      1       0   \n",
       "xzaan      0    6       2      0      1         3       0      3       8   \n",
       "...      ...  ...     ...    ...    ...       ...     ...    ...     ...   \n",
       "xen        0   14      10      4      3         5       0      3      27   \n",
       "xzarv      0    1       0      0      0         0       1      1       0   \n",
       "xwb        0    3       4      0      1         1       0      3       9   \n",
       "xnu        0    1       0      0      0         0       1      1       0   \n",
       "xeu        0    6       4      0      1         3       0      3      12   \n",
       "xyo        0    1       0      0      0         0       1      1       0   \n",
       "xbf        0    1       0      0      0         0       1      1       0   \n",
       "xzaca      0    1       0      0      0         0       1      1       0   \n",
       "xzanm      0    6       6      0      1         3       0      3      16   \n",
       "xzahq      0    1       0      0      0         0       1      1       0   \n",
       "xzabq      0    1       0      0      0         0       1      1       0   \n",
       "xzauk      0    2       1      0      0         1       0      2       2   \n",
       "xbo        0    3       6      0      1         1       0      3      13   \n",
       "xzavk      0    3       2      0      1         1       0      3       5   \n",
       "xzavd      0    1       0      0      0         0       1      1       0   \n",
       "xzamt      0    3       6      0      1         1       0      3      13   \n",
       "xzaen      0   24      14      0      9         1       0      9      23   \n",
       "xzabs      0    1       0      0      0         0       1      1       0   \n",
       "xhz        0    6       4      0      1         3       0      3      12   \n",
       "xse        0    9       6      2      3         4       0      4      16   \n",
       "xzajb      0   14      10      4      3         5       0      3      27   \n",
       "xzahg      0    4       2      0      0         2       0      1       6   \n",
       "xzagc      0    1       0      0      0         0       1      1       0   \n",
       "xcs        0    1       1      0      0         0       0      1       2   \n",
       "xzahx      0    1       0      0      0         0       1      1       0   \n",
       "xzats      0    3       2      0      1         1       0      3       5   \n",
       "xzapc      0    3       3      0      0         1       0      1       7   \n",
       "xzanc      0    1       0      0      0         0       1      1       0   \n",
       "xsn        0    1       0      0      0         0       1      1       0   \n",
       "xps        0    1       0      0      0         0       1      1       0   \n",
       "\n",
       "       jsonLines  jsonSize  depth  \n",
       "xiy           33       839      2  \n",
       "xpk           26       610      2  \n",
       "xzaqe        122      2687      3  \n",
       "xzasg         33       794      2  \n",
       "xzany        127      2729      3  \n",
       "xzamn         26       609      2  \n",
       "xzach        154      3356      3  \n",
       "xzagg        254      8519      5  \n",
       "xfx           26       610      2  \n",
       "xll          498     25522      4  \n",
       "xbv          384     12304      5  \n",
       "xzacc       5000    334396      8  \n",
       "xzaqh         33       839      2  \n",
       "xzaap         26       610      2  \n",
       "xzase        325     10412      5  \n",
       "xzafm         33       859      2  \n",
       "xij          184      3865      3  \n",
       "xrj          254      8465      5  \n",
       "xuu           89      2485      2  \n",
       "xfk          117      2516      3  \n",
       "xzajd        325     10346      5  \n",
       "xia           64      1441      2  \n",
       "xzaih         26       630      2  \n",
       "xzake         91      2035      2  \n",
       "xzaus         26       608      2  \n",
       "xfq           26       627      2  \n",
       "xzaoi         26       610      2  \n",
       "xly          248      8194      6  \n",
       "xjd           26       613      2  \n",
       "xzaan        266      8444      5  \n",
       "...          ...       ...    ...  \n",
       "xen          645     20974      6  \n",
       "xzarv         26       609      2  \n",
       "xwb          254      8457      5  \n",
       "xnu           26       609      2  \n",
       "xeu          325     10412      5  \n",
       "xyo           33       839      2  \n",
       "xbf           33       839      2  \n",
       "xzaca         26       610      2  \n",
       "xzanm        384     12304      5  \n",
       "xzahq         33       839      2  \n",
       "xzabq         26       613      2  \n",
       "xzauk        117      2533      3  \n",
       "xbo          313     10411      5  \n",
       "xzavk        177      4984      5  \n",
       "xzavd         26       608      2  \n",
       "xzamt        313     10411      5  \n",
       "xzaen       4947    313762      7  \n",
       "xzabs         26       608      2  \n",
       "xhz          342     11010      5  \n",
       "xse          484     16764      7  \n",
       "xzajb        645     20962      6  \n",
       "xzahg        153      3231      3  \n",
       "xzagc         26       627      2  \n",
       "xcs           64      1431      2  \n",
       "xzahx         33       837      2  \n",
       "xzats        195      6564      5  \n",
       "xzapc        154      3353      3  \n",
       "xzanc         26       608      2  \n",
       "xsn           26       610      2  \n",
       "xps           26       630      2  \n",
       "\n",
       "[1223 rows x 18 columns]"
      ]
     },
     "execution_count": 19,
     "metadata": {},
     "output_type": "execute_result"
    }
   ],
   "source": [
    "df_query_features"
   ]
  },
  {
   "cell_type": "markdown",
   "metadata": {},
   "source": [
    "## Extra features using Grep:\n",
    "\n",
    "* ORDER BY\n",
    "* FILTER IN\n",
    "* LIMIT\n"
   ]
  },
  {
   "cell_type": "code",
   "execution_count": null,
   "metadata": {
    "collapsed": true
   },
   "outputs": [],
   "source": [
    "\n",
    "incounts.tsv\n",
    "limitcounts.tsv"
   ]
  },
  {
   "cell_type": "code",
   "execution_count": 20,
   "metadata": {
    "collapsed": false
   },
   "outputs": [],
   "source": [
    "df_query_features.to_csv(\"ontoforce_query_features.tsv\", sep=\"\\t\",  index=True)"
   ]
  },
  {
   "cell_type": "code",
   "execution_count": 21,
   "metadata": {
    "collapsed": false
   },
   "outputs": [
    {
     "data": {
      "image/png": "[encoded data removed]",
      "text/plain": [
       "<matplotlib.figure.Figure at 0x7fe08d9517b8>"
      ]
     },
     "metadata": {},
     "output_type": "display_data"
    }
   ],
   "source": [
    "fig, ax = plt.subplots(1, 1, figsize=(20,10))\n",
    "\n",
    "\n",
    "\n",
    "\n",
    "df_query_features.plot(kind='box', logy=True, ax=ax)\n",
    "\n",
    "fig.savefig('QueryFeatureBoxplots.svg', format='svg', bbox_inches='tight', dpi=1200)\n",
    "fig.savefig('QueryFeatureBoxplots.eps', format='eps', bbox_inches='tight', dpi=1200)\n"
   ]
  },
  {
   "cell_type": "code",
   "execution_count": 22,
   "metadata": {
    "collapsed": false
   },
   "outputs": [
    {
     "data": {
      "text/plain": [
       "Index(['triplePattern', 'keys', 'distinct', 'aggregation_count', 'tp_?p?',\n",
       "       'tp_?po', 'graph', 'bgp', 'tp_???', 'group', 'union', 'optional',\n",
       "       'tp_sp?', 'query', 'filter', 'jsonLines', 'jsonSize', 'depth'],\n",
       "      dtype='object')"
      ]
     },
     "execution_count": 22,
     "metadata": {},
     "output_type": "execute_result"
    }
   ],
   "source": [
    "df_query_features.columns"
   ]
  },
  {
   "cell_type": "code",
   "execution_count": 23,
   "metadata": {
    "collapsed": false
   },
   "outputs": [
    {
     "data": {
      "image/png": "[encoded data removed]",
      "text/plain": [
       "<matplotlib.figure.Figure at 0x7fe09ee5f550>"
      ]
     },
     "metadata": {},
     "output_type": "display_data"
    }
   ],
   "source": [
    "fig, ax = plt.subplots(1, 1, figsize=(20,10))\n",
    "\n",
    "df_query_features[['bgp']].plot(kind='hist', bins=30, ax=ax)\n",
    "\n",
    "fig.savefig('QueryBGPDistribution.svg', format='svg', bbox_inches='tight', dpi=1200)\n",
    "fig.savefig('QueryBGPDistribution.eps', format='eps', bbox_inches='tight', dpi=1200)\n"
   ]
  },
  {
   "cell_type": "code",
   "execution_count": 24,
   "metadata": {
    "collapsed": false
   },
   "outputs": [
    {
     "data": {
      "text/plain": [
       "<matplotlib.axes._subplots.AxesSubplot at 0x7fe08d01dd30>"
      ]
     },
     "execution_count": 24,
     "metadata": {},
     "output_type": "execute_result"
    },
    {
     "data": {
      "image/png": "[encoded data removed]",
      "text/plain": [
       "<matplotlib.figure.Figure at 0x7fe08d00ed30>"
      ]
     },
     "metadata": {},
     "output_type": "display_data"
    }
   ],
   "source": [
    "df_query_features[['graph']].plot(kind='hist', logy=True)"
   ]
  },
  {
   "cell_type": "code",
   "execution_count": 25,
   "metadata": {
    "collapsed": false
   },
   "outputs": [
    {
     "data": {
      "image/png": "[encoded data removed]",
      "text/plain": [
       "<matplotlib.figure.Figure at 0x7fe08d4aa7f0>"
      ]
     },
     "metadata": {},
     "output_type": "display_data"
    }
   ],
   "source": [
    "fig, ax = plt.subplots(1, 1, figsize=(20,10))\n",
    "\n",
    "df_query_features[['query']].plot(kind='hist', logy=False, ax=ax)\n",
    "\n",
    "fig.savefig('AmountOfSubqueries.svg', format='svg', bbox_inches='tight', dpi=1200)\n",
    "fig.savefig('AmountOfSubqueries.eps', format='eps', bbox_inches='tight', dpi=1200)\n",
    "\n"
   ]
  },
  {
   "cell_type": "code",
   "execution_count": 26,
   "metadata": {
    "collapsed": false
   },
   "outputs": [
    {
     "data": {
      "image/png": "[encoded data removed]",
      "text/plain": [
       "<matplotlib.figure.Figure at 0x7fe08d0fae10>"
      ]
     },
     "metadata": {},
     "output_type": "display_data"
    }
   ],
   "source": [
    "fig, ax = plt.subplots(1, 2, figsize=(20,10))\n",
    "\n",
    "df_query_features[['distinct']].plot(kind='hist', logy=False, ax=ax[0])\n",
    "df_query_features[['aggregation_count']].plot(kind='hist', logy=False, ax=ax[1])\n",
    "\n",
    "fig.savefig('CountDistinct.svg', format='svg', bbox_inches='tight', dpi=1200)\n",
    "fig.savefig('CountDistinct.eps', format='eps', bbox_inches='tight', dpi=1200)"
   ]
  },
  {
   "cell_type": "code",
   "execution_count": 27,
   "metadata": {
    "collapsed": false
   },
   "outputs": [
    {
     "data": {
      "text/plain": [
       "<matplotlib.axes._subplots.AxesSubplot at 0x7fe08d2751d0>"
      ]
     },
     "execution_count": 27,
     "metadata": {},
     "output_type": "execute_result"
    },
    {
     "data": {
      "image/png": "[encoded data removed]",
      "text/plain": [
       "<matplotlib.figure.Figure at 0x7fe092a12550>"
      ]
     },
     "metadata": {},
     "output_type": "display_data"
    }
   ],
   "source": [
    "df_query_features[['optional']].plot(kind='hist', logy=False)"
   ]
  },
  {
   "cell_type": "code",
   "execution_count": 28,
   "metadata": {
    "collapsed": false
   },
   "outputs": [
    {
     "data": {
      "text/plain": [
       "<matplotlib.axes._subplots.AxesSubplot at 0x7fe08d456cf8>"
      ]
     },
     "execution_count": 28,
     "metadata": {},
     "output_type": "execute_result"
    },
    {
     "data": {
      "image/png": "[encoded data removed]",
      "text/plain": [
       "<matplotlib.figure.Figure at 0x7fe08c281ef0>"
      ]
     },
     "metadata": {},
     "output_type": "display_data"
    }
   ],
   "source": [
    "df_query_features[['group']].plot(kind='hist', logy=False)"
   ]
  },
  {
   "cell_type": "code",
   "execution_count": 29,
   "metadata": {
    "collapsed": false
   },
   "outputs": [
    {
     "data": {
      "text/plain": [
       "<matplotlib.axes._subplots.AxesSubplot at 0x7fe08d298240>"
      ]
     },
     "execution_count": 29,
     "metadata": {},
     "output_type": "execute_result"
    },
    {
     "data": {
      "image/png": "[encoded data removed]",
      "text/plain": [
       "<matplotlib.figure.Figure at 0x7fe08c25d940>"
      ]
     },
     "metadata": {},
     "output_type": "display_data"
    }
   ],
   "source": [
    "df_query_features[['filter']].plot(kind='hist', logy=False)"
   ]
  },
  {
   "cell_type": "code",
   "execution_count": 30,
   "metadata": {
    "collapsed": false
   },
   "outputs": [
    {
     "data": {
      "text/plain": [
       "<matplotlib.axes._subplots.AxesSubplot at 0x7fe08d3db2b0>"
      ]
     },
     "execution_count": 30,
     "metadata": {},
     "output_type": "execute_result"
    },
    {
     "data": {
      "image/png": "[encoded data removed]",
      "text/plain": [
       "<matplotlib.figure.Figure at 0x7fe08d3e6748>"
      ]
     },
     "metadata": {},
     "output_type": "display_data"
    }
   ],
   "source": [
    "df_query_features[['triplePattern']].plot(kind='hist', logy=False, bins=20)"
   ]
  },
  {
   "cell_type": "code",
   "execution_count": null,
   "metadata": {
    "collapsed": false
   },
   "outputs": [],
   "source": []
  },
  {
   "cell_type": "code",
   "execution_count": 31,
   "metadata": {
    "collapsed": false
   },
   "outputs": [
    {
     "data": {
      "text/plain": [
       "<matplotlib.axes._subplots.AxesSubplot at 0x7fe08c9ceb00>"
      ]
     },
     "execution_count": 31,
     "metadata": {},
     "output_type": "execute_result"
    },
    {
     "data": {
      "image/png": "[encoded data removed]",
      "text/plain": [
       "<matplotlib.figure.Figure at 0x7fe08ca73400>"
      ]
     },
     "metadata": {},
     "output_type": "display_data"
    }
   ],
   "source": [
    "df_query_features[['union']].plot(kind='hist', logy=False)"
   ]
  },
  {
   "cell_type": "code",
   "execution_count": 32,
   "metadata": {
    "collapsed": false
   },
   "outputs": [
    {
     "data": {
      "text/plain": [
       "Index(['triplePattern', 'keys', 'distinct', 'aggregation_count', 'tp_?p?',\n",
       "       'tp_?po', 'graph', 'bgp', 'tp_???', 'group', 'union', 'optional',\n",
       "       'tp_sp?', 'query', 'filter', 'jsonLines', 'jsonSize', 'depth'],\n",
       "      dtype='object')"
      ]
     },
     "execution_count": 32,
     "metadata": {},
     "output_type": "execute_result"
    }
   ],
   "source": [
    "df_query_features.columns"
   ]
  },
  {
   "cell_type": "code",
   "execution_count": 33,
   "metadata": {
    "collapsed": false
   },
   "outputs": [
    {
     "data": {
      "text/plain": [
       "<matplotlib.axes._subplots.AxesSubplot at 0x7fe08c9ea710>"
      ]
     },
     "execution_count": 33,
     "metadata": {},
     "output_type": "execute_result"
    },
    {
     "data": {
      "image/png": "[encoded data removed]",
      "text/plain": [
       "<matplotlib.figure.Figure at 0x7fe08c9f7400>"
      ]
     },
     "metadata": {},
     "output_type": "display_data"
    }
   ],
   "source": [
    "df_query_features[[\"tp_???\", \"tp_sp?\", \"tp_?p?\", \"tp_?po\"]].plot(kind='box', logy=False)"
   ]
  },
  {
   "cell_type": "code",
   "execution_count": 34,
   "metadata": {
    "collapsed": false
   },
   "outputs": [
    {
     "data": {
      "text/plain": [
       "<matplotlib.axes._subplots.AxesSubplot at 0x7fe08d247860>"
      ]
     },
     "execution_count": 34,
     "metadata": {},
     "output_type": "execute_result"
    },
    {
     "data": {
      "image/png": "[encoded data removed]",
      "text/plain": [
       "<matplotlib.figure.Figure at 0x7fe08d2c6400>"
      ]
     },
     "metadata": {},
     "output_type": "display_data"
    }
   ],
   "source": [
    "df_query_features[['depth']].plot(kind='hist', logy=False)"
   ]
  },
  {
   "cell_type": "code",
   "execution_count": 35,
   "metadata": {
    "collapsed": false
   },
   "outputs": [
    {
     "data": {
      "text/plain": [
       "<matplotlib.axes._subplots.AxesSubplot at 0x7fe09ed29048>"
      ]
     },
     "execution_count": 35,
     "metadata": {},
     "output_type": "execute_result"
    },
    {
     "data": {
      "image/png": "[encoded data removed]",
      "text/plain": [
       "<matplotlib.figure.Figure at 0x7fe08d123320>"
      ]
     },
     "metadata": {},
     "output_type": "display_data"
    }
   ],
   "source": [
    "df_query_features[['keys']].plot(kind='hist', logy=False)"
   ]
  },
  {
   "cell_type": "code",
   "execution_count": 36,
   "metadata": {
    "collapsed": false
   },
   "outputs": [
    {
     "data": {
      "text/plain": [
       "<matplotlib.axes._subplots.AxesSubplot at 0x7fe08c2a6470>"
      ]
     },
     "execution_count": 36,
     "metadata": {},
     "output_type": "execute_result"
    },
    {
     "data": {
      "image/png": "[encoded data removed]",
      "text/plain": [
       "<matplotlib.figure.Figure at 0x7fe08c97d390>"
      ]
     },
     "metadata": {},
     "output_type": "display_data"
    }
   ],
   "source": [
    "df_query_features[['jsonLines']].plot(kind='hist', logy=False, bins=60)"
   ]
  },
  {
   "cell_type": "markdown",
   "metadata": {
    "collapsed": true
   },
   "source": [
    "## Figs for SWAT4LS\n"
   ]
  },
  {
   "cell_type": "code",
   "execution_count": 37,
   "metadata": {
    "collapsed": false
   },
   "outputs": [
    {
     "data": {
      "text/plain": [
       "Index(['triplePattern', 'keys', 'distinct', 'aggregation_count', 'tp_?p?',\n",
       "       'tp_?po', 'graph', 'bgp', 'tp_???', 'group', 'union', 'optional',\n",
       "       'tp_sp?', 'query', 'filter', 'jsonLines', 'jsonSize', 'depth'],\n",
       "      dtype='object')"
      ]
     },
     "execution_count": 37,
     "metadata": {},
     "output_type": "execute_result"
    }
   ],
   "source": [
    "df_query_features.columns"
   ]
  },
  {
   "cell_type": "code",
   "execution_count": 38,
   "metadata": {
    "collapsed": false
   },
   "outputs": [],
   "source": [
    "df_keywords = df_query_features[[\"optional\", \"distinct\", \"aggregation_count\", \"graph\", \"filter\", \"union\", \"group\"]]"
   ]
  },
  {
   "cell_type": "code",
   "execution_count": 39,
   "metadata": {
    "collapsed": false
   },
   "outputs": [],
   "source": [
    "df_keywords.columns = [\"OPTIONAL\", \"DISTINCT\", \"COUNT\", \"GRAPH\", \"FILTER\", \"UNION\", \"GROUP\"]"
   ]
  },
  {
   "cell_type": "code",
   "execution_count": 40,
   "metadata": {
    "collapsed": false
   },
   "outputs": [
    {
     "data": {
      "image/png": "[encoded data removed]",
      "text/plain": [
       "<matplotlib.figure.Figure at 0x7fe08c909ba8>"
      ]
     },
     "metadata": {},
     "output_type": "display_data"
    }
   ],
   "source": [
    "fig, ax = plt.subplots(1, 1, figsize=(20,10))\n",
    "df_keywords.plot(kind='box', logy=False, ax=ax)\n",
    "\n",
    "fig.savefig('QueryKeywordDistribution1.svg', format='svg', bbox_inches='tight', dpi=1200)\n",
    "fig.savefig('QueryKeywordDistribution1.eps', format='eps', bbox_inches='tight', dpi=1200)\n",
    "\n",
    "\n"
   ]
  },
  {
   "cell_type": "code",
   "execution_count": 53,
   "metadata": {
    "collapsed": false
   },
   "outputs": [
    {
     "data": {
      "image/png": "[encoded data removed]",
      "text/plain": [
       "<matplotlib.figure.Figure at 0x7fe08a654208>"
      ]
     },
     "metadata": {},
     "output_type": "display_data"
    }
   ],
   "source": [
    "fig, ax = plt.subplots(2, 2, figsize=(20,10))\n",
    "\n",
    "#ticks2 = [\">=1\", \">=10\", \">=1e2\", \">=1e3\", \">=1e4\", \">=1e5\", \">=1e6\", \">=1e7\", \">=1e8\"]\n",
    "#ax[1].set_xticklabels(ticks2)\n",
    "#ax[1].set_xticks(np.arange(0,9) + 0.5)\n",
    "\n",
    "\n",
    "#df_keywords[['COUNT']].plot(kind='hist',    bins=np.arange(0,3,1),  ax=ax[0][1], grid=True, ylim=[0,1250])\n",
    "#ax[0][1].set_xticks(np.arange(0,2,1) + 0.5)\n",
    "#ax[0][1].set_xticklabels(np.arange(0,2,1))\n",
    "\n",
    "\n",
    "df_keywords[['GROUP']].plot(kind='hist',    bins=np.arange(0,10,1),  ax=ax[1][0], grid=False, ylim=[0,1250])\n",
    "ax[1][0].set_xticks(np.arange(0,9,1) + 0.5)\n",
    "ax[1][0].set_xticklabels(np.arange(0,9,1))\n",
    "\n",
    "df_keywords[['OPTIONAL']].plot(kind='hist', bins=np.arange(0,10,1), ax=ax[1][1], grid=False, ylim=[0,700])\n",
    "ax[1][1].set_xticks(np.arange(0,9,1) + 0.5)\n",
    "ax[1][1].set_xticklabels(np.arange(0,9,1))\n",
    "\n",
    "df_keywords[['UNION']].plot(kind='hist',    bins=np.arange(0,10,1), ax=ax[0][1], grid=False, ylim=[0,1250])\n",
    "ax[0][1].set_xticks(np.arange(0,9,1) + 0.5)\n",
    "ax[0][1].set_xticklabels(np.arange(0,9,1))\n",
    "\n",
    "df_keywords[['FILTER']].plot(kind='hist',   bins=[0,1,3,5,7,9,11,13,15,17,19,21,23,25,27], ax=ax[0][0], grid=False, ylim=[0,700])\n",
    "\n",
    "#df_keywords[['FILTER']].plot(kind='hist',   bins=np.arange(0,30,1), ax=ax[0][0], grid=True, ylim=[0,700])\n",
    "ax[0][0].set_xticks(np.array([-0.5,1,3,5,7,9,11,13,15,17,19,21,23,25,27]) + 1)\n",
    "ax[0][0].set_xticklabels(np.array([0,1,3,5,7,9,11,13,15,17,19,21,23,25,27]))\n",
    "\n",
    "#ax[0][0].set_xticks(np.arange(0,30,3) + 0.5)\n",
    "#ax[0][0].set_xticklabels(np.arange(0,30,3))\n",
    "\n",
    "#df_keywords[['GRAPH']].plot(kind='hist',    bins=np.arange(0,3,1),  ax=ax[1][1], grid=True, ylim=[0,1250])\n",
    "#ax[1][1].set_xticks(np.arange(0,2,1) + 0.5)\n",
    "#ax[1][1].set_xticklabels(np.arange(0,2,1))\n",
    "\n",
    "\n",
    "\n",
    "ax[0][0].set_ylabel(\"\")\n",
    "ax[0][1].set_ylabel(\"\")\n",
    "#ax[0][2].set_ylabel(\"\")\n",
    "ax[1][0].set_ylabel(\"\")\n",
    "ax[1][1].set_ylabel(\"\")\n",
    "#ax[1][2].set_ylabel(\"\")\n",
    "\n",
    "\n",
    "fig.savefig('QueryKeywordDistribution2.svg', format='svg', bbox_inches='tight', dpi=1200)\n",
    "fig.savefig('QueryKeywordDistribution2.eps', format='eps', bbox_inches='tight', dpi=1200)"
   ]
  },
  {
   "cell_type": "code",
   "execution_count": 42,
   "metadata": {
    "collapsed": false
   },
   "outputs": [
    {
     "data": {
      "text/html": [
       "<div>\n",
       "<table border=\"1\" class=\"dataframe\">\n",
       "  <thead>\n",
       "    <tr style=\"text-align: right;\">\n",
       "      <th></th>\n",
       "      <th>OPTIONAL</th>\n",
       "      <th>DISTINCT</th>\n",
       "      <th>GRAPH</th>\n",
       "      <th>FILTER</th>\n",
       "      <th>UNION</th>\n",
       "      <th>GROUP</th>\n",
       "    </tr>\n",
       "    <tr>\n",
       "      <th>COUNT</th>\n",
       "      <th></th>\n",
       "      <th></th>\n",
       "      <th></th>\n",
       "      <th></th>\n",
       "      <th></th>\n",
       "      <th></th>\n",
       "    </tr>\n",
       "  </thead>\n",
       "  <tbody>\n",
       "    <tr>\n",
       "      <th>0</th>\n",
       "      <td>634</td>\n",
       "      <td>634</td>\n",
       "      <td>634</td>\n",
       "      <td>634</td>\n",
       "      <td>634</td>\n",
       "      <td>634</td>\n",
       "    </tr>\n",
       "    <tr>\n",
       "      <th>1</th>\n",
       "      <td>589</td>\n",
       "      <td>589</td>\n",
       "      <td>589</td>\n",
       "      <td>589</td>\n",
       "      <td>589</td>\n",
       "      <td>589</td>\n",
       "    </tr>\n",
       "  </tbody>\n",
       "</table>\n",
       "</div>"
      ],
      "text/plain": [
       "       OPTIONAL  DISTINCT  GRAPH  FILTER  UNION  GROUP\n",
       "COUNT                                                 \n",
       "0           634       634    634     634    634    634\n",
       "1           589       589    589     589    589    589"
      ]
     },
     "execution_count": 42,
     "metadata": {},
     "output_type": "execute_result"
    }
   ],
   "source": [
    "df_keywords.groupby(['COUNT']).count()"
   ]
  },
  {
   "cell_type": "code",
   "execution_count": 43,
   "metadata": {
    "collapsed": false
   },
   "outputs": [
    {
     "data": {
      "text/html": [
       "<div>\n",
       "<table border=\"1\" class=\"dataframe\">\n",
       "  <thead>\n",
       "    <tr style=\"text-align: right;\">\n",
       "      <th></th>\n",
       "      <th>OPTIONAL</th>\n",
       "      <th>COUNT</th>\n",
       "      <th>GRAPH</th>\n",
       "      <th>FILTER</th>\n",
       "      <th>UNION</th>\n",
       "      <th>GROUP</th>\n",
       "    </tr>\n",
       "    <tr>\n",
       "      <th>DISTINCT</th>\n",
       "      <th></th>\n",
       "      <th></th>\n",
       "      <th></th>\n",
       "      <th></th>\n",
       "      <th></th>\n",
       "      <th></th>\n",
       "    </tr>\n",
       "  </thead>\n",
       "  <tbody>\n",
       "    <tr>\n",
       "      <th>0</th>\n",
       "      <td>634</td>\n",
       "      <td>634</td>\n",
       "      <td>634</td>\n",
       "      <td>634</td>\n",
       "      <td>634</td>\n",
       "      <td>634</td>\n",
       "    </tr>\n",
       "    <tr>\n",
       "      <th>1</th>\n",
       "      <td>589</td>\n",
       "      <td>589</td>\n",
       "      <td>589</td>\n",
       "      <td>589</td>\n",
       "      <td>589</td>\n",
       "      <td>589</td>\n",
       "    </tr>\n",
       "  </tbody>\n",
       "</table>\n",
       "</div>"
      ],
      "text/plain": [
       "          OPTIONAL  COUNT  GRAPH  FILTER  UNION  GROUP\n",
       "DISTINCT                                              \n",
       "0              634    634    634     634    634    634\n",
       "1              589    589    589     589    589    589"
      ]
     },
     "execution_count": 43,
     "metadata": {},
     "output_type": "execute_result"
    }
   ],
   "source": [
    "df_keywords.groupby(['DISTINCT']).count()"
   ]
  },
  {
   "cell_type": "code",
   "execution_count": 44,
   "metadata": {
    "collapsed": false
   },
   "outputs": [
    {
     "data": {
      "text/html": [
       "<div>\n",
       "<table border=\"1\" class=\"dataframe\">\n",
       "  <thead>\n",
       "    <tr style=\"text-align: right;\">\n",
       "      <th></th>\n",
       "      <th>OPTIONAL</th>\n",
       "      <th>DISTINCT</th>\n",
       "      <th>COUNT</th>\n",
       "      <th>FILTER</th>\n",
       "      <th>UNION</th>\n",
       "      <th>GROUP</th>\n",
       "    </tr>\n",
       "    <tr>\n",
       "      <th>GRAPH</th>\n",
       "      <th></th>\n",
       "      <th></th>\n",
       "      <th></th>\n",
       "      <th></th>\n",
       "      <th></th>\n",
       "      <th></th>\n",
       "    </tr>\n",
       "  </thead>\n",
       "  <tbody>\n",
       "    <tr>\n",
       "      <th>0</th>\n",
       "      <td>1215</td>\n",
       "      <td>1215</td>\n",
       "      <td>1215</td>\n",
       "      <td>1215</td>\n",
       "      <td>1215</td>\n",
       "      <td>1215</td>\n",
       "    </tr>\n",
       "    <tr>\n",
       "      <th>1</th>\n",
       "      <td>8</td>\n",
       "      <td>8</td>\n",
       "      <td>8</td>\n",
       "      <td>8</td>\n",
       "      <td>8</td>\n",
       "      <td>8</td>\n",
       "    </tr>\n",
       "  </tbody>\n",
       "</table>\n",
       "</div>"
      ],
      "text/plain": [
       "       OPTIONAL  DISTINCT  COUNT  FILTER  UNION  GROUP\n",
       "GRAPH                                                 \n",
       "0          1215      1215   1215    1215   1215   1215\n",
       "1             8         8      8       8      8      8"
      ]
     },
     "execution_count": 44,
     "metadata": {},
     "output_type": "execute_result"
    }
   ],
   "source": [
    "df_keywords.groupby(['GRAPH']).count()"
   ]
  },
  {
   "cell_type": "code",
   "execution_count": 45,
   "metadata": {
    "collapsed": false
   },
   "outputs": [],
   "source": [
    "df_query_complexity = df_query_features[[\"query\", \"bgp\", \"triplePattern\", \"keys\", \"jsonLines\", \"depth\", ]]"
   ]
  },
  {
   "cell_type": "code",
   "execution_count": 52,
   "metadata": {
    "collapsed": false
   },
   "outputs": [
    {
     "data": {
      "image/png": "[encoded data removed]",
      "text/plain": [
       "<matplotlib.figure.Figure at 0x7fe08a6002b0>"
      ]
     },
     "metadata": {},
     "output_type": "display_data"
    }
   ],
   "source": [
    "fig, ax = plt.subplots(1, 2, figsize=(20,10))\n",
    "\n",
    "\n",
    "df_query_complexity[[\"keys\", \"jsonLines\", \"depth\"]].plot(kind='box', logy=True, grid=False, ax=ax[0])\n",
    "df_query_complexity[[\"query\", \"bgp\", \"triplePattern\"]].plot(kind='box', logy=False, grid=False, ax=ax[1])\n",
    "\n",
    "fig.savefig('QueryComplexity.svg', format='svg', bbox_inches='tight', dpi=1200)\n",
    "fig.savefig('QueryComplexity.eps', format='eps', bbox_inches='tight', dpi=1200)"
   ]
  },
  {
   "cell_type": "code",
   "execution_count": 56,
   "metadata": {
    "collapsed": false
   },
   "outputs": [
    {
     "data": {
      "image/png": "[encoded data removed]",
      "text/plain": [
       "<matplotlib.figure.Figure at 0x7fe08a1b6ac8>"
      ]
     },
     "metadata": {},
     "output_type": "display_data"
    }
   ],
   "source": [
    "mpl.rcParams['lines.linewidth'] = '3.0'        # line width in points\n",
    "\n",
    "fig, ax = plt.subplots(1, 3, figsize=(20,8))\n",
    "df_query_complexity[[\"depth\",\"keys\", \"jsonLines\"]].plot(kind='box', logy=True, grid=False, ax=ax[0], ylim=[0,1e4])\n",
    "\n",
    "df_query_complexity[[\"query\", \"bgp\", \"triplePattern\"]].plot(kind='box', logy=False, grid=False, ax=ax[1], ylim=[-0.5,40])\n",
    "\n",
    "df_tp_distribution = df_query_features[[\"tp_???\", \"tp_sp?\", \"tp_?p?\", \"tp_?po\"]]\n",
    "df_tp_distribution.plot(kind='box', ax=ax[2], grid=False, ylim=[-0.5,25])\n",
    "\n",
    "#ax[0].minorticks_on\n",
    "#ax[0].grid(True, which='both')\n",
    "\n",
    "ax[1].set_yticks(np.array([0,2,4,10,15,20,30,40]))\n",
    "ax[2].set_yticks(np.array([0,1,2,3,4,5,10,15,20,25]))\n",
    "\n",
    "fig.savefig('PatternComplexity.svg', format='svg', bbox_inches='tight', dpi=1200)\n",
    "fig.savefig('PatternComplexity.eps', format='eps', bbox_inches='tight', dpi=1200)"
   ]
  },
  {
   "cell_type": "code",
   "execution_count": null,
   "metadata": {
    "collapsed": true
   },
   "outputs": [],
   "source": []
  }
 ],
 "metadata": {
  "kernelspec": {
   "display_name": "Python 3",
   "language": "python",
   "name": "python3"
  },
  "language_info": {
   "codemirror_mode": {
    "name": "ipython",
    "version": 3
   },
   "file_extension": ".py",
   "mimetype": "text/x-python",
   "name": "python",
   "nbconvert_exporter": "python",
   "pygments_lexer": "ipython3",
   "version": "3.4.3"
  }
 },
 "nbformat": 4,
 "nbformat_minor": 0
}
