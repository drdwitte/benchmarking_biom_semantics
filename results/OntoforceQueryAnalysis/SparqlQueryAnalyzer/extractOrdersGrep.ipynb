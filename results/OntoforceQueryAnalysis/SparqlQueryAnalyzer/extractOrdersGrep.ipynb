{
 "cells": [
  {
   "cell_type": "code",
   "execution_count": 1,
   "metadata": {
    "collapsed": true
   },
   "outputs": [],
   "source": [
    "import re"
   ]
  },
  {
   "cell_type": "code",
   "execution_count": 11,
   "metadata": {
    "collapsed": false
   },
   "outputs": [
    {
     "name": "stdout",
     "output_type": "stream",
     "text": [
      "ERROR: \n",
      "\n",
      "Query\torder\n"
     ]
    }
   ],
   "source": [
    "#grep -wn 'order' * > tempOrderFiles\n",
    "#grep -wn '\"in\",' * > tempInOperator\n",
    "#grep -wn 'limit' * > templimits\n",
    "\n",
    "with open('tempOrderFiles','r') as f:\n",
    "\n",
    "    dict_orders = {}\n",
    "    for line in f:\n",
    "        \n",
    "        m = re.match('^([a-z]*).json',line)\n",
    "        \n",
    "        if m is None:\n",
    "            print(\"ERROR: \" + line)\n",
    "        else:\n",
    "            pat  = m.group(1)\n",
    "            if pat in dict_orders:\n",
    "                dict_orders[pat] = dict_orders[pat] + 1\n",
    "            else:\n",
    "                dict_orders[pat] = 1\n",
    "\n",
    "dict_orders\n",
    "\n",
    "with open('orderbycounts.tsv', 'w+') as f:\n",
    "    print('Query\\torder')\n",
    "    for k in dict_orders:\n",
    "        f.write(k + \"\\t\" + str(dict_orders[k]) + \"\\n\")\n",
    "    "
   ]
  },
  {
   "cell_type": "code",
   "execution_count": 13,
   "metadata": {
    "collapsed": false
   },
   "outputs": [
    {
     "name": "stdout",
     "output_type": "stream",
     "text": [
      "Query\torder\n"
     ]
    }
   ],
   "source": [
    "with open('templimits','r') as f:\n",
    "\n",
    "    dict_limits = {}\n",
    "    for line in f:\n",
    "        \n",
    "        m = re.match('^([a-z]*).json',line)\n",
    "        \n",
    "        if m is None:\n",
    "            print(\"ERROR: \" + line)\n",
    "        else:\n",
    "            pat  = m.group(1)\n",
    "            if pat in dict_limits:\n",
    "                dict_limits[pat] = dict_limits[pat] + 1\n",
    "            else:\n",
    "                dict_limits[pat] = 1\n",
    "\n",
    "dict_orders\n",
    "\n",
    "with open('limitcounts.tsv', 'w+') as f:\n",
    "    print('Query\\torder')\n",
    "    for k in dict_limits:\n",
    "        f.write(k + \"\\t\" + str(dict_limits[k]) + \"\\n\")"
   ]
  },
  {
   "cell_type": "code",
   "execution_count": null,
   "metadata": {
    "collapsed": true
   },
   "outputs": [],
   "source": []
  }
 ],
 "metadata": {
  "kernelspec": {
   "display_name": "Python 3",
   "language": "python",
   "name": "python3"
  },
  "language_info": {
   "codemirror_mode": {
    "name": "ipython",
    "version": 3
   },
   "file_extension": ".py",
   "mimetype": "text/x-python",
   "name": "python",
   "nbconvert_exporter": "python",
   "pygments_lexer": "ipython3",
   "version": "3.4.3"
  }
 },
 "nbformat": 4,
 "nbformat_minor": 0
}
