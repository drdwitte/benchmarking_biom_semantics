{
 "cells": [
  {
   "cell_type": "code",
   "execution_count": 1,
   "metadata": {
    "collapsed": true
   },
   "outputs": [],
   "source": [
    "import pandas as pd\n",
    "from pandas import DataFrame, Series\n",
    "#false positive warnings all the time:\n",
    "pd.options.mode.chained_assignment = None\n",
    "\n",
    "%matplotlib inline\n",
    "import matplotlib as mpl\n",
    "import matplotlib.pyplot as plt\n",
    "\n",
    "import numpy as np\n",
    "import statistics\n",
    "\n",
    "import os.path"
   ]
  },
  {
   "cell_type": "code",
   "execution_count": 2,
   "metadata": {
    "collapsed": true
   },
   "outputs": [],
   "source": [
    "#http://matplotlib.org/1.4.0/users/customizing.html\n",
    "\n",
    "plt.style.use('ggplot')\n",
    "\n",
    "mpl.rcParams['font.size'] = 18\n",
    "\n",
    "### LINES\n",
    "mpl.rcParams['lines.linewidth'] = '2.0'        # line width in points\n",
    "mpl.rcParams['lines.marker']    = 'None'\n",
    "mpl.rcParams['lines.markersize']=  '6'          # markersize, in points\n",
    "\n",
    "###LEGEND\n",
    "mpl.rcParams['legend.fontsize']='medium'\n",
    "\n",
    "### GRIDS\n",
    "mpl.rcParams['grid.color']='black'     # grid color\n",
    "mpl.rcParams['grid.linestyle'] =':'    # dotted\n",
    "mpl.rcParams['grid.linewidth']='0.5'   # in points\n",
    "mpl.rcParams['grid.alpha']='1.0'       # transparency, between 0.0 and 1.0\n",
    "\n",
    "### TICKS\n",
    "mpl.rcParams['xtick.labelsize']=\"small\"  # fontsize of the tick labels\n",
    "mpl.rcParams['xtick.direction']=\"out\"      # direction: in, out, or inout\n",
    "mpl.rcParams['ytick.labelsize']=\"small\"   # fontsize of the tick labels\n",
    "mpl.rcParams['ytick.direction']=\"out\"      # direction: in, out, or inout\n",
    "\n",
    "### AXES\n",
    "mpl.rcParams['axes.linewidth']  =  '1.0'    # edge linewidth\n",
    "mpl.rcParams['axes.grid']       =  'True'   # display grid or not\n",
    "mpl.rcParams['axes.titlesize']  =  'large'  # fontsize of the axes title\n",
    "mpl.rcParams['axes.labelsize']  = 'large'  # fontsize of the x any y labels\n",
    "mpl.rcParams['axes.facecolor']= 'white'     # axes background color\n",
    "\n",
    "mpl.rcParams['figure.facecolor']= '1.0'     # figure facecolor; 0.75 is scalar gray"
   ]
  },
  {
   "cell_type": "code",
   "execution_count": 3,
   "metadata": {
    "collapsed": true
   },
   "outputs": [],
   "source": [
    "def generateFilename(bmtuple):\n",
    "    fname = './csv/' +  bmtuple[0] + \"_N\" + str(bmtuple[1]) + \"_\" + str(bmtuple[2]) + \"_\" + bmtuple[3] + \"_\" + bmtuple[4]\n",
    "    if len(str(bmtuple[5])) != 0:\n",
    "        fname = fname + \"_\" + str(bmtuple[5])\n",
    "    return fname + \"_queryevents.csv\"\n",
    "\n",
    "\n",
    "def generateOutputFilename(bmtuple):\n",
    "    fname = './resultsperquery_csv/' +  bmtuple[0] + \"_N\" + str(bmtuple[1]) + \"_\" + str(bmtuple[2]) + \"_\" + bmtuple[3] + \"_\" + bmtuple[4]\n",
    "    if len(str(bmtuple[5])) != 0:\n",
    "        fname = fname + \"_\" + str(bmtuple[5])\n",
    "    return fname + \"_queryresults.csv\"    "
   ]
  },
  {
   "cell_type": "code",
   "execution_count": 4,
   "metadata": {
    "collapsed": true
   },
   "outputs": [],
   "source": [
    "bm_tup = ('Blazegraph', 1, 64, 'Watdiv1000M', 'Optimized', '')\n",
    "\n",
    "filename = generateFilename(bm_tup)"
   ]
  },
  {
   "cell_type": "code",
   "execution_count": 5,
   "metadata": {},
   "outputs": [
    {
     "data": {
      "text/html": [
       "<div>\n",
       "<style>\n",
       "    .dataframe thead tr:only-child th {\n",
       "        text-align: right;\n",
       "    }\n",
       "\n",
       "    .dataframe thead th {\n",
       "        text-align: left;\n",
       "    }\n",
       "\n",
       "    .dataframe tbody tr th {\n",
       "        vertical-align: top;\n",
       "    }\n",
       "</style>\n",
       "<table border=\"1\" class=\"dataframe\">\n",
       "  <thead>\n",
       "    <tr style=\"text-align: right;\">\n",
       "      <th></th>\n",
       "      <th>sim_id</th>\n",
       "      <th>query_name</th>\n",
       "      <th>number_of_results</th>\n",
       "    </tr>\n",
       "  </thead>\n",
       "  <tbody>\n",
       "    <tr>\n",
       "      <th>380</th>\n",
       "      <td>Bla_N1_64_W1000_Opt</td>\n",
       "      <td>S7/S7_split0.sparql</td>\n",
       "      <td>0</td>\n",
       "    </tr>\n",
       "    <tr>\n",
       "      <th>381</th>\n",
       "      <td>Bla_N1_64_W1000_Opt</td>\n",
       "      <td>S7/S7_split1.sparql</td>\n",
       "      <td>0</td>\n",
       "    </tr>\n",
       "    <tr>\n",
       "      <th>382</th>\n",
       "      <td>Bla_N1_64_W1000_Opt</td>\n",
       "      <td>S7/S7_split10.sparql</td>\n",
       "      <td>0</td>\n",
       "    </tr>\n",
       "    <tr>\n",
       "      <th>383</th>\n",
       "      <td>Bla_N1_64_W1000_Opt</td>\n",
       "      <td>S7/S7_split11.sparql</td>\n",
       "      <td>0</td>\n",
       "    </tr>\n",
       "    <tr>\n",
       "      <th>384</th>\n",
       "      <td>Bla_N1_64_W1000_Opt</td>\n",
       "      <td>S7/S7_split12.sparql</td>\n",
       "      <td>0</td>\n",
       "    </tr>\n",
       "    <tr>\n",
       "      <th>385</th>\n",
       "      <td>Bla_N1_64_W1000_Opt</td>\n",
       "      <td>S7/S7_split13.sparql</td>\n",
       "      <td>0</td>\n",
       "    </tr>\n",
       "    <tr>\n",
       "      <th>386</th>\n",
       "      <td>Bla_N1_64_W1000_Opt</td>\n",
       "      <td>S7/S7_split14.sparql</td>\n",
       "      <td>0</td>\n",
       "    </tr>\n",
       "    <tr>\n",
       "      <th>387</th>\n",
       "      <td>Bla_N1_64_W1000_Opt</td>\n",
       "      <td>S7/S7_split15.sparql</td>\n",
       "      <td>2</td>\n",
       "    </tr>\n",
       "    <tr>\n",
       "      <th>388</th>\n",
       "      <td>Bla_N1_64_W1000_Opt</td>\n",
       "      <td>S7/S7_split16.sparql</td>\n",
       "      <td>1</td>\n",
       "    </tr>\n",
       "    <tr>\n",
       "      <th>389</th>\n",
       "      <td>Bla_N1_64_W1000_Opt</td>\n",
       "      <td>S7/S7_split17.sparql</td>\n",
       "      <td>0</td>\n",
       "    </tr>\n",
       "    <tr>\n",
       "      <th>390</th>\n",
       "      <td>Bla_N1_64_W1000_Opt</td>\n",
       "      <td>S7/S7_split18.sparql</td>\n",
       "      <td>0</td>\n",
       "    </tr>\n",
       "    <tr>\n",
       "      <th>391</th>\n",
       "      <td>Bla_N1_64_W1000_Opt</td>\n",
       "      <td>S7/S7_split19.sparql</td>\n",
       "      <td>0</td>\n",
       "    </tr>\n",
       "    <tr>\n",
       "      <th>392</th>\n",
       "      <td>Bla_N1_64_W1000_Opt</td>\n",
       "      <td>S7/S7_split2.sparql</td>\n",
       "      <td>0</td>\n",
       "    </tr>\n",
       "    <tr>\n",
       "      <th>393</th>\n",
       "      <td>Bla_N1_64_W1000_Opt</td>\n",
       "      <td>S7/S7_split3.sparql</td>\n",
       "      <td>0</td>\n",
       "    </tr>\n",
       "    <tr>\n",
       "      <th>394</th>\n",
       "      <td>Bla_N1_64_W1000_Opt</td>\n",
       "      <td>S7/S7_split4.sparql</td>\n",
       "      <td>0</td>\n",
       "    </tr>\n",
       "    <tr>\n",
       "      <th>395</th>\n",
       "      <td>Bla_N1_64_W1000_Opt</td>\n",
       "      <td>S7/S7_split5.sparql</td>\n",
       "      <td>0</td>\n",
       "    </tr>\n",
       "    <tr>\n",
       "      <th>396</th>\n",
       "      <td>Bla_N1_64_W1000_Opt</td>\n",
       "      <td>S7/S7_split6.sparql</td>\n",
       "      <td>0</td>\n",
       "    </tr>\n",
       "    <tr>\n",
       "      <th>397</th>\n",
       "      <td>Bla_N1_64_W1000_Opt</td>\n",
       "      <td>S7/S7_split7.sparql</td>\n",
       "      <td>0</td>\n",
       "    </tr>\n",
       "    <tr>\n",
       "      <th>398</th>\n",
       "      <td>Bla_N1_64_W1000_Opt</td>\n",
       "      <td>S7/S7_split8.sparql</td>\n",
       "      <td>0</td>\n",
       "    </tr>\n",
       "    <tr>\n",
       "      <th>399</th>\n",
       "      <td>Bla_N1_64_W1000_Opt</td>\n",
       "      <td>S7/S7_split9.sparql</td>\n",
       "      <td>2</td>\n",
       "    </tr>\n",
       "  </tbody>\n",
       "</table>\n",
       "</div>"
      ],
      "text/plain": [
       "                  sim_id            query_name  number_of_results\n",
       "380  Bla_N1_64_W1000_Opt   S7/S7_split0.sparql                  0\n",
       "381  Bla_N1_64_W1000_Opt   S7/S7_split1.sparql                  0\n",
       "382  Bla_N1_64_W1000_Opt  S7/S7_split10.sparql                  0\n",
       "383  Bla_N1_64_W1000_Opt  S7/S7_split11.sparql                  0\n",
       "384  Bla_N1_64_W1000_Opt  S7/S7_split12.sparql                  0\n",
       "385  Bla_N1_64_W1000_Opt  S7/S7_split13.sparql                  0\n",
       "386  Bla_N1_64_W1000_Opt  S7/S7_split14.sparql                  0\n",
       "387  Bla_N1_64_W1000_Opt  S7/S7_split15.sparql                  2\n",
       "388  Bla_N1_64_W1000_Opt  S7/S7_split16.sparql                  1\n",
       "389  Bla_N1_64_W1000_Opt  S7/S7_split17.sparql                  0\n",
       "390  Bla_N1_64_W1000_Opt  S7/S7_split18.sparql                  0\n",
       "391  Bla_N1_64_W1000_Opt  S7/S7_split19.sparql                  0\n",
       "392  Bla_N1_64_W1000_Opt   S7/S7_split2.sparql                  0\n",
       "393  Bla_N1_64_W1000_Opt   S7/S7_split3.sparql                  0\n",
       "394  Bla_N1_64_W1000_Opt   S7/S7_split4.sparql                  0\n",
       "395  Bla_N1_64_W1000_Opt   S7/S7_split5.sparql                  0\n",
       "396  Bla_N1_64_W1000_Opt   S7/S7_split6.sparql                  0\n",
       "397  Bla_N1_64_W1000_Opt   S7/S7_split7.sparql                  0\n",
       "398  Bla_N1_64_W1000_Opt   S7/S7_split8.sparql                  0\n",
       "399  Bla_N1_64_W1000_Opt   S7/S7_split9.sparql                  2"
      ]
     },
     "execution_count": 5,
     "metadata": {},
     "output_type": "execute_result"
    }
   ],
   "source": [
    "df = pd.read_csv(filename, sep='\\t')\n",
    "df = df[df['flag'] == 'SUCCESS']\n",
    "grouped =  df.groupby(['sim_id','query_name'], as_index=False)\n",
    "df_num_results =grouped.first()\n",
    "selectedCols = ['sim_id', 'query_name', 'number_of_results']\n",
    "df_num_results = df_num_results[selectedCols]\n",
    "\n",
    "df_num_results.tail(n=20)"
   ]
  },
  {
   "cell_type": "code",
   "execution_count": 6,
   "metadata": {
    "collapsed": true
   },
   "outputs": [],
   "source": [
    "def generateNOfResultsDF(bmtuple):\n",
    "    filename = generateFilename(bmtuple)\n",
    "    \n",
    "    df = pd.read_csv(filename, sep='\\t')\n",
    "    df = df[df['flag'] == 'SUCCESS']\n",
    "    grouped =  df.groupby(['sim_id','query_name'], as_index=False)\n",
    "    df_num_results =grouped.first()\n",
    "    selectedCols = ['sim_id', 'query_name', 'number_of_results']\n",
    "    df_num_results = df_num_results[selectedCols]\n",
    "\n",
    "    df_num_results.to_csv(generateOutputFilename(bmtuple), sep='\\t', index=False)\n",
    "    pass"
   ]
  },
  {
   "cell_type": "markdown",
   "metadata": {},
   "source": [
    "# Number of results for all simulations: \n",
    "\n",
    "## A Enterprise stores Watdiv10M"
   ]
  },
  {
   "cell_type": "code",
   "execution_count": 7,
   "metadata": {
    "collapsed": true
   },
   "outputs": [],
   "source": [
    "tuple_list = [('Blazegraph', 1, 32,'Watdiv10M', 'Default', ''), \\\n",
    "    ('GraphDB', 1, 32,'Watdiv10M', 'Default', ''), \\\n",
    "    ('ES', 1, 32,'Watdiv10M', 'Default', ''), \\\n",
    "    ('Virtuoso', 1, 32,'Watdiv10M', 'Default', '')]  \n",
    "\n",
    "for bmtuple in tuple_list:\n",
    "    generateNOfResultsDF(bmtuple)"
   ]
  },
  {
   "cell_type": "markdown",
   "metadata": {},
   "source": [
    "## B. Enterprise stores Watdiv 100M"
   ]
  },
  {
   "cell_type": "code",
   "execution_count": 8,
   "metadata": {
    "collapsed": true
   },
   "outputs": [],
   "source": [
    "tuple_list = [('Blazegraph', 1, 32,'Watdiv100M', 'Default', ''), \\\n",
    "    ('GraphDB', 1, 32,'Watdiv100M', 'Default', ''), \\\n",
    "#    ('ES', 1, 32,'Watdiv100M', 'Default', ''), \\ MISSING\n",
    "    ('Virtuoso', 1, 32,'Watdiv100M', 'Default', '')]   \n",
    "\n",
    "for bmtuple in tuple_list:\n",
    "    generateNOfResultsDF(bmtuple)"
   ]
  },
  {
   "cell_type": "markdown",
   "metadata": {},
   "source": [
    "## C. Enterprise stores Watdiv 1000M: single node\n"
   ]
  },
  {
   "cell_type": "code",
   "execution_count": 9,
   "metadata": {
    "collapsed": true
   },
   "outputs": [],
   "source": [
    "tuple_list = [('Blazegraph', 1, 32,'Watdiv1000M', 'Default', ''), \\\n",
    "   # ('GraphDB', 1, 32,'Watdiv1000M', 'Default', ''), \\ MISSING FILE\n",
    "    ('ES', 1, 32,'Watdiv1000M', 'Default', ''), \\\n",
    "    ('Virtuoso', 1, 32,'Watdiv1000M', 'Default', ''), \\\n",
    "    ('Blazegraph', 1, 64,'Watdiv1000M', 'Default', ''), \\\n",
    "    ('GraphDB', 1, 64,'Watdiv1000M', 'Default', ''), \\\n",
    "    ('ES', 1, 64,'Watdiv1000M', 'Default', ''), \\\n",
    "    ('Virtuoso', 1, 64,'Watdiv1000M', 'Default', ''), \\\n",
    "    ('Blazegraph', 1, 64,'Watdiv1000M', 'Optimized', ''), \\\n",
    "    ('GraphDB', 1, 64,'Watdiv1000M', 'Optimized', ''), \\\n",
    "    #('ES', 1, 64,'Watdiv1000M', 'Optimized', ''), \\\n",
    "    ('Virtuoso', 1, 64,'Watdiv1000M', 'Optimized', '')] \n",
    "\n",
    "for bmtuple in tuple_list:\n",
    "    generateNOfResultsDF(bmtuple)"
   ]
  },
  {
   "cell_type": "markdown",
   "metadata": {},
   "source": [
    "## D. Enterprise stores Watdiv 1000M: multi-node\n"
   ]
  },
  {
   "cell_type": "code",
   "execution_count": 10,
   "metadata": {
    "collapsed": true
   },
   "outputs": [],
   "source": [
    "tuple_list = [#('Blazegraph', 3, 32,'Watdiv1000M', 'Default', ''), \\\n",
    "    #('GraphDB', 3, 32,'Watdiv1000M', 'Default', ''), \\\n",
    "    ('ES', 3, 32,'Watdiv1000M', 'Default', ''), \\\n",
    "    ('Virtuoso', 3, 32,'Watdiv1000M', 'Default', '')] \n",
    "\n",
    "for bmtuple in tuple_list:\n",
    "    generateNOfResultsDF(bmtuple)"
   ]
  },
  {
   "cell_type": "markdown",
   "metadata": {},
   "source": [
    "## E. Other stores Watdiv \n"
   ]
  },
  {
   "cell_type": "code",
   "execution_count": 11,
   "metadata": {
    "collapsed": true
   },
   "outputs": [],
   "source": [
    "tuple_list = [('Fuseki', 1, 64,'Watdiv100M', 'Default', ''), \\\n",
    "    ('LDF', 1, 64,'Watdiv100M', 'Default', ''), \\\n",
    "    ('LDF', 3, 64,'Watdiv100M', 'Default', ''), \\\n",
    "    ('FluidOps', 3, 64,'Watdiv100M', 'Default', ''), \\\n",
    "    ('Fuseki', 1, 64,'Watdiv1000M', 'Default', ''), \\\n",
    "    ('LDF', 1, 64,'Watdiv1000M', 'Default', ''), \\\n",
    "    ('LDF', 3, 64,'Watdiv1000M', 'Default', ''), \\\n",
    "    ('FluidOps', 1, 64,'Watdiv1000M', 'Default', ''), \\\n",
    "    ('FluidOps', 3, 64,'Watdiv1000M', 'Default', '')]\n",
    "\n",
    "for bmtuple in tuple_list:\n",
    "    generateNOfResultsDF(bmtuple)"
   ]
  },
  {
   "cell_type": "code",
   "execution_count": 12,
   "metadata": {
    "collapsed": true
   },
   "outputs": [],
   "source": [
    "tuple_list = [('Blazegraph', 1, 64,'Ontoforce', 'Optimized', ''), \\\n",
    "    ('GraphDB', 1, 64,'Ontoforce', 'Optimized', ''), \\\n",
    "    ('ES', 1, 64,'Ontoforce', 'Default', ''), \\\n",
    "    ('Virtuoso', 1, 64,'Ontoforce', 'Optimized', ''), \\\n",
    "    ('Virtuoso', 1, 32,'Ontoforce', 'Optimized', ''), \\\n",
    "    ('Virtuoso', 1, 32,'Ontoforce', 'Optimized', 'VWall'), \\\n",
    "    ('Virtuoso', 1, 64,'Ontoforce', 'Optimized', ''), \\\n",
    "    ('Virtuoso', 1, 64,'Ontoforce', 'Optimized', 'VWall'), \\\n",
    "    ('Virtuoso', 3, 64,'Ontoforce', 'Optimized', '0'), \\\n",
    "    ('Virtuoso', 3, 64,'Ontoforce', 'Optimized', '1'), \\\n",
    "    ('Virtuoso', 3, 64,'Ontoforce', 'Optimized', '2'), \\\n",
    "    ('Virtuoso', 3, 64,'Ontoforce', 'Optimized', 'AWS1'), \\\n",
    "    ('Virtuoso', 3, 64,'Ontoforce', 'Optimized', 'AWS2'), \\\n",
    "    ('Virtuoso', 3, 64,'Ontoforce', 'Optimized', 'AWS3'), \\\n",
    "    ('Fuseki', 1, 64,'Ontoforce', 'Default', ''), \\\n",
    "    ('FluidOps', 1, 64,'Ontoforce', 'Default', '1'), \\\n",
    "    ('FluidOps', 1, 64,'Ontoforce', 'Default', '2'), \\\n",
    "    ('FluidOps', 1, 64,'Ontoforce', 'Default', '3'), \\\n",
    "    ('FluidOps', 3, 64,'Ontoforce', 'Default', '1'), \\\n",
    "    ('FluidOps', 3, 64,'Ontoforce', 'Default', '2'), \\\n",
    "    ('FluidOps', 3, 64,'Ontoforce', 'Default', '3')]\n",
    "\n",
    "for bmtuple in tuple_list:\n",
    "    generateNOfResultsDF(bmtuple)"
   ]
  },
  {
   "cell_type": "code",
   "execution_count": null,
   "metadata": {
    "collapsed": true
   },
   "outputs": [],
   "source": []
  }
 ],
 "metadata": {
  "kernelspec": {
   "display_name": "Python 3",
   "language": "python",
   "name": "python3"
  },
  "language_info": {
   "codemirror_mode": {
    "name": "ipython",
    "version": 3
   },
   "file_extension": ".py",
   "mimetype": "text/x-python",
   "name": "python",
   "nbconvert_exporter": "python",
   "pygments_lexer": "ipython3",
   "version": "3.6.3"
  }
 },
 "nbformat": 4,
 "nbformat_minor": 1
}
